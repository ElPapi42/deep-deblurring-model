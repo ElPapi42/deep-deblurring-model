{
  "nbformat": 4,
  "nbformat_minor": 0,
  "metadata": {
    "colab": {
      "name": "TrainingPipeline.ipynb",
      "provenance": [],
      "toc_visible": true
    },
    "kernelspec": {
      "name": "python3",
      "display_name": "Python 3"
    },
    "accelerator": "GPU"
  },
  "cells": [
    {
      "cell_type": "markdown",
      "metadata": {
        "colab_type": "text",
        "id": "1dlnuW3PXug4"
      },
      "source": [
        "This Notebook will present the results of the Exploratory Data Analysis"
      ]
    },
    {
      "cell_type": "markdown",
      "metadata": {
        "id": "RrvHAc8OXfqj",
        "colab_type": "text"
      },
      "source": [
        "# Clone Repository"
      ]
    },
    {
      "cell_type": "code",
      "metadata": {
        "id": "Ftt1Y5NCXk3E",
        "colab_type": "code",
        "outputId": "ce4e4801-2337-4903-d6e2-196d49e043a1",
        "colab": {
          "base_uri": "https://localhost:8080/",
          "height": 67
        }
      },
      "source": [
        "#Executes the cell in bash mode\n",
        "%%bash\n",
        "\n",
        "(\n",
        "if [ ! -d \"/content/deep-deblurring/\" ]; \n",
        "    then \n",
        "        git clone https://github.com/ElPapi42/deep-deblurring;\n",
        "        cd deep-deblurring/\n",
        "    else \n",
        "        cd deep-deblurring/; \n",
        "        git pull; \n",
        "fi;\n",
        "\n",
        "git checkout development\n",
        "cd ..\n",
        ")"
      ],
      "execution_count": 2,
      "outputs": [
        {
          "output_type": "stream",
          "text": [
            "Already up to date.\n",
            "Your branch is up to date with 'origin/preprocess'.\n"
          ],
          "name": "stdout"
        },
        {
          "output_type": "stream",
          "text": [
            "Already on 'preprocess'\n"
          ],
          "name": "stderr"
        }
      ]
    },
    {
      "cell_type": "markdown",
      "metadata": {
        "id": "Lyy74w8vXYPP",
        "colab_type": "text"
      },
      "source": [
        "# Data Download"
      ]
    },
    {
      "cell_type": "code",
      "metadata": {
        "id": "eLhJqYavXXTX",
        "colab_type": "code",
        "outputId": "fff96165-b8f6-4036-e029-d23e74bce659",
        "colab": {
          "base_uri": "https://localhost:8080/",
          "height": 50
        }
      },
      "source": [
        "#Executes the cell in bash mode\n",
        "%%bash\n",
        "\n",
        "python /content/deep-deblurring/deblurrer/scripts/download.py"
      ],
      "execution_count": 4,
      "outputs": [
        {
          "output_type": "stream",
          "text": [
            "Error on download or file already downloaded\n",
            "/content/deep-deblurring/dataset\n"
          ],
          "name": "stdout"
        }
      ]
    }
  ]
}