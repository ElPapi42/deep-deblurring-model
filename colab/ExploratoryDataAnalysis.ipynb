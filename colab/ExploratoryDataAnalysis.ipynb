{
  "nbformat": 4,
  "nbformat_minor": 0,
  "metadata": {
    "colab": {
      "name": "TrainingPipeline.ipynb",
      "provenance": [],
      "authorship_tag": "ABX9TyPTzdz1AQidnsU3kFc2/h24",
      "include_colab_link": true
    },
    "kernelspec": {
      "name": "python3",
      "display_name": "Python 3"
    }
  },
  "cells": [
    {
      "cell_type": "markdown",
      "metadata": {
        "colab_type": "text",
        "id": "view-in-github"
      },
      "source": [
        "<a href=\"https://colab.research.google.com/github/ElPapi42/deep-deblurring/blob/master/TrainingPipeline.ipynb\" target=\"_parent\"><img src=\"https://colab.research.google.com/assets/colab-badge.svg\" alt=\"Open In Colab\"/></a>"
      ]
    },
    {
      "cell_type": "code",
      "metadata": {
        "colab_type": "text",
        "id": "1dlnuW3PXug4"
      },
      "source": [
        "This Notebook will present the results of the Exploratory Data Analysis"
      ]
    }
  ]
}