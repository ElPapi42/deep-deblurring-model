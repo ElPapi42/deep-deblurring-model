{
  "nbformat": 4,
  "nbformat_minor": 0,
  "metadata": {
    "colab": {
      "name": "TrainingPipeline.ipynb",
      "provenance": []
    },
    "kernelspec": {
      "name": "python3",
      "display_name": "Python 3"
    },
    "accelerator": "GPU"
  },
  "cells": [
    {
      "cell_type": "markdown",
      "metadata": {
        "colab_type": "text",
        "id": "1dlnuW3PXug4"
      },
      "source": [
        "This Notebook will present the results of the Exploratory Data Analysis"
      ]
    },
    {
      "cell_type": "markdown",
      "metadata": {
        "id": "RrvHAc8OXfqj",
        "colab_type": "text"
      },
      "source": [
        "# Clone Repository"
      ]
    },
    {
      "cell_type": "code",
      "metadata": {
        "id": "Ftt1Y5NCXk3E",
        "colab_type": "code",
        "outputId": "7eeba551-d10b-4b04-ff5c-ddfab23b0161",
        "colab": {
          "base_uri": "https://localhost:8080/",
          "height": 67
        }
      },
      "source": [
        "# Executes the cell in bash mode\n",
        "%%bash\n",
        "\n",
        "if [ ! -d \"/content/deep-deblurring/\" ]; \n",
        "    then \n",
        "        git clone https://github.com/ElPapi42/deep-deblurring;\n",
        "        cd deep-deblurring/\n",
        "    else \n",
        "        cd deep-deblurring/; \n",
        "        git pull; \n",
        "fi;\n",
        "\n",
        "git checkout development\n",
        "cd .."
      ],
      "execution_count": 1,
      "outputs": [
        {
          "output_type": "stream",
          "text": [
            "Branch 'script_path_fix' set up to track remote branch 'script_path_fix' from 'origin'.\n"
          ],
          "name": "stdout"
        },
        {
          "output_type": "stream",
          "text": [
            "Cloning into 'deep-deblurring'...\n",
            "Switched to a new branch 'script_path_fix'\n"
          ],
          "name": "stderr"
        }
      ]
    },
    {
      "cell_type": "markdown",
      "metadata": {
        "id": "xWHANHmdSYXg",
        "colab_type": "text"
      },
      "source": [
        "# Install Requirements"
      ]
    },
    {
      "cell_type": "code",
      "metadata": {
        "id": "80rBf-xcQTqb",
        "colab_type": "code",
        "colab": {}
      },
      "source": [
        "# Executes the cell in bash mode\n",
        "%%bash\n",
        "\n",
        "pip uninstall -y tensorflow tensor2tensor tensorboard tensorboardcolab tensorflow-datasets tensorflow-estimator tensorflow-gan tensorflow-hub tensorflow-metadata tensorflow-privacy tensorflow-probability\n",
        "\n",
        "pip install colab-env\n",
        "pip install --upgrade grpcio\n",
        "\n",
        "cd deep-deblurring/\n",
        "python setup.py install\n",
        "cd .."
      ],
      "execution_count": 0,
      "outputs": []
    },
    {
      "cell_type": "markdown",
      "metadata": {
        "id": "Lyy74w8vXYPP",
        "colab_type": "text"
      },
      "source": [
        "# Data Download"
      ]
    },
    {
      "cell_type": "code",
      "metadata": {
        "id": "ncKqHg3fP_6j",
        "colab_type": "code",
        "colab": {
          "base_uri": "https://localhost:8080/",
          "height": 121
        },
        "outputId": "e072d310-1dfd-41fe-b91c-64cc3b719802"
      },
      "source": [
        "# Setup credentials from google drive\n",
        "\n",
        "import colab_env"
      ],
      "execution_count": 3,
      "outputs": [
        {
          "output_type": "stream",
          "text": [
            "Go to this URL in a browser: https://accounts.google.com/o/oauth2/auth?client_id=947318989803-6bn6qk8qdgf4n4g3pfee6491hc0brc4i.apps.googleusercontent.com&redirect_uri=urn%3aietf%3awg%3aoauth%3a2.0%3aoob&response_type=code&scope=email%20https%3a%2f%2fwww.googleapis.com%2fauth%2fdocs.test%20https%3a%2f%2fwww.googleapis.com%2fauth%2fdrive%20https%3a%2f%2fwww.googleapis.com%2fauth%2fdrive.photos.readonly%20https%3a%2f%2fwww.googleapis.com%2fauth%2fpeopleapi.readonly\n",
            "\n",
            "Enter your authorization code:\n",
            "··········\n",
            "Mounted at /content/gdrive\n"
          ],
          "name": "stdout"
        }
      ]
    },
    {
      "cell_type": "code",
      "metadata": {
        "id": "eLhJqYavXXTX",
        "colab_type": "code",
        "outputId": "1d9378e3-a7c2-4153-c523-65388ed631c8",
        "colab": {
          "base_uri": "https://localhost:8080/",
          "height": 67
        }
      },
      "source": [
        "# Executes the cell in bash mode\n",
        "%%bash\n",
        "\n",
        "python /content/deep-deblurring/deblurrer/scripts/datasets/compile_all.py"
      ],
      "execution_count": 4,
      "outputs": [
        {
          "output_type": "stream",
          "text": [
            "Downloading blur-dataset.zip to /content/deep-deblurring/datasets/kaggle_blur\n",
            "\n"
          ],
          "name": "stdout"
        },
        {
          "output_type": "stream",
          "text": [
            "\r  0%|          | 0.00/1.49G [00:00<?, ?B/s]\r  0%|          | 5.00M/1.49G [00:00<00:34, 46.8MB/s]\r  2%|▏         | 23.0M/1.49G [00:00<00:26, 60.4MB/s]\r  3%|▎         | 41.0M/1.49G [00:00<00:20, 74.8MB/s]\r  5%|▍         | 73.0M/1.49G [00:00<00:16, 93.6MB/s]\r  6%|▌         | 86.0M/1.49G [00:00<00:18, 81.6MB/s]\r  7%|▋         | 107M/1.49G [00:00<00:14, 100MB/s]  \r  8%|▊         | 121M/1.49G [00:01<00:16, 88.6MB/s]\r 10%|▉         | 147M/1.49G [00:01<00:13, 111MB/s] \r 11%|█         | 163M/1.49G [00:01<00:13, 108MB/s]\r 12%|█▏        | 177M/1.49G [00:01<00:13, 107MB/s]\r 13%|█▎        | 201M/1.49G [00:01<00:13, 103MB/s]\r 15%|█▌        | 233M/1.49G [00:01<00:11, 120MB/s]\r 17%|█▋        | 259M/1.49G [00:01<00:09, 142MB/s]\r 18%|█▊        | 281M/1.49G [00:02<00:08, 160MB/s]\r 20%|█▉        | 305M/1.49G [00:02<00:07, 179MB/s]\r 21%|██▏       | 325M/1.49G [00:02<00:07, 168MB/s]\r 23%|██▎       | 344M/1.49G [00:02<00:08, 141MB/s]\r 24%|██▎       | 360M/1.49G [00:02<00:14, 86.4MB/s]\r 25%|██▍       | 381M/1.49G [00:02<00:11, 105MB/s] \r 26%|██▌       | 396M/1.49G [00:03<00:11, 104MB/s]\r 27%|██▋       | 417M/1.49G [00:03<00:11, 97.0MB/s]\r 28%|██▊       | 429M/1.49G [00:03<00:15, 72.0MB/s]\r 30%|██▉       | 457M/1.49G [00:03<00:12, 90.3MB/s]\r 32%|███▏      | 481M/1.49G [00:03<00:10, 108MB/s] \r 33%|███▎      | 497M/1.49G [00:04<00:10, 103MB/s]\r 35%|███▍      | 527M/1.49G [00:04<00:08, 129MB/s]\r 36%|███▌      | 545M/1.49G [00:04<00:09, 107MB/s]\r 37%|███▋      | 571M/1.49G [00:04<00:07, 131MB/s]\r 39%|███▊      | 590M/1.49G [00:04<00:06, 143MB/s]\r 40%|███▉      | 608M/1.49G [00:04<00:06, 143MB/s]\r 41%|████▏     | 633M/1.49G [00:04<00:06, 146MB/s]\r 43%|████▎     | 650M/1.49G [00:05<00:06, 140MB/s]\r 44%|████▎     | 665M/1.49G [00:05<00:06, 142MB/s]\r 45%|████▌     | 689M/1.49G [00:05<00:05, 158MB/s]\r 46%|████▌     | 706M/1.49G [00:05<00:05, 155MB/s]\r 47%|████▋     | 725M/1.49G [00:05<00:05, 165MB/s]\r 49%|████▉     | 747M/1.49G [00:05<00:04, 178MB/s]\r 50%|█████     | 765M/1.49G [00:05<00:04, 177MB/s]\r 51%|█████▏    | 786M/1.49G [00:05<00:04, 188MB/s]\r 53%|█████▎    | 805M/1.49G [00:06<00:04, 175MB/s]\r 54%|█████▍    | 825M/1.49G [00:06<00:05, 132MB/s]\r 56%|█████▌    | 857M/1.49G [00:06<00:04, 152MB/s]\r 58%|█████▊    | 881M/1.49G [00:06<00:03, 173MB/s]\r 59%|█████▉    | 907M/1.49G [00:06<00:03, 194MB/s]\r 61%|██████    | 929M/1.49G [00:06<00:03, 195MB/s]\r 62%|██████▏   | 953M/1.49G [00:06<00:03, 157MB/s]\r 64%|██████▎   | 971M/1.49G [00:07<00:03, 157MB/s]\r 65%|██████▌   | 994M/1.49G [00:07<00:03, 175MB/s]\r 66%|██████▋   | 0.99G/1.49G [00:07<00:04, 123MB/s]\r 68%|██████▊   | 1.01G/1.49G [00:07<00:03, 144MB/s]\r 69%|██████▉   | 1.03G/1.49G [00:07<00:04, 105MB/s]\r 70%|███████   | 1.05G/1.49G [00:07<00:04, 110MB/s]\r 72%|███████▏  | 1.07G/1.49G [00:08<00:03, 135MB/s]\r 73%|███████▎  | 1.09G/1.49G [00:08<00:03, 140MB/s]\r 75%|███████▍  | 1.11G/1.49G [00:08<00:03, 126MB/s]\r 76%|███████▋  | 1.14G/1.49G [00:08<00:02, 150MB/s]\r 77%|███████▋  | 1.15G/1.49G [00:08<00:02, 137MB/s]\r 79%|███████▊  | 1.17G/1.49G [00:08<00:02, 153MB/s]\r 80%|███████▉  | 1.19G/1.49G [00:08<00:02, 142MB/s]\r 82%|████████▏ | 1.22G/1.49G [00:09<00:02, 129MB/s]\r 84%|████████▍ | 1.25G/1.49G [00:09<00:01, 144MB/s]\r 85%|████████▍ | 1.27G/1.49G [00:09<00:01, 122MB/s]\r 87%|████████▋ | 1.30G/1.49G [00:09<00:01, 121MB/s]\r 88%|████████▊ | 1.31G/1.49G [00:10<00:02, 88.8MB/s]\r 90%|████████▉ | 1.34G/1.49G [00:10<00:01, 107MB/s] \r 91%|█████████ | 1.35G/1.49G [00:10<00:01, 121MB/s]\r 92%|█████████▏| 1.37G/1.49G [00:10<00:01, 124MB/s]\r 93%|█████████▎| 1.39G/1.49G [00:10<00:00, 144MB/s]\r 94%|█████████▍| 1.41G/1.49G [00:10<00:00, 145MB/s]\r 95%|█████████▌| 1.42G/1.49G [00:10<00:00, 140MB/s]\r 97%|█████████▋| 1.45G/1.49G [00:10<00:00, 143MB/s]\r 98%|█████████▊| 1.47G/1.49G [00:11<00:00, 161MB/s]\r100%|██████████| 1.49G/1.49G [00:11<00:00, 143MB/s]\n"
          ],
          "name": "stderr"
        }
      ]
    }
  ]
}