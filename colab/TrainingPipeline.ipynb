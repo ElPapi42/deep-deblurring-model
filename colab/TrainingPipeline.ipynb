{
  "nbformat": 4,
  "nbformat_minor": 0,
  "metadata": {
    "colab": {
      "name": "TrainingPipeline.ipynb",
      "provenance": [],
      "authorship_tag": "ABX9TyPTzdz1AQidnsU3kFc2/h24",
      "include_colab_link": true
    },
    "kernelspec": {
      "name": "python3",
      "display_name": "Python 3"
    }
  },
  "cells": [
    {
      "cell_type": "markdown",
      "metadata": {
        "id": "view-in-github",
        "colab_type": "text"
      },
      "source": [
        "<a href=\"https://colab.research.google.com/github/ElPapi42/deep-deblurring/blob/master/TrainingPipeline.ipynb\" target=\"_parent\"><img src=\"https://colab.research.google.com/assets/colab-badge.svg\" alt=\"Open In Colab\"/></a>"
      ]
    },
    {
      "cell_type": "markdown",
      "metadata": {
        "id": "1dlnuW3PXug4",
        "colab_type": "text"
      },
      "source": [
        "This Notebook will execute the Training Pipeline on Google Colab Compute Resources"
      ]
    }
  ]
}