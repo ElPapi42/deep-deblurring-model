{
  "nbformat": 4,
  "nbformat_minor": 0,
  "metadata": {
    "colab": {
      "name": "TrainingPipeline.ipynb",
      "provenance": [],
      "toc_visible": true
    },
    "kernelspec": {
      "name": "python3",
      "display_name": "Python 3"
    },
    "accelerator": "GPU"
  },
  "cells": [
    {
      "cell_type": "markdown",
      "metadata": {
        "colab_type": "text",
        "id": "1dlnuW3PXug4"
      },
      "source": [
        "This Notebook will present the results of the Exploratory Data Analysis"
      ]
    },
    {
      "cell_type": "markdown",
      "metadata": {
        "id": "RrvHAc8OXfqj",
        "colab_type": "text"
      },
      "source": [
        "# Clone Repository"
      ]
    },
    {
      "cell_type": "code",
      "metadata": {
        "id": "Ftt1Y5NCXk3E",
        "colab_type": "code",
        "outputId": "1bc429b3-4972-4820-9db7-1ce2a6894ffb",
        "colab": {
          "base_uri": "https://localhost:8080/",
          "height": 67
        }
      },
      "source": [
        "# Executes the cell in bash mode\n",
        "%%bash\n",
        "\n",
        "if [ ! -d \"/content/deep-deblurring/\" ]; \n",
        "    then \n",
        "        git clone https://github.com/ElPapi42/deep-deblurring;\n",
        "        cd deep-deblurring/\n",
        "    else \n",
        "        cd deep-deblurring/; \n",
        "        git pull; \n",
        "fi;\n",
        "\n",
        "git checkout development\n",
        "cd .."
      ],
      "execution_count": 1,
      "outputs": [
        {
          "output_type": "stream",
          "text": [
            "Branch 'trainer_refactor' set up to track remote branch 'trainer_refactor' from 'origin'.\n"
          ],
          "name": "stdout"
        },
        {
          "output_type": "stream",
          "text": [
            "Cloning into 'deep-deblurring'...\n",
            "Switched to a new branch 'trainer_refactor'\n"
          ],
          "name": "stderr"
        }
      ]
    },
    {
      "cell_type": "markdown",
      "metadata": {
        "id": "xWHANHmdSYXg",
        "colab_type": "text"
      },
      "source": [
        "# Install Requirements"
      ]
    },
    {
      "cell_type": "code",
      "metadata": {
        "id": "80rBf-xcQTqb",
        "colab_type": "code",
        "colab": {}
      },
      "source": [
        "# Executes the cell in bash mode\n",
        "%%bash\n",
        "\n",
        "pip uninstall -y tensorflow tensor2tensor tensorboard tensorboardcolab tensorflow-datasets tensorflow-estimator tensorflow-gan tensorflow-hub tensorflow-metadata tensorflow-privacy tensorflow-probability\n",
        "\n",
        "pip install colab-env\n",
        "pip install --upgrade grpcio\n",
        "\n",
        "cd deep-deblurring/\n",
        "python setup.py install\n",
        "cd .."
      ],
      "execution_count": 0,
      "outputs": []
    },
    {
      "cell_type": "code",
      "metadata": {
        "id": "AE0xV_oon3CF",
        "colab_type": "code",
        "outputId": "56a31cb0-15fe-4126-c9f4-6b3bd33624ca",
        "colab": {
          "base_uri": "https://localhost:8080/",
          "height": 34
        }
      },
      "source": [
        "%tensorflow_version 2.x"
      ],
      "execution_count": 3,
      "outputs": [
        {
          "output_type": "stream",
          "text": [
            "TensorFlow 2.x selected.\n"
          ],
          "name": "stdout"
        }
      ]
    },
    {
      "cell_type": "code",
      "metadata": {
        "id": "QiHgE11upeFI",
        "colab_type": "code",
        "colab": {}
      },
      "source": [
        "# Add deblurrer package to path\n",
        "\n",
        "import sys\n",
        "sys.path += ['/content/deep-deblurring']"
      ],
      "execution_count": 0,
      "outputs": []
    },
    {
      "cell_type": "markdown",
      "metadata": {
        "id": "Lyy74w8vXYPP",
        "colab_type": "text"
      },
      "source": [
        "# Data Download"
      ]
    },
    {
      "cell_type": "code",
      "metadata": {
        "id": "ncKqHg3fP_6j",
        "colab_type": "code",
        "outputId": "317f7e78-067c-4d25-8375-1b0be471269d",
        "colab": {
          "base_uri": "https://localhost:8080/",
          "height": 121
        }
      },
      "source": [
        "# Setup credentials from google drive\n",
        "\n",
        "import colab_env"
      ],
      "execution_count": 5,
      "outputs": [
        {
          "output_type": "stream",
          "text": [
            "Go to this URL in a browser: https://accounts.google.com/o/oauth2/auth?client_id=947318989803-6bn6qk8qdgf4n4g3pfee6491hc0brc4i.apps.googleusercontent.com&redirect_uri=urn%3aietf%3awg%3aoauth%3a2.0%3aoob&response_type=code&scope=email%20https%3a%2f%2fwww.googleapis.com%2fauth%2fdocs.test%20https%3a%2f%2fwww.googleapis.com%2fauth%2fdrive%20https%3a%2f%2fwww.googleapis.com%2fauth%2fdrive.photos.readonly%20https%3a%2f%2fwww.googleapis.com%2fauth%2fpeopleapi.readonly\n",
            "\n",
            "Enter your authorization code:\n",
            "··········\n",
            "Mounted at /content/gdrive\n"
          ],
          "name": "stdout"
        }
      ]
    },
    {
      "cell_type": "code",
      "metadata": {
        "id": "eLhJqYavXXTX",
        "colab_type": "code",
        "outputId": "e0a7d806-35c9-4a20-8433-6bdff13a1296",
        "colab": {
          "base_uri": "https://localhost:8080/",
          "height": 238
        }
      },
      "source": [
        "# Executes the cell in bash mode\n",
        "%%bash\n",
        "\n",
        "python /content/deep-deblurring/deblurrer/scripts/datasets/compile_all.py"
      ],
      "execution_count": 6,
      "outputs": [
        {
          "output_type": "stream",
          "text": [
            "Downloading kaggle_blur\n",
            "Downloading blur-dataset.zip to /content/deep-deblurring/datasets/kaggle_blur\n",
            "\n",
            "Generating .csv files\n",
            ".csv files successfully generated\n",
            "Generating TFRecords\n",
            "Generating train.csv TFRecords\n",
            "Generating valid.csv TFRecords\n",
            "Generating test.csv TFRecords\n",
            "TFRecords succesfully generated\n"
          ],
          "name": "stdout"
        },
        {
          "output_type": "stream",
          "text": [
            "\r  0%|          | 0.00/1.49G [00:00<?, ?B/s]\r  0%|          | 5.00M/1.49G [00:00<01:21, 19.7MB/s]\r  1%|          | 9.00M/1.49G [00:00<01:14, 21.3MB/s]\r  1%|          | 17.0M/1.49G [00:00<01:04, 24.5MB/s]\r  2%|▏         | 30.0M/1.49G [00:00<00:48, 32.4MB/s]\r  3%|▎         | 49.0M/1.49G [00:01<01:01, 25.0MB/s]\r  4%|▍         | 61.0M/1.49G [00:02<00:46, 32.8MB/s]\r  5%|▌         | 81.0M/1.49G [00:03<01:01, 24.7MB/s]\r  7%|▋         | 108M/1.49G [00:03<00:43, 34.0MB/s] \r  8%|▊         | 120M/1.49G [00:03<00:43, 34.0MB/s]\r  8%|▊         | 129M/1.49G [00:04<00:42, 34.3MB/s]\r  9%|▉         | 145M/1.49G [00:04<00:33, 42.9MB/s]\r 11%|█         | 161M/1.49G [00:04<00:27, 51.3MB/s]\r 11%|█         | 170M/1.49G [00:05<00:47, 29.9MB/s]\r 12%|█▏        | 177M/1.49G [00:05<01:01, 23.0MB/s]\r 13%|█▎        | 205M/1.49G [00:05<00:43, 31.8MB/s]\r 14%|█▍        | 217M/1.49G [00:06<01:08, 19.9MB/s]\r 15%|█▍        | 226M/1.49G [00:07<00:56, 24.3MB/s]\r 16%|█▋        | 249M/1.49G [00:07<00:44, 30.1MB/s]\r 17%|█▋        | 257M/1.49G [00:07<00:38, 34.4MB/s]\r 18%|█▊        | 281M/1.49G [00:07<00:29, 44.8MB/s]\r 19%|█▉        | 290M/1.49G [00:08<00:31, 41.5MB/s]\r 20%|█▉        | 298M/1.49G [00:08<00:55, 23.4MB/s]\r 20%|█▉        | 305M/1.49G [00:08<00:50, 25.4MB/s]\r 21%|██        | 320M/1.49G [00:09<00:37, 33.8MB/s]\r 22%|██▏       | 329M/1.49G [00:09<00:33, 37.9MB/s]\r 23%|██▎       | 345M/1.49G [00:09<00:28, 43.4MB/s]\r 24%|██▎       | 361M/1.49G [00:09<00:25, 47.1MB/s]\r 25%|██▌       | 385M/1.49G [00:10<00:21, 56.6MB/s]\r 26%|██▌       | 393M/1.49G [00:10<00:19, 60.5MB/s]\r 26%|██▋       | 401M/1.49G [00:10<00:21, 54.4MB/s]\r 27%|██▋       | 409M/1.49G [00:10<00:39, 29.8MB/s]\r 29%|██▊       | 437M/1.49G [00:11<00:28, 40.7MB/s]\r 29%|██▉       | 449M/1.49G [00:12<00:54, 20.8MB/s]\r 31%|███▏      | 479M/1.49G [00:12<00:38, 28.9MB/s]\r 32%|███▏      | 494M/1.49G [00:12<00:34, 31.8MB/s]\r 33%|███▎      | 506M/1.49G [00:13<00:32, 33.1MB/s]\r 34%|███▍      | 521M/1.49G [00:13<00:24, 42.2MB/s]\r 35%|███▍      | 531M/1.49G [00:14<00:50, 20.7MB/s]\r 37%|███▋      | 558M/1.49G [00:14<00:35, 28.6MB/s]\r 37%|███▋      | 572M/1.49G [00:14<00:33, 29.7MB/s]\r 38%|███▊      | 583M/1.49G [00:15<00:38, 25.7MB/s]\r 39%|███▉      | 601M/1.49G [00:15<00:28, 34.6MB/s]\r 40%|████      | 612M/1.49G [00:16<00:34, 28.2MB/s]\r 41%|████      | 621M/1.49G [00:16<00:42, 22.2MB/s]\r 42%|████▏     | 648M/1.49G [00:16<00:30, 30.6MB/s]\r 43%|████▎     | 661M/1.49G [00:18<00:44, 20.5MB/s]\r 44%|████▍     | 673M/1.49G [00:18<00:33, 27.0MB/s]\r 45%|████▍     | 683M/1.49G [00:18<00:30, 29.5MB/s]\r 47%|████▋     | 710M/1.49G [00:18<00:21, 40.3MB/s]\r 47%|████▋     | 724M/1.49G [00:19<00:23, 36.0MB/s]\r 48%|████▊     | 735M/1.49G [00:19<00:18, 45.3MB/s]\r 49%|████▉     | 746M/1.49G [00:19<00:15, 51.9MB/s]\r 50%|████▉     | 756M/1.49G [00:19<00:14, 55.4MB/s]\r 50%|█████     | 765M/1.49G [00:19<00:13, 61.2MB/s]\r 51%|█████     | 777M/1.49G [00:19<00:12, 61.5MB/s]\r 52%|█████▏    | 793M/1.49G [00:20<00:11, 67.0MB/s]\r 52%|█████▏    | 801M/1.49G [00:20<00:17, 42.9MB/s]\r 53%|█████▎    | 809M/1.49G [00:20<00:15, 49.2MB/s]\r 54%|█████▍    | 825M/1.49G [00:20<00:11, 62.3MB/s]\r 55%|█████▍    | 835M/1.49G [00:20<00:11, 62.4MB/s]\r 55%|█████▌    | 844M/1.49G [00:20<00:11, 64.4MB/s]\r 56%|█████▌    | 852M/1.49G [00:22<00:35, 19.9MB/s]\r 57%|█████▋    | 873M/1.49G [00:22<00:25, 26.4MB/s]\r 58%|█████▊    | 884M/1.49G [00:22<00:19, 34.2MB/s]\r 58%|█████▊    | 893M/1.49G [00:22<00:16, 39.8MB/s]\r 59%|█████▉    | 905M/1.49G [00:23<00:26, 24.7MB/s]\r 60%|██████    | 921M/1.49G [00:23<00:23, 27.3MB/s]\r 62%|██████▏   | 945M/1.49G [00:24<00:16, 36.3MB/s]\r 63%|██████▎   | 955M/1.49G [00:24<00:13, 45.0MB/s]\r 63%|██████▎   | 964M/1.49G [00:24<00:11, 50.0MB/s]\r 64%|██████▎   | 972M/1.49G [00:24<00:18, 31.1MB/s]\r 64%|██████▍   | 978M/1.49G [00:24<00:16, 35.1MB/s]\r 66%|██████▌   | 0.98G/1.49G [00:25<00:12, 43.0MB/s]\r 66%|██████▌   | 0.99G/1.49G [00:25<00:12, 43.6MB/s]\r 67%|██████▋   | 0.99G/1.49G [00:25<00:14, 36.1MB/s]\r 68%|██████▊   | 1.01G/1.49G [00:25<00:10, 47.9MB/s]\r 69%|██████▊   | 1.02G/1.49G [00:26<00:10, 49.6MB/s]\r 69%|██████▉   | 1.03G/1.49G [00:26<00:10, 46.4MB/s]\r 70%|██████▉   | 1.04G/1.49G [00:27<00:23, 20.4MB/s]\r 72%|███████▏  | 1.07G/1.49G [00:27<00:16, 28.3MB/s]\r 72%|███████▏  | 1.08G/1.49G [00:27<00:14, 29.8MB/s]\r 73%|███████▎  | 1.09G/1.49G [00:27<00:14, 28.9MB/s]\r 74%|███████▍  | 1.10G/1.49G [00:28<00:11, 36.2MB/s]\r 75%|███████▌  | 1.12G/1.49G [00:28<00:09, 43.3MB/s]\r 76%|███████▌  | 1.13G/1.49G [00:28<00:08, 45.1MB/s]\r 78%|███████▊  | 1.16G/1.49G [00:28<00:06, 58.2MB/s]\r 78%|███████▊  | 1.17G/1.49G [00:29<00:06, 54.5MB/s]\r 79%|███████▉  | 1.18G/1.49G [00:29<00:05, 57.5MB/s]\r 79%|███████▉  | 1.18G/1.49G [00:30<00:14, 22.9MB/s]\r 81%|████████▏ | 1.21G/1.49G [00:30<00:10, 29.3MB/s]\r 82%|████████▏ | 1.23G/1.49G [00:30<00:07, 38.6MB/s]\r 83%|████████▎ | 1.24G/1.49G [00:30<00:05, 44.9MB/s]\r 85%|████████▍ | 1.26G/1.49G [00:30<00:04, 59.0MB/s]\r 86%|████████▌ | 1.28G/1.49G [00:32<00:09, 23.3MB/s]\r 87%|████████▋ | 1.30G/1.49G [00:32<00:07, 26.7MB/s]\r 89%|████████▉ | 1.32G/1.49G [00:32<00:04, 36.7MB/s]\r 90%|████████▉ | 1.34G/1.49G [00:33<00:04, 38.1MB/s]\r 90%|█████████ | 1.35G/1.49G [00:33<00:03, 42.7MB/s]\r 91%|█████████▏| 1.36G/1.49G [00:33<00:02, 50.4MB/s]\r 92%|█████████▏| 1.38G/1.49G [00:33<00:02, 51.8MB/s]\r 93%|█████████▎| 1.38G/1.49G [00:34<00:03, 32.0MB/s]\r 94%|█████████▍| 1.40G/1.49G [00:34<00:02, 42.5MB/s]\r 95%|█████████▍| 1.42G/1.49G [00:34<00:02, 39.3MB/s]\r 95%|█████████▌| 1.42G/1.49G [00:35<00:03, 21.4MB/s]\r 97%|█████████▋| 1.45G/1.49G [00:35<00:01, 29.6MB/s]\r 98%|█████████▊| 1.46G/1.49G [00:36<00:00, 34.2MB/s]\r 99%|█████████▉| 1.48G/1.49G [00:36<00:00, 40.4MB/s]\r100%|█████████▉| 1.49G/1.49G [00:36<00:00, 44.9MB/s]\r100%|██████████| 1.49G/1.49G [00:36<00:00, 43.8MB/s]2020-03-23 20:10:31.879416: W tensorflow/core/common_runtime/gpu/gpu_bfc_allocator.cc:39] Overriding allow_growth setting because the TF_FORCE_GPU_ALLOW_GROWTH environment variable is set. Original config value was 0.\n",
            "\n"
          ],
          "name": "stderr"
        }
      ]
    },
    {
      "cell_type": "markdown",
      "metadata": {
        "id": "tadLG-QLxfuw",
        "colab_type": "text"
      },
      "source": [
        "# Hyper-Parameters"
      ]
    },
    {
      "cell_type": "code",
      "metadata": {
        "id": "XstJKbWNxkeD",
        "colab_type": "code",
        "colab": {}
      },
      "source": [
        "import os\n",
        "\n",
        "os.environ['EPOCHS'] = '2'\n",
        "os.environ['BATCH_SIZE'] = '5'\n",
        "os.environ['FPN_CHANNELS'] = '128'\n",
        "os.environ['GEN_LR'] = '0.001'\n",
        "os.environ['DISC_LR'] = '0.001'\n",
        "os.environ['USE_MIXED_PRECISION'] = '0'"
      ],
      "execution_count": 0,
      "outputs": []
    },
    {
      "cell_type": "markdown",
      "metadata": {
        "id": "R7zhQeHhxu6V",
        "colab_type": "text"
      },
      "source": [
        "# Training"
      ]
    },
    {
      "cell_type": "code",
      "metadata": {
        "id": "wekGwrJExuUC",
        "colab_type": "code",
        "outputId": "cd6eeefe-f736-40ad-8619-080ead6c5a42",
        "colab": {
          "base_uri": "https://localhost:8080/",
          "height": 188
        }
      },
      "source": [
        "# Starts training\n",
        "\n",
        "from deblurrer.scripts.training import train\n",
        "\n",
        "gen, disc, gen_opt, disc_opt, strategy = train.run('/content/deep-deblurring/datasets/tfrecords')"
      ],
      "execution_count": 8,
      "outputs": [
        {
          "output_type": "stream",
          "text": [
            "/usr/local/lib/python3.6/dist-packages/keras_applications/mobilenet_v2.py:294: UserWarning: `input_shape` is undefined or non-square, or `rows` is not in [96, 128, 160, 192, 224]. Weights for input shape (224, 224) will be loaded as the default.\n",
            "  warnings.warn('`input_shape` is undefined or non-square, '\n"
          ],
          "name": "stderr"
        },
        {
          "output_type": "stream",
          "text": [
            "Downloading data from https://github.com/JonathanCMitchell/mobilenet_v2_keras/releases/download/v1.1/mobilenet_v2_weights_tf_dim_ordering_tf_kernels_1.0_224_no_top.h5\n",
            "9412608/9406464 [==============================] - 1s 0us/step\n",
            "Downloading data from https://github.com/fchollet/deep-learning-models/releases/download/v0.1/vgg19_weights_tf_dim_ordering_tf_kernels_notop.h5\n",
            "80142336/80134624 [==============================] - 3s 0us/step\n",
            "\n",
            "Epoch 0: [gen_train_loss: 0.565641] [disc_train_loss: 2.454308] [gen_loss: 0.587108] [disc_loss: 2.272982]\n",
            "Epoch 1: [gen_train_loss: 0.559090] [disc_train_loss: 4.329541] [gen_loss: 0.577920] [disc_loss: 5.167005]"
          ],
          "name": "stdout"
        }
      ]
    },
    {
      "cell_type": "code",
      "metadata": {
        "id": "-WXLuHHP1cPL",
        "colab_type": "code",
        "colab": {}
      },
      "source": [
        "gen, disc, gen_opt, disc_opt, strategy = train.run(\n",
        "    '/content/deep-deblurring/datasets/tfrecords',\n",
        "    gen,\n",
        "    disc,\n",
        "    gen_opt,\n",
        "    disc_opt,\n",
        "    strategy,\n",
        ")"
      ],
      "execution_count": 0,
      "outputs": []
    }
  ]
}