{
  "nbformat": 4,
  "nbformat_minor": 0,
  "metadata": {
    "colab": {
      "name": "TrainingPipeline.ipynb",
      "provenance": [],
      "toc_visible": true
    },
    "kernelspec": {
      "name": "python3",
      "display_name": "Python 3"
    },
    "accelerator": "GPU"
  },
  "cells": [
    {
      "cell_type": "markdown",
      "metadata": {
        "colab_type": "text",
        "id": "1dlnuW3PXug4"
      },
      "source": [
        "This Notebook will present the results of the Exploratory Data Analysis"
      ]
    },
    {
      "cell_type": "markdown",
      "metadata": {
        "id": "RrvHAc8OXfqj",
        "colab_type": "text"
      },
      "source": [
        "# Clone Repository"
      ]
    },
    {
      "cell_type": "code",
      "metadata": {
        "id": "Ftt1Y5NCXk3E",
        "colab_type": "code",
        "outputId": "62dcc9bc-0eb5-4e4f-edc2-e39f8741b362",
        "colab": {
          "base_uri": "https://localhost:8080/",
          "height": 67
        }
      },
      "source": [
        "# Executes the cell in bash mode\n",
        "%%bash\n",
        "\n",
        "if [ ! -d \"/content/deep-deblurring/\" ]; \n",
        "    then \n",
        "        git clone https://github.com/ElPapi42/deep-deblurring;\n",
        "        cd deep-deblurring/\n",
        "    else \n",
        "        cd deep-deblurring/; \n",
        "        git pull; \n",
        "fi;\n",
        "\n",
        "git checkout development\n",
        "cd .."
      ],
      "execution_count": 1,
      "outputs": [
        {
          "output_type": "stream",
          "text": [
            "Branch 'trainbook_fix' set up to track remote branch 'trainbook_fix' from 'origin'.\n"
          ],
          "name": "stdout"
        },
        {
          "output_type": "stream",
          "text": [
            "Cloning into 'deep-deblurring'...\n",
            "Switched to a new branch 'trainbook_fix'\n"
          ],
          "name": "stderr"
        }
      ]
    },
    {
      "cell_type": "markdown",
      "metadata": {
        "id": "xWHANHmdSYXg",
        "colab_type": "text"
      },
      "source": [
        "# Install Requirements"
      ]
    },
    {
      "cell_type": "code",
      "metadata": {
        "id": "80rBf-xcQTqb",
        "colab_type": "code",
        "outputId": "a5549062-3888-4702-d4a1-6b63ad3335ab",
        "colab": {
          "base_uri": "https://localhost:8080/",
          "height": 1000
        }
      },
      "source": [
        "# Executes the cell in bash mode\n",
        "%%bash\n",
        "\n",
        "pip uninstall -y tensorflow tensor2tensor tensorboard tensorboardcolab tensorflow-datasets tensorflow-estimator tensorflow-gan tensorflow-hub tensorflow-metadata tensorflow-privacy tensorflow-probability\n",
        "\n",
        "pip install colab-env\n",
        "pip install --upgrade grpcio\n",
        "\n",
        "cd deep-deblurring/\n",
        "python setup.py install\n",
        "cd .."
      ],
      "execution_count": 2,
      "outputs": [
        {
          "output_type": "stream",
          "text": [
            "Uninstalling tensorflow-1.15.0:\n",
            "  Successfully uninstalled tensorflow-1.15.0\n",
            "Uninstalling tensor2tensor-1.14.1:\n",
            "  Successfully uninstalled tensor2tensor-1.14.1\n",
            "Uninstalling tensorboard-1.15.0:\n",
            "  Successfully uninstalled tensorboard-1.15.0\n",
            "Uninstalling tensorboardcolab-0.0.22:\n",
            "  Successfully uninstalled tensorboardcolab-0.0.22\n",
            "Uninstalling tensorflow-datasets-2.1.0:\n",
            "  Successfully uninstalled tensorflow-datasets-2.1.0\n",
            "Uninstalling tensorflow-estimator-1.15.1:\n",
            "  Successfully uninstalled tensorflow-estimator-1.15.1\n",
            "Uninstalling tensorflow-gan-2.0.0:\n",
            "  Successfully uninstalled tensorflow-gan-2.0.0\n",
            "Uninstalling tensorflow-hub-0.7.0:\n",
            "  Successfully uninstalled tensorflow-hub-0.7.0\n",
            "Uninstalling tensorflow-metadata-0.21.1:\n",
            "  Successfully uninstalled tensorflow-metadata-0.21.1\n",
            "Uninstalling tensorflow-privacy-0.2.2:\n",
            "  Successfully uninstalled tensorflow-privacy-0.2.2\n",
            "Uninstalling tensorflow-probability-0.7.0:\n",
            "  Successfully uninstalled tensorflow-probability-0.7.0\n",
            "Collecting colab-env\n",
            "  Downloading https://files.pythonhosted.org/packages/9d/66/1845bc28d685894e6e203cfb2bdd9d19c86926d7a6f765e9497e218ab304/colab-env-0.2.0.tar.gz\n",
            "Collecting python-dotenv<1.0,>=0.10.0\n",
            "  Downloading https://files.pythonhosted.org/packages/7f/ee/e0cd2d8ba548e4c3e8c9e70d76e423b3e8b8e4eec351f51292d828c735d2/python_dotenv-0.12.0-py2.py3-none-any.whl\n",
            "Building wheels for collected packages: colab-env\n",
            "  Building wheel for colab-env (setup.py): started\n",
            "  Building wheel for colab-env (setup.py): finished with status 'done'\n",
            "  Created wheel for colab-env: filename=colab_env-0.2.0-cp36-none-any.whl size=3838 sha256=b8b8d5b3114237a86258b8b122a1b12b99929ccb6d04b77eb2c9ece1b9d2a5c7\n",
            "  Stored in directory: /root/.cache/pip/wheels/81/9c/85/7ec1faca43d1a5df32f33f4e22d5ae91f301a5406779528ead\n",
            "Successfully built colab-env\n",
            "Installing collected packages: python-dotenv, colab-env\n",
            "Successfully installed colab-env-0.2.0 python-dotenv-0.12.0\n",
            "Collecting grpcio\n",
            "  Downloading https://files.pythonhosted.org/packages/28/df/1f8a284a5e5819ae07d50bd76996d6f7208afef7533e4896fa1c6445574f/grpcio-1.27.2-cp36-cp36m-manylinux2010_x86_64.whl (2.7MB)\n",
            "Requirement already satisfied, skipping upgrade: six>=1.5.2 in /usr/local/lib/python3.6/dist-packages (from grpcio) (1.12.0)\n",
            "Installing collected packages: grpcio\n",
            "  Found existing installation: grpcio 1.24.3\n",
            "    Uninstalling grpcio-1.24.3:\n",
            "      Successfully uninstalled grpcio-1.24.3\n",
            "Successfully installed grpcio-1.27.2\n",
            "running install\n",
            "running bdist_egg\n",
            "running egg_info\n",
            "creating deblurrer.egg-info\n",
            "writing deblurrer.egg-info/PKG-INFO\n",
            "writing dependency_links to deblurrer.egg-info/dependency_links.txt\n",
            "writing requirements to deblurrer.egg-info/requires.txt\n",
            "writing top-level names to deblurrer.egg-info/top_level.txt\n",
            "writing manifest file 'deblurrer.egg-info/SOURCES.txt'\n",
            "writing manifest file 'deblurrer.egg-info/SOURCES.txt'\n",
            "installing library code to build/bdist.linux-x86_64/egg\n",
            "running install_lib\n",
            "running build_py\n",
            "creating build\n",
            "creating build/lib\n",
            "creating build/lib/tests\n",
            "copying tests/__init__.py -> build/lib/tests\n",
            "creating build/lib/deblurrer\n",
            "copying deblurrer/__init__.py -> build/lib/deblurrer\n",
            "creating build/lib/tests/model\n",
            "copying tests/model/__init__.py -> build/lib/tests/model\n",
            "copying tests/model/generator_test.py -> build/lib/tests/model\n",
            "copying tests/model/losses_test.py -> build/lib/tests/model\n",
            "copying tests/model/discriminator_test.py -> build/lib/tests/model\n",
            "creating build/lib/deblurrer/scripts\n",
            "copying deblurrer/scripts/__init__.py -> build/lib/deblurrer/scripts\n",
            "creating build/lib/deblurrer/model\n",
            "copying deblurrer/model/__init__.py -> build/lib/deblurrer/model\n",
            "copying deblurrer/model/losses.py -> build/lib/deblurrer/model\n",
            "creating build/lib/deblurrer/scripts/training\n",
            "copying deblurrer/scripts/training/__init__.py -> build/lib/deblurrer/scripts/training\n",
            "copying deblurrer/scripts/training/tester.py -> build/lib/deblurrer/scripts/training\n",
            "copying deblurrer/scripts/training/train.py -> build/lib/deblurrer/scripts/training\n",
            "copying deblurrer/scripts/training/trainer.py -> build/lib/deblurrer/scripts/training\n",
            "copying deblurrer/scripts/training/test.py -> build/lib/deblurrer/scripts/training\n",
            "creating build/lib/deblurrer/scripts/datasets\n",
            "copying deblurrer/scripts/datasets/generate_csv.py -> build/lib/deblurrer/scripts/datasets\n",
            "copying deblurrer/scripts/datasets/__init__.py -> build/lib/deblurrer/scripts/datasets\n",
            "copying deblurrer/scripts/datasets/download.py -> build/lib/deblurrer/scripts/datasets\n",
            "copying deblurrer/scripts/datasets/compile_all.py -> build/lib/deblurrer/scripts/datasets\n",
            "copying deblurrer/scripts/datasets/generate_tfrecord.py -> build/lib/deblurrer/scripts/datasets\n",
            "copying deblurrer/scripts/datasets/kaggle_blur.py -> build/lib/deblurrer/scripts/datasets\n",
            "copying deblurrer/scripts/datasets/generate_dataset.py -> build/lib/deblurrer/scripts/datasets\n",
            "creating build/lib/deblurrer/model/generator\n",
            "copying deblurrer/model/generator/fpn.py -> build/lib/deblurrer/model/generator\n",
            "copying deblurrer/model/generator/__init__.py -> build/lib/deblurrer/model/generator\n",
            "copying deblurrer/model/generator/backbone.py -> build/lib/deblurrer/model/generator\n",
            "copying deblurrer/model/generator/generator.py -> build/lib/deblurrer/model/generator\n",
            "creating build/lib/deblurrer/model/discriminator\n",
            "copying deblurrer/model/discriminator/__init__.py -> build/lib/deblurrer/model/discriminator\n",
            "copying deblurrer/model/discriminator/local.py -> build/lib/deblurrer/model/discriminator\n",
            "copying deblurrer/model/discriminator/discriminator.py -> build/lib/deblurrer/model/discriminator\n",
            "copying deblurrer/model/discriminator/dglobal.py -> build/lib/deblurrer/model/discriminator\n",
            "creating build/lib/deblurrer/colab\n",
            "copying deblurrer/colab/TrainBook.ipynb -> build/lib/deblurrer/colab\n",
            "creating build/bdist.linux-x86_64\n",
            "creating build/bdist.linux-x86_64/egg\n",
            "creating build/bdist.linux-x86_64/egg/tests\n",
            "copying build/lib/tests/__init__.py -> build/bdist.linux-x86_64/egg/tests\n",
            "creating build/bdist.linux-x86_64/egg/tests/model\n",
            "copying build/lib/tests/model/__init__.py -> build/bdist.linux-x86_64/egg/tests/model\n",
            "copying build/lib/tests/model/generator_test.py -> build/bdist.linux-x86_64/egg/tests/model\n",
            "copying build/lib/tests/model/losses_test.py -> build/bdist.linux-x86_64/egg/tests/model\n",
            "copying build/lib/tests/model/discriminator_test.py -> build/bdist.linux-x86_64/egg/tests/model\n",
            "creating build/bdist.linux-x86_64/egg/deblurrer\n",
            "creating build/bdist.linux-x86_64/egg/deblurrer/scripts\n",
            "creating build/bdist.linux-x86_64/egg/deblurrer/scripts/training\n",
            "copying build/lib/deblurrer/scripts/training/__init__.py -> build/bdist.linux-x86_64/egg/deblurrer/scripts/training\n",
            "copying build/lib/deblurrer/scripts/training/tester.py -> build/bdist.linux-x86_64/egg/deblurrer/scripts/training\n",
            "copying build/lib/deblurrer/scripts/training/train.py -> build/bdist.linux-x86_64/egg/deblurrer/scripts/training\n",
            "copying build/lib/deblurrer/scripts/training/trainer.py -> build/bdist.linux-x86_64/egg/deblurrer/scripts/training\n",
            "copying build/lib/deblurrer/scripts/training/test.py -> build/bdist.linux-x86_64/egg/deblurrer/scripts/training\n",
            "copying build/lib/deblurrer/scripts/__init__.py -> build/bdist.linux-x86_64/egg/deblurrer/scripts\n",
            "creating build/bdist.linux-x86_64/egg/deblurrer/scripts/datasets\n",
            "copying build/lib/deblurrer/scripts/datasets/generate_csv.py -> build/bdist.linux-x86_64/egg/deblurrer/scripts/datasets\n",
            "copying build/lib/deblurrer/scripts/datasets/__init__.py -> build/bdist.linux-x86_64/egg/deblurrer/scripts/datasets\n",
            "copying build/lib/deblurrer/scripts/datasets/download.py -> build/bdist.linux-x86_64/egg/deblurrer/scripts/datasets\n",
            "copying build/lib/deblurrer/scripts/datasets/compile_all.py -> build/bdist.linux-x86_64/egg/deblurrer/scripts/datasets\n",
            "copying build/lib/deblurrer/scripts/datasets/generate_tfrecord.py -> build/bdist.linux-x86_64/egg/deblurrer/scripts/datasets\n",
            "copying build/lib/deblurrer/scripts/datasets/kaggle_blur.py -> build/bdist.linux-x86_64/egg/deblurrer/scripts/datasets\n",
            "copying build/lib/deblurrer/scripts/datasets/generate_dataset.py -> build/bdist.linux-x86_64/egg/deblurrer/scripts/datasets\n",
            "copying build/lib/deblurrer/__init__.py -> build/bdist.linux-x86_64/egg/deblurrer\n",
            "creating build/bdist.linux-x86_64/egg/deblurrer/model\n",
            "creating build/bdist.linux-x86_64/egg/deblurrer/model/generator\n",
            "copying build/lib/deblurrer/model/generator/fpn.py -> build/bdist.linux-x86_64/egg/deblurrer/model/generator\n",
            "copying build/lib/deblurrer/model/generator/__init__.py -> build/bdist.linux-x86_64/egg/deblurrer/model/generator\n",
            "copying build/lib/deblurrer/model/generator/backbone.py -> build/bdist.linux-x86_64/egg/deblurrer/model/generator\n",
            "copying build/lib/deblurrer/model/generator/generator.py -> build/bdist.linux-x86_64/egg/deblurrer/model/generator\n",
            "copying build/lib/deblurrer/model/__init__.py -> build/bdist.linux-x86_64/egg/deblurrer/model\n",
            "creating build/bdist.linux-x86_64/egg/deblurrer/model/discriminator\n",
            "copying build/lib/deblurrer/model/discriminator/__init__.py -> build/bdist.linux-x86_64/egg/deblurrer/model/discriminator\n",
            "copying build/lib/deblurrer/model/discriminator/local.py -> build/bdist.linux-x86_64/egg/deblurrer/model/discriminator\n",
            "copying build/lib/deblurrer/model/discriminator/discriminator.py -> build/bdist.linux-x86_64/egg/deblurrer/model/discriminator\n",
            "copying build/lib/deblurrer/model/discriminator/dglobal.py -> build/bdist.linux-x86_64/egg/deblurrer/model/discriminator\n",
            "copying build/lib/deblurrer/model/losses.py -> build/bdist.linux-x86_64/egg/deblurrer/model\n",
            "creating build/bdist.linux-x86_64/egg/deblurrer/colab\n",
            "copying build/lib/deblurrer/colab/TrainBook.ipynb -> build/bdist.linux-x86_64/egg/deblurrer/colab\n",
            "byte-compiling build/bdist.linux-x86_64/egg/tests/__init__.py to __init__.cpython-36.pyc\n",
            "byte-compiling build/bdist.linux-x86_64/egg/tests/model/__init__.py to __init__.cpython-36.pyc\n",
            "byte-compiling build/bdist.linux-x86_64/egg/tests/model/generator_test.py to generator_test.cpython-36.pyc\n",
            "byte-compiling build/bdist.linux-x86_64/egg/tests/model/losses_test.py to losses_test.cpython-36.pyc\n",
            "byte-compiling build/bdist.linux-x86_64/egg/tests/model/discriminator_test.py to discriminator_test.cpython-36.pyc\n",
            "byte-compiling build/bdist.linux-x86_64/egg/deblurrer/scripts/training/__init__.py to __init__.cpython-36.pyc\n",
            "byte-compiling build/bdist.linux-x86_64/egg/deblurrer/scripts/training/tester.py to tester.cpython-36.pyc\n",
            "byte-compiling build/bdist.linux-x86_64/egg/deblurrer/scripts/training/train.py to train.cpython-36.pyc\n",
            "byte-compiling build/bdist.linux-x86_64/egg/deblurrer/scripts/training/trainer.py to trainer.cpython-36.pyc\n",
            "byte-compiling build/bdist.linux-x86_64/egg/deblurrer/scripts/training/test.py to test.cpython-36.pyc\n",
            "byte-compiling build/bdist.linux-x86_64/egg/deblurrer/scripts/__init__.py to __init__.cpython-36.pyc\n",
            "byte-compiling build/bdist.linux-x86_64/egg/deblurrer/scripts/datasets/generate_csv.py to generate_csv.cpython-36.pyc\n",
            "byte-compiling build/bdist.linux-x86_64/egg/deblurrer/scripts/datasets/__init__.py to __init__.cpython-36.pyc\n",
            "byte-compiling build/bdist.linux-x86_64/egg/deblurrer/scripts/datasets/download.py to download.cpython-36.pyc\n",
            "byte-compiling build/bdist.linux-x86_64/egg/deblurrer/scripts/datasets/compile_all.py to compile_all.cpython-36.pyc\n",
            "byte-compiling build/bdist.linux-x86_64/egg/deblurrer/scripts/datasets/generate_tfrecord.py to generate_tfrecord.cpython-36.pyc\n",
            "byte-compiling build/bdist.linux-x86_64/egg/deblurrer/scripts/datasets/kaggle_blur.py to kaggle_blur.cpython-36.pyc\n",
            "byte-compiling build/bdist.linux-x86_64/egg/deblurrer/scripts/datasets/generate_dataset.py to generate_dataset.cpython-36.pyc\n",
            "byte-compiling build/bdist.linux-x86_64/egg/deblurrer/__init__.py to __init__.cpython-36.pyc\n",
            "byte-compiling build/bdist.linux-x86_64/egg/deblurrer/model/generator/fpn.py to fpn.cpython-36.pyc\n",
            "byte-compiling build/bdist.linux-x86_64/egg/deblurrer/model/generator/__init__.py to __init__.cpython-36.pyc\n",
            "byte-compiling build/bdist.linux-x86_64/egg/deblurrer/model/generator/backbone.py to backbone.cpython-36.pyc\n",
            "byte-compiling build/bdist.linux-x86_64/egg/deblurrer/model/generator/generator.py to generator.cpython-36.pyc\n",
            "byte-compiling build/bdist.linux-x86_64/egg/deblurrer/model/__init__.py to __init__.cpython-36.pyc\n",
            "byte-compiling build/bdist.linux-x86_64/egg/deblurrer/model/discriminator/__init__.py to __init__.cpython-36.pyc\n",
            "byte-compiling build/bdist.linux-x86_64/egg/deblurrer/model/discriminator/local.py to local.cpython-36.pyc\n",
            "byte-compiling build/bdist.linux-x86_64/egg/deblurrer/model/discriminator/discriminator.py to discriminator.cpython-36.pyc\n",
            "byte-compiling build/bdist.linux-x86_64/egg/deblurrer/model/discriminator/dglobal.py to dglobal.cpython-36.pyc\n",
            "byte-compiling build/bdist.linux-x86_64/egg/deblurrer/model/losses.py to losses.cpython-36.pyc\n",
            "creating build/bdist.linux-x86_64/egg/EGG-INFO\n",
            "copying deblurrer.egg-info/PKG-INFO -> build/bdist.linux-x86_64/egg/EGG-INFO\n",
            "copying deblurrer.egg-info/SOURCES.txt -> build/bdist.linux-x86_64/egg/EGG-INFO\n",
            "copying deblurrer.egg-info/dependency_links.txt -> build/bdist.linux-x86_64/egg/EGG-INFO\n",
            "copying deblurrer.egg-info/requires.txt -> build/bdist.linux-x86_64/egg/EGG-INFO\n",
            "copying deblurrer.egg-info/top_level.txt -> build/bdist.linux-x86_64/egg/EGG-INFO\n",
            "creating dist\n",
            "creating 'dist/deblurrer-1.0.0-py3.6.egg' and adding 'build/bdist.linux-x86_64/egg' to it\n",
            "removing 'build/bdist.linux-x86_64/egg' (and everything under it)\n",
            "Processing deblurrer-1.0.0-py3.6.egg\n",
            "creating /usr/local/lib/python3.6/dist-packages/deblurrer-1.0.0-py3.6.egg\n",
            "Extracting deblurrer-1.0.0-py3.6.egg to /usr/local/lib/python3.6/dist-packages\n",
            "Adding deblurrer 1.0.0 to easy-install.pth file\n",
            "\n",
            "Installed /usr/local/lib/python3.6/dist-packages/deblurrer-1.0.0-py3.6.egg\n",
            "Processing dependencies for deblurrer==1.0.0\n",
            "Searching for tensorflow>=2.2.0rc0\n",
            "Reading https://pypi.org/simple/tensorflow/\n",
            "Downloading https://files.pythonhosted.org/packages/8f/80/5ccabfe8e69744e1d56595f3bd69711960a934ce15bccf8f4c34e564ac57/tensorflow-2.2.0rc1-cp36-cp36m-manylinux2010_x86_64.whl#sha256=17f7a0bbf2d9aeddcee8b7fb14ece8765f3bc7fe0c07cee9565a4a0135a39b1d\n",
            "Best match: tensorflow 2.2.0rc1\n",
            "Processing tensorflow-2.2.0rc1-cp36-cp36m-manylinux2010_x86_64.whl\n",
            "Installing tensorflow-2.2.0rc1-cp36-cp36m-manylinux2010_x86_64.whl to /usr/local/lib/python3.6/dist-packages\n",
            "Adding tensorflow 2.2.0rc1 to easy-install.pth file\n",
            "Installing estimator_ckpt_converter script to /usr/local/bin\n",
            "Installing saved_model_cli script to /usr/local/bin\n",
            "Installing tensorboard script to /usr/local/bin\n",
            "Installing tf_upgrade_v2 script to /usr/local/bin\n",
            "Installing tflite_convert script to /usr/local/bin\n",
            "Installing toco script to /usr/local/bin\n",
            "Installing toco_from_protos script to /usr/local/bin\n",
            "\n",
            "Installed /usr/local/lib/python3.6/dist-packages/tensorflow-2.2.0rc1-py3.6-linux-x86_64.egg\n",
            "Searching for tensorflow-estimator<2.3.0,>=2.2.0rc0\n",
            "Reading https://pypi.org/simple/tensorflow-estimator/\n",
            "Downloading https://files.pythonhosted.org/packages/24/a1/43056b25b933cd817d383dc04282bdc460d91f6f44faf1e3b6ec7d990d43/tensorflow_estimator-2.2.0rc0-py2.py3-none-any.whl#sha256=c24aba63b33de5db089e66585399e1abefad75038c4aacca8d8d1328ab3e8282\n",
            "Best match: tensorflow-estimator 2.2.0rc0\n",
            "Processing tensorflow_estimator-2.2.0rc0-py2.py3-none-any.whl\n",
            "Installing tensorflow_estimator-2.2.0rc0-py2.py3-none-any.whl to /usr/local/lib/python3.6/dist-packages\n",
            "Adding tensorflow-estimator 2.2.0rc0 to easy-install.pth file\n",
            "\n",
            "Installed /usr/local/lib/python3.6/dist-packages/tensorflow_estimator-2.2.0rc0-py3.6.egg\n",
            "Searching for h5py<2.11.0,>=2.10.0\n",
            "Reading https://pypi.org/simple/h5py/\n",
            "Downloading https://files.pythonhosted.org/packages/60/06/cafdd44889200e5438b897388f3075b52a8ef01f28a17366d91de0fa2d05/h5py-2.10.0-cp36-cp36m-manylinux1_x86_64.whl#sha256=d3c59549f90a891691991c17f8e58c8544060fdf3ccdea267100fa5f561ff62f\n",
            "Best match: h5py 2.10.0\n",
            "Processing h5py-2.10.0-cp36-cp36m-manylinux1_x86_64.whl\n",
            "Installing h5py-2.10.0-cp36-cp36m-manylinux1_x86_64.whl to /usr/local/lib/python3.6/dist-packages\n",
            "Adding h5py 2.10.0 to easy-install.pth file\n",
            "\n",
            "Installed /usr/local/lib/python3.6/dist-packages/h5py-2.10.0-py3.6-linux-x86_64.egg\n",
            "Searching for gast==0.3.3\n",
            "Reading https://pypi.org/simple/gast/\n",
            "Downloading https://files.pythonhosted.org/packages/d6/84/759f5dd23fec8ba71952d97bcc7e2c9d7d63bdc582421f3cd4be845f0c98/gast-0.3.3-py2.py3-none-any.whl#sha256=8f46f5be57ae6889a4e16e2ca113b1703ef17f2b0abceb83793eaba9e1351a45\n",
            "Best match: gast 0.3.3\n",
            "Processing gast-0.3.3-py2.py3-none-any.whl\n",
            "Installing gast-0.3.3-py2.py3-none-any.whl to /usr/local/lib/python3.6/dist-packages\n",
            "Adding gast 0.3.3 to easy-install.pth file\n",
            "\n",
            "Installed /usr/local/lib/python3.6/dist-packages/gast-0.3.3-py3.6.egg\n",
            "Searching for astunparse==1.6.3\n",
            "Reading https://pypi.org/simple/astunparse/\n",
            "Downloading https://files.pythonhosted.org/packages/2b/03/13dde6512ad7b4557eb792fbcf0c653af6076b81e5941d36ec61f7ce6028/astunparse-1.6.3-py2.py3-none-any.whl#sha256=c2652417f2c8b5bb325c885ae329bdf3f86424075c4fd1a128674bc6fba4b8e8\n",
            "Best match: astunparse 1.6.3\n",
            "Processing astunparse-1.6.3-py2.py3-none-any.whl\n",
            "Installing astunparse-1.6.3-py2.py3-none-any.whl to /usr/local/lib/python3.6/dist-packages\n",
            "Adding astunparse 1.6.3 to easy-install.pth file\n",
            "\n",
            "Installed /usr/local/lib/python3.6/dist-packages/astunparse-1.6.3-py3.6.egg\n",
            "Searching for pandas==0.25.3\n",
            "Best match: pandas 0.25.3\n",
            "Adding pandas 0.25.3 to easy-install.pth file\n",
            "\n",
            "Using /usr/local/lib/python3.6/dist-packages\n",
            "Searching for numpy==1.18.2\n",
            "Best match: numpy 1.18.2\n",
            "Adding numpy 1.18.2 to easy-install.pth file\n",
            "Installing f2py script to /usr/local/bin\n",
            "Installing f2py3 script to /usr/local/bin\n",
            "Installing f2py3.6 script to /usr/local/bin\n",
            "\n",
            "Using /usr/local/lib/python3.6/dist-packages\n",
            "Searching for kaggle==1.5.6\n",
            "Best match: kaggle 1.5.6\n",
            "Adding kaggle 1.5.6 to easy-install.pth file\n",
            "Installing kaggle script to /usr/local/bin\n",
            "\n",
            "Using /usr/local/lib/python3.6/dist-packages\n",
            "Searching for grpcio==1.27.2\n",
            "Best match: grpcio 1.27.2\n",
            "Adding grpcio 1.27.2 to easy-install.pth file\n",
            "\n",
            "Using /usr/local/lib/python3.6/dist-packages\n",
            "Searching for python-dateutil==2.8.1\n",
            "Best match: python-dateutil 2.8.1\n",
            "Adding python-dateutil 2.8.1 to easy-install.pth file\n",
            "\n",
            "Using /usr/local/lib/python3.6/dist-packages\n",
            "Searching for pytz==2018.9\n",
            "Best match: pytz 2018.9\n",
            "Adding pytz 2018.9 to easy-install.pth file\n",
            "\n",
            "Using /usr/local/lib/python3.6/dist-packages\n",
            "Searching for wrapt==1.12.1\n",
            "Best match: wrapt 1.12.1\n",
            "Adding wrapt 1.12.1 to easy-install.pth file\n",
            "\n",
            "Using /usr/local/lib/python3.6/dist-packages\n",
            "Searching for wheel==0.34.2\n",
            "Best match: wheel 0.34.2\n",
            "Adding wheel 0.34.2 to easy-install.pth file\n",
            "Installing wheel script to /usr/local/bin\n",
            "\n",
            "Using /usr/local/lib/python3.6/dist-packages\n",
            "Searching for termcolor==1.1.0\n",
            "Best match: termcolor 1.1.0\n",
            "Adding termcolor 1.1.0 to easy-install.pth file\n",
            "\n",
            "Using /usr/local/lib/python3.6/dist-packages\n",
            "Searching for tensorboard==2.1.1\n",
            "Best match: tensorboard 2.1.1\n",
            "Adding tensorboard 2.1.1 to easy-install.pth file\n",
            "Installing tensorboard script to /usr/local/bin\n",
            "\n",
            "Using /usr/local/lib/python3.6/dist-packages\n",
            "Searching for six==1.12.0\n",
            "Best match: six 1.12.0\n",
            "Adding six 1.12.0 to easy-install.pth file\n",
            "\n",
            "Using /usr/local/lib/python3.6/dist-packages\n",
            "Searching for scipy==1.4.1\n",
            "Best match: scipy 1.4.1\n",
            "Adding scipy 1.4.1 to easy-install.pth file\n",
            "\n",
            "Using /usr/local/lib/python3.6/dist-packages\n",
            "Searching for protobuf==3.10.0\n",
            "Best match: protobuf 3.10.0\n",
            "Adding protobuf 3.10.0 to easy-install.pth file\n",
            "\n",
            "Using /usr/local/lib/python3.6/dist-packages\n",
            "Searching for opt-einsum==3.2.0\n",
            "Best match: opt-einsum 3.2.0\n",
            "Adding opt-einsum 3.2.0 to easy-install.pth file\n",
            "\n",
            "Using /usr/local/lib/python3.6/dist-packages\n",
            "Searching for Keras-Preprocessing==1.1.0\n",
            "Best match: Keras-Preprocessing 1.1.0\n",
            "Adding Keras-Preprocessing 1.1.0 to easy-install.pth file\n",
            "\n",
            "Using /usr/local/lib/python3.6/dist-packages\n",
            "Searching for google-pasta==0.2.0\n",
            "Best match: google-pasta 0.2.0\n",
            "Adding google-pasta 0.2.0 to easy-install.pth file\n",
            "\n",
            "Using /usr/local/lib/python3.6/dist-packages\n",
            "Searching for absl-py==0.9.0\n",
            "Best match: absl-py 0.9.0\n",
            "Adding absl-py 0.9.0 to easy-install.pth file\n",
            "\n",
            "Using /usr/local/lib/python3.6/dist-packages\n",
            "Searching for certifi==2019.11.28\n",
            "Best match: certifi 2019.11.28\n",
            "Adding certifi 2019.11.28 to easy-install.pth file\n",
            "\n",
            "Using /usr/local/lib/python3.6/dist-packages\n",
            "Searching for requests==2.21.0\n",
            "Best match: requests 2.21.0\n",
            "Adding requests 2.21.0 to easy-install.pth file\n",
            "\n",
            "Using /usr/local/lib/python3.6/dist-packages\n",
            "Searching for python-slugify==4.0.0\n",
            "Best match: python-slugify 4.0.0\n",
            "Adding python-slugify 4.0.0 to easy-install.pth file\n",
            "Installing slugify script to /usr/local/bin\n",
            "\n",
            "Using /usr/local/lib/python3.6/dist-packages\n",
            "Searching for urllib3==1.24.3\n",
            "Best match: urllib3 1.24.3\n",
            "Adding urllib3 1.24.3 to easy-install.pth file\n",
            "\n",
            "Using /usr/local/lib/python3.6/dist-packages\n",
            "Searching for tqdm==4.38.0\n",
            "Best match: tqdm 4.38.0\n",
            "Adding tqdm 4.38.0 to easy-install.pth file\n",
            "Installing tqdm script to /usr/local/bin\n",
            "\n",
            "Using /usr/local/lib/python3.6/dist-packages\n",
            "Searching for Markdown==3.2.1\n",
            "Best match: Markdown 3.2.1\n",
            "Adding Markdown 3.2.1 to easy-install.pth file\n",
            "Installing markdown_py script to /usr/local/bin\n",
            "\n",
            "Using /usr/local/lib/python3.6/dist-packages\n",
            "Searching for google-auth==1.7.2\n",
            "Best match: google-auth 1.7.2\n",
            "Adding google-auth 1.7.2 to easy-install.pth file\n",
            "\n",
            "Using /usr/local/lib/python3.6/dist-packages\n",
            "Searching for setuptools==46.0.0\n",
            "Best match: setuptools 46.0.0\n",
            "Adding setuptools 46.0.0 to easy-install.pth file\n",
            "Installing easy_install script to /usr/local/bin\n",
            "Installing easy_install-3.8 script to /usr/local/bin\n",
            "\n",
            "Using /usr/local/lib/python3.6/dist-packages\n",
            "Searching for Werkzeug==1.0.0\n",
            "Best match: Werkzeug 1.0.0\n",
            "Adding Werkzeug 1.0.0 to easy-install.pth file\n",
            "\n",
            "Using /usr/local/lib/python3.6/dist-packages\n",
            "Searching for google-auth-oauthlib==0.4.1\n",
            "Best match: google-auth-oauthlib 0.4.1\n",
            "Adding google-auth-oauthlib 0.4.1 to easy-install.pth file\n",
            "Installing google-oauthlib-tool script to /usr/local/bin\n",
            "\n",
            "Using /usr/local/lib/python3.6/dist-packages\n",
            "Searching for chardet==3.0.4\n",
            "Best match: chardet 3.0.4\n",
            "Adding chardet 3.0.4 to easy-install.pth file\n",
            "Installing chardetect script to /usr/local/bin\n",
            "\n",
            "Using /usr/local/lib/python3.6/dist-packages\n",
            "Searching for idna==2.8\n",
            "Best match: idna 2.8\n",
            "Adding idna 2.8 to easy-install.pth file\n",
            "\n",
            "Using /usr/local/lib/python3.6/dist-packages\n",
            "Searching for text-unidecode==1.3\n",
            "Best match: text-unidecode 1.3\n",
            "Adding text-unidecode 1.3 to easy-install.pth file\n",
            "\n",
            "Using /usr/local/lib/python3.6/dist-packages\n",
            "Searching for pyasn1-modules==0.2.8\n",
            "Best match: pyasn1-modules 0.2.8\n",
            "Adding pyasn1-modules 0.2.8 to easy-install.pth file\n",
            "\n",
            "Using /usr/local/lib/python3.6/dist-packages\n",
            "Searching for cachetools==3.1.1\n",
            "Best match: cachetools 3.1.1\n",
            "Adding cachetools 3.1.1 to easy-install.pth file\n",
            "\n",
            "Using /usr/local/lib/python3.6/dist-packages\n",
            "Searching for rsa==4.0\n",
            "Best match: rsa 4.0\n",
            "Adding rsa 4.0 to easy-install.pth file\n",
            "Installing pyrsa-decrypt script to /usr/local/bin\n",
            "Installing pyrsa-encrypt script to /usr/local/bin\n",
            "Installing pyrsa-keygen script to /usr/local/bin\n",
            "Installing pyrsa-priv2pub script to /usr/local/bin\n",
            "Installing pyrsa-sign script to /usr/local/bin\n",
            "Installing pyrsa-verify script to /usr/local/bin\n",
            "\n",
            "Using /usr/local/lib/python3.6/dist-packages\n",
            "Searching for requests-oauthlib==1.3.0\n",
            "Best match: requests-oauthlib 1.3.0\n",
            "Adding requests-oauthlib 1.3.0 to easy-install.pth file\n",
            "\n",
            "Using /usr/local/lib/python3.6/dist-packages\n",
            "Searching for pyasn1==0.4.8\n",
            "Best match: pyasn1 0.4.8\n",
            "Adding pyasn1 0.4.8 to easy-install.pth file\n",
            "\n",
            "Using /usr/local/lib/python3.6/dist-packages\n",
            "Searching for oauthlib==3.1.0\n",
            "Best match: oauthlib 3.1.0\n",
            "Adding oauthlib 3.1.0 to easy-install.pth file\n",
            "\n",
            "Using /usr/local/lib/python3.6/dist-packages\n",
            "Finished processing dependencies for deblurrer==1.0.0\n"
          ],
          "name": "stdout"
        },
        {
          "output_type": "stream",
          "text": [
            "ERROR: tensorflow-federated 0.12.0 requires tensorflow-privacy~=0.2.0, which is not installed.\n",
            "ERROR: tensorflow-federated 0.12.0 has requirement grpcio~=1.24.3, but you'll have grpcio 1.27.2 which is incompatible.\n",
            "ERROR: tensorflow-federated 0.12.0 has requirement tensorflow-addons~=0.7.0, but you'll have tensorflow-addons 0.8.3 which is incompatible.\n",
            "zip_safe flag not set; analyzing archive contents...\n",
            "deblurrer.scripts.datasets.__pycache__.compile_all.cpython-36: module references __file__\n",
            "deblurrer.scripts.datasets.__pycache__.download.cpython-36: module references __file__\n",
            "deblurrer.scripts.datasets.__pycache__.generate_csv.cpython-36: module references __file__\n",
            "deblurrer.scripts.datasets.__pycache__.generate_dataset.cpython-36: module references __file__\n",
            "deblurrer.scripts.datasets.__pycache__.generate_tfrecord.cpython-36: module references __file__\n",
            "deblurrer.scripts.datasets.__pycache__.kaggle_blur.cpython-36: module references __file__\n",
            "deblurrer.scripts.training.__pycache__.train.cpython-36: module references __file__\n"
          ],
          "name": "stderr"
        }
      ]
    },
    {
      "cell_type": "code",
      "metadata": {
        "id": "AE0xV_oon3CF",
        "colab_type": "code",
        "outputId": "3865b032-a6df-4545-d33d-84e3679614b2",
        "colab": {
          "base_uri": "https://localhost:8080/",
          "height": 34
        }
      },
      "source": [
        "%tensorflow_version 2.x"
      ],
      "execution_count": 3,
      "outputs": [
        {
          "output_type": "stream",
          "text": [
            "TensorFlow 2.x selected.\n"
          ],
          "name": "stdout"
        }
      ]
    },
    {
      "cell_type": "code",
      "metadata": {
        "id": "QiHgE11upeFI",
        "colab_type": "code",
        "colab": {}
      },
      "source": [
        "# Add deblurrer package to path\n",
        "\n",
        "import sys\n",
        "sys.path += ['/content/deep-deblurring']"
      ],
      "execution_count": 0,
      "outputs": []
    },
    {
      "cell_type": "markdown",
      "metadata": {
        "id": "Lyy74w8vXYPP",
        "colab_type": "text"
      },
      "source": [
        "# Data Download"
      ]
    },
    {
      "cell_type": "code",
      "metadata": {
        "id": "ncKqHg3fP_6j",
        "colab_type": "code",
        "outputId": "d1ee2de5-edd4-4881-df49-ddd394edd596",
        "colab": {
          "base_uri": "https://localhost:8080/",
          "height": 121
        }
      },
      "source": [
        "# Setup credentials from google drive\n",
        "\n",
        "import colab_env"
      ],
      "execution_count": 5,
      "outputs": [
        {
          "output_type": "stream",
          "text": [
            "Go to this URL in a browser: https://accounts.google.com/o/oauth2/auth?client_id=947318989803-6bn6qk8qdgf4n4g3pfee6491hc0brc4i.apps.googleusercontent.com&redirect_uri=urn%3aietf%3awg%3aoauth%3a2.0%3aoob&response_type=code&scope=email%20https%3a%2f%2fwww.googleapis.com%2fauth%2fdocs.test%20https%3a%2f%2fwww.googleapis.com%2fauth%2fdrive%20https%3a%2f%2fwww.googleapis.com%2fauth%2fdrive.photos.readonly%20https%3a%2f%2fwww.googleapis.com%2fauth%2fpeopleapi.readonly\n",
            "\n",
            "Enter your authorization code:\n",
            "··········\n",
            "Mounted at /content/gdrive\n"
          ],
          "name": "stdout"
        }
      ]
    },
    {
      "cell_type": "code",
      "metadata": {
        "id": "eLhJqYavXXTX",
        "colab_type": "code",
        "outputId": "cfe30573-5335-4d8a-d49e-ba9ba60d0d7c",
        "colab": {
          "base_uri": "https://localhost:8080/",
          "height": 238
        }
      },
      "source": [
        "# Executes the cell in bash mode\n",
        "%%bash\n",
        "\n",
        "python /content/deep-deblurring/deblurrer/scripts/datasets/compile_all.py"
      ],
      "execution_count": 6,
      "outputs": [
        {
          "output_type": "stream",
          "text": [
            "Downloading kaggle_blur\n",
            "Downloading blur-dataset.zip to /content/deep-deblurring/datasets/kaggle_blur\n",
            "\n",
            "Generating .csv files\n",
            ".csv files successfully generated\n",
            "Generating TFRecords\n",
            "Generating train.csv TFRecords\n",
            "Generating valid.csv TFRecords\n",
            "Generating test.csv TFRecords\n",
            "TFRecords succesfully generated\n"
          ],
          "name": "stdout"
        },
        {
          "output_type": "stream",
          "text": [
            "\r  0%|          | 0.00/1.49G [00:00<?, ?B/s]\r  0%|          | 5.00M/1.49G [00:00<02:12, 12.0MB/s]\r  1%|          | 9.00M/1.49G [00:00<01:45, 15.1MB/s]\r  2%|▏         | 31.0M/1.49G [00:00<01:14, 20.9MB/s]\r  3%|▎         | 39.0M/1.49G [00:01<01:11, 21.8MB/s]\r  3%|▎         | 45.0M/1.49G [00:01<01:00, 25.5MB/s]\r  3%|▎         | 51.0M/1.49G [00:01<01:09, 22.1MB/s]\r  4%|▎         | 57.0M/1.49G [00:02<01:33, 16.5MB/s]\r  5%|▌         | 81.0M/1.49G [00:02<01:06, 22.7MB/s]\r  6%|▌         | 89.0M/1.49G [00:02<01:07, 22.4MB/s]\r  6%|▋         | 97.0M/1.49G [00:03<01:22, 18.1MB/s]\r  8%|▊         | 118M/1.49G [00:03<00:59, 25.0MB/s] \r  8%|▊         | 129M/1.49G [00:03<00:59, 24.7MB/s]\r  9%|▉         | 137M/1.49G [00:04<00:53, 27.1MB/s]\r 10%|█         | 160M/1.49G [00:04<00:38, 36.9MB/s]\r 11%|█▏        | 172M/1.49G [00:04<00:41, 33.8MB/s]\r 12%|█▏        | 181M/1.49G [00:05<00:56, 25.0MB/s]\r 13%|█▎        | 199M/1.49G [00:05<00:41, 33.7MB/s]\r 14%|█▎        | 209M/1.49G [00:05<00:44, 30.7MB/s]\r 15%|█▍        | 225M/1.49G [00:06<00:51, 26.6MB/s]\r 16%|█▌        | 248M/1.49G [00:06<00:37, 36.2MB/s]\r 17%|█▋        | 259M/1.49G [00:08<01:16, 17.3MB/s]\r 18%|█▊        | 282M/1.49G [00:08<00:54, 24.0MB/s]\r 19%|█▉        | 295M/1.49G [00:08<00:51, 24.9MB/s]\r 20%|█▉        | 305M/1.49G [00:09<01:15, 17.0MB/s]\r 22%|██▏       | 329M/1.49G [00:10<00:59, 21.0MB/s]\r 22%|██▏       | 337M/1.49G [00:10<00:51, 24.1MB/s]\r 23%|██▎       | 345M/1.49G [00:10<00:48, 25.7MB/s]\r 24%|██▍       | 366M/1.49G [00:11<00:34, 34.9MB/s]\r 25%|██▍       | 376M/1.49G [00:11<00:30, 39.4MB/s]\r 25%|██▌       | 385M/1.49G [00:11<00:42, 28.1MB/s]\r 26%|██▋       | 401M/1.49G [00:11<00:32, 36.2MB/s]\r 27%|██▋       | 409M/1.49G [00:12<00:36, 31.7MB/s]\r 27%|██▋       | 417M/1.49G [00:12<00:32, 36.3MB/s]\r 28%|██▊       | 425M/1.49G [00:12<00:28, 39.9MB/s]\r 29%|██▉       | 441M/1.49G [00:12<00:25, 44.3MB/s]\r 29%|██▉       | 449M/1.49G [00:13<00:38, 29.7MB/s]\r 31%|███       | 472M/1.49G [00:13<00:27, 40.3MB/s]\r 32%|███▏      | 482M/1.49G [00:13<00:32, 33.4MB/s]\r 32%|███▏      | 490M/1.49G [00:14<00:28, 37.6MB/s]\r 33%|███▎      | 505M/1.49G [00:14<00:22, 46.7MB/s]\r 34%|███▎      | 513M/1.49G [00:14<00:24, 44.0MB/s]\r 34%|███▍      | 521M/1.49G [00:14<00:29, 35.7MB/s]\r 35%|███▌      | 537M/1.49G [00:15<00:25, 41.5MB/s]\r 36%|███▌      | 553M/1.49G [00:15<00:22, 44.9MB/s]\r 37%|███▋      | 569M/1.49G [00:15<00:26, 38.2MB/s]\r 39%|███▊      | 590M/1.49G [00:16<00:19, 50.7MB/s]\r 39%|███▉      | 601M/1.49G [00:16<00:25, 38.6MB/s]\r 40%|███▉      | 609M/1.49G [00:16<00:29, 32.9MB/s]\r 40%|████      | 617M/1.49G [00:17<00:29, 32.4MB/s]\r 42%|████▏     | 641M/1.49G [00:17<00:23, 39.7MB/s]\r 43%|████▎     | 649M/1.49G [00:17<00:23, 38.8MB/s]\r 43%|████▎     | 657M/1.49G [00:17<00:20, 45.4MB/s]\r 44%|████▍     | 673M/1.49G [00:19<00:34, 25.7MB/s]\r 46%|████▌     | 697M/1.49G [00:19<00:24, 35.2MB/s]\r 46%|████▋     | 708M/1.49G [00:19<00:26, 32.5MB/s]\r 47%|████▋     | 721M/1.49G [00:19<00:22, 36.9MB/s]\r 48%|████▊     | 737M/1.49G [00:20<00:19, 41.7MB/s]\r 49%|████▉     | 745M/1.49G [00:20<00:19, 42.1MB/s]\r 50%|████▉     | 761M/1.49G [00:20<00:15, 51.7MB/s]\r 50%|█████     | 769M/1.49G [00:20<00:16, 47.6MB/s]\r 51%|█████     | 777M/1.49G [00:20<00:15, 49.8MB/s]\r 52%|█████▏    | 792M/1.49G [00:20<00:12, 62.5MB/s]\r 52%|█████▏    | 801M/1.49G [00:22<00:37, 20.5MB/s]\r 54%|█████▍    | 823M/1.49G [00:22<00:26, 28.1MB/s]\r 55%|█████▍    | 834M/1.49G [00:23<00:33, 21.5MB/s]\r 56%|█████▌    | 856M/1.49G [00:23<00:23, 29.5MB/s]\r 57%|█████▋    | 869M/1.49G [00:23<00:23, 29.1MB/s]\r 58%|█████▊    | 879M/1.49G [00:23<00:18, 36.3MB/s]\r 58%|█████▊    | 889M/1.49G [00:24<00:19, 33.8MB/s]\r 59%|█████▉    | 897M/1.49G [00:24<00:16, 40.4MB/s]\r 60%|█████▉    | 913M/1.49G [00:24<00:15, 42.1MB/s]\r 60%|██████    | 921M/1.49G [00:24<00:14, 44.6MB/s]\r 61%|██████    | 929M/1.49G [00:24<00:12, 51.9MB/s]\r 62%|██████▏   | 940M/1.49G [00:24<00:09, 62.1MB/s]\r 62%|██████▏   | 948M/1.49G [00:25<00:11, 55.1MB/s]\r 63%|██████▎   | 955M/1.49G [00:25<00:10, 55.7MB/s]\r 63%|██████▎   | 962M/1.49G [00:25<00:10, 55.7MB/s]\r 63%|██████▎   | 969M/1.49G [00:26<00:22, 25.6MB/s]\r 65%|██████▌   | 996M/1.49G [00:26<00:15, 35.2MB/s]\r 66%|██████▌   | 0.98G/1.49G [00:26<00:17, 31.1MB/s]\r 67%|██████▋   | 0.99G/1.49G [00:26<00:18, 29.1MB/s]\r 68%|██████▊   | 1.01G/1.49G [00:27<00:13, 39.1MB/s]\r 69%|██████▊   | 1.02G/1.49G [00:27<00:14, 34.1MB/s]\r 69%|██████▉   | 1.03G/1.49G [00:27<00:11, 41.4MB/s]\r 70%|██████▉   | 1.04G/1.49G [00:27<00:09, 52.3MB/s]\r 71%|███████   | 1.05G/1.49G [00:27<00:09, 48.3MB/s]\r 71%|███████   | 1.06G/1.49G [00:28<00:10, 42.7MB/s]\r 72%|███████▏  | 1.08G/1.49G [00:29<00:13, 32.8MB/s]\r 74%|███████▍  | 1.10G/1.49G [00:29<00:09, 44.0MB/s]\r 74%|███████▍  | 1.11G/1.49G [00:29<00:10, 37.4MB/s]\r 76%|███████▌  | 1.13G/1.49G [00:29<00:08, 46.9MB/s]\r 76%|███████▋  | 1.14G/1.49G [00:29<00:06, 58.0MB/s]\r 77%|███████▋  | 1.15G/1.49G [00:30<00:09, 37.9MB/s]\r 78%|███████▊  | 1.17G/1.49G [00:30<00:07, 48.3MB/s]\r 79%|███████▉  | 1.17G/1.49G [00:31<00:11, 28.6MB/s]\r 80%|████████  | 1.20G/1.49G [00:31<00:08, 38.7MB/s]\r 81%|████████  | 1.21G/1.49G [00:31<00:07, 39.0MB/s]\r 82%|████████▏ | 1.22G/1.49G [00:32<00:12, 24.2MB/s]\r 83%|████████▎ | 1.24G/1.49G [00:32<00:08, 33.1MB/s]\r 84%|████████▍ | 1.25G/1.49G [00:33<00:13, 19.3MB/s]\r 85%|████████▌ | 1.27G/1.49G [00:33<00:08, 26.6MB/s]\r 86%|████████▋ | 1.29G/1.49G [00:34<00:07, 28.3MB/s]\r 87%|████████▋ | 1.30G/1.49G [00:34<00:07, 29.1MB/s]\r 88%|████████▊ | 1.31G/1.49G [00:35<00:05, 33.2MB/s]\r 89%|████████▉ | 1.33G/1.49G [00:35<00:03, 43.8MB/s]\r 90%|████████▉ | 1.34G/1.49G [00:35<00:03, 47.7MB/s]\r 90%|█████████ | 1.35G/1.49G [00:35<00:04, 37.2MB/s]\r 92%|█████████▏| 1.37G/1.49G [00:35<00:02, 47.5MB/s]\r 92%|█████████▏| 1.38G/1.49G [00:37<00:07, 16.8MB/s]\r 93%|█████████▎| 1.39G/1.49G [00:37<00:04, 22.8MB/s]\r 94%|█████████▍| 1.41G/1.49G [00:37<00:03, 25.9MB/s]\r 95%|█████████▍| 1.42G/1.49G [00:38<00:04, 18.3MB/s]\r 96%|█████████▌| 1.43G/1.49G [00:38<00:02, 25.2MB/s]\r 97%|█████████▋| 1.45G/1.49G [00:39<00:01, 29.6MB/s]\r 98%|█████████▊| 1.45G/1.49G [00:39<00:01, 35.5MB/s]\r 98%|█████████▊| 1.46G/1.49G [00:39<00:00, 40.1MB/s]\r 99%|█████████▊| 1.47G/1.49G [00:40<00:01, 17.6MB/s]\r100%|█████████▉| 1.49G/1.49G [00:40<00:00, 22.4MB/s]\r100%|██████████| 1.49G/1.49G [00:40<00:00, 39.3MB/s]2020-03-19 19:41:34.783713: W tensorflow/core/common_runtime/gpu/gpu_bfc_allocator.cc:39] Overriding allow_growth setting because the TF_FORCE_GPU_ALLOW_GROWTH environment variable is set. Original config value was 0.\n",
            "\n"
          ],
          "name": "stderr"
        }
      ]
    },
    {
      "cell_type": "markdown",
      "metadata": {
        "id": "tadLG-QLxfuw",
        "colab_type": "text"
      },
      "source": [
        "# Hyper-Parameters"
      ]
    },
    {
      "cell_type": "code",
      "metadata": {
        "id": "XstJKbWNxkeD",
        "colab_type": "code",
        "colab": {}
      },
      "source": [
        "import os\n",
        "\n",
        "os.environ['EPOCHS'] = '10'\n",
        "os.environ['BATCH_SIZE'] = '4'\n",
        "os.environ['FPN_CHANNELS'] = '128'\n",
        "os.environ['GEN_LR'] = '0.001'\n",
        "os.environ['DISC_LR'] = '0.001'\n",
        "os.environ['USE_MIXED_PRECISION'] = '0'"
      ],
      "execution_count": 0,
      "outputs": []
    },
    {
      "cell_type": "markdown",
      "metadata": {
        "id": "R7zhQeHhxu6V",
        "colab_type": "text"
      },
      "source": [
        "# Training"
      ]
    },
    {
      "cell_type": "code",
      "metadata": {
        "id": "wekGwrJExuUC",
        "colab_type": "code",
        "outputId": "a4856e24-14cd-4306-b715-6d6f0c04f2ab",
        "colab": {
          "base_uri": "https://localhost:8080/",
          "height": 406
        }
      },
      "source": [
        "# Starts training\n",
        "\n",
        "from deblurrer.scripts.training import train\n",
        "\n",
        "gen, disc, gen_opt, disc_opt = train.run('/content/deep-deblurring/datasets/tfrecords')"
      ],
      "execution_count": 8,
      "outputs": [
        {
          "output_type": "stream",
          "text": [
            "INFO:tensorflow:Using MirroredStrategy with devices ('/job:localhost/replica:0/task:0/device:GPU:0',)\n"
          ],
          "name": "stdout"
        },
        {
          "output_type": "stream",
          "text": [
            "/usr/local/lib/python3.6/dist-packages/keras_applications/mobilenet_v2.py:294: UserWarning: `input_shape` is undefined or non-square, or `rows` is not in [96, 128, 160, 192, 224]. Weights for input shape (224, 224) will be loaded as the default.\n",
            "  warnings.warn('`input_shape` is undefined or non-square, '\n"
          ],
          "name": "stderr"
        },
        {
          "output_type": "stream",
          "text": [
            "Downloading data from https://github.com/JonathanCMitchell/mobilenet_v2_keras/releases/download/v1.1/mobilenet_v2_weights_tf_dim_ordering_tf_kernels_1.0_224_no_top.h5\n",
            "9412608/9406464 [==============================] - 2s 0us/step\n",
            "Downloading data from https://github.com/fchollet/deep-learning-models/releases/download/v0.1/vgg19_weights_tf_dim_ordering_tf_kernels_notop.h5\n",
            "80142336/80134624 [==============================] - 6s 0us/step\n",
            "\n",
            "Epoch 0: [gen_train_loss: 0.594350] [disc_train_loss: 3.236137] [gen_loss: 0.602837] [disc_loss: 3.021206]\n",
            "Epoch 1: [gen_train_loss: 0.602837] [disc_train_loss: 3.025279] [gen_loss: 0.602837] [disc_loss: 3.016521]\n",
            "Epoch 2: [gen_train_loss: 0.602837] [disc_train_loss: 3.005472] [gen_loss: 0.602837] [disc_loss: 3.000169]\n",
            "Epoch 3: [gen_train_loss: 0.602762] [disc_train_loss: 3.008242] [gen_loss: 0.602837] [disc_loss: 3.005320]\n",
            "Epoch 4: [gen_train_loss: 0.602837] [disc_train_loss: 3.012573] [gen_loss: 0.602837] [disc_loss: 3.012010]\n",
            "Epoch 5: [gen_train_loss: 0.602837] [disc_train_loss: 3.006514] [gen_loss: 0.602837] [disc_loss: 3.003963]\n",
            "Epoch 6: [gen_train_loss: 0.602837] [disc_train_loss: 3.001661] [gen_loss: 0.602837] [disc_loss: 3.000598]\n",
            "Epoch 7: [gen_train_loss: 0.602837] [disc_train_loss: 3.000571] [gen_loss: 0.602837] [disc_loss: 3.000570]\n",
            "Epoch 8: [gen_train_loss: 0.602837] [disc_train_loss: 3.000577] [gen_loss: 0.602837] [disc_loss: 3.000569]\n",
            "Epoch 9: [gen_train_loss: 0.602837] [disc_train_loss: 3.000569] [gen_loss: 0.602837] [disc_loss: 3.000569]"
          ],
          "name": "stdout"
        },
        {
          "output_type": "execute_result",
          "data": {
            "text/plain": [
              "(<deblurrer.model.generator.generator.FPNGenerator at 0x7fd3823c7e10>,\n",
              " <deblurrer.model.discriminator.discriminator.DoubleScaleDiscriminator at 0x7fd36c228be0>,\n",
              " <tensorflow.python.keras.optimizer_v2.adam.Adam at 0x7fd36bcf4198>,\n",
              " <tensorflow.python.keras.optimizer_v2.adam.Adam at 0x7fd36bcf41d0>)"
            ]
          },
          "metadata": {
            "tags": []
          },
          "execution_count": 8
        }
      ]
    }
  ]
}