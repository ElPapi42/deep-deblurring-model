{
  "nbformat": 4,
  "nbformat_minor": 0,
  "metadata": {
    "colab": {
      "name": "TrainingPipeline.ipynb",
      "provenance": [],
      "toc_visible": true
    },
    "kernelspec": {
      "name": "python3",
      "display_name": "Python 3"
    },
    "accelerator": "TPU"
  },
  "cells": [
    {
      "cell_type": "markdown",
      "metadata": {
        "colab_type": "text",
        "id": "1dlnuW3PXug4"
      },
      "source": [
        "This Notebook will present the results of the Exploratory Data Analysis"
      ]
    },
    {
      "cell_type": "markdown",
      "metadata": {
        "id": "RrvHAc8OXfqj",
        "colab_type": "text"
      },
      "source": [
        "# Clone Repository"
      ]
    },
    {
      "cell_type": "code",
      "metadata": {
        "id": "Ftt1Y5NCXk3E",
        "colab_type": "code",
        "outputId": "558abee6-308e-4374-d21d-3ee8a749511c",
        "colab": {
          "base_uri": "https://localhost:8080/",
          "height": 67
        }
      },
      "source": [
        "# Executes the cell in bash mode\n",
        "%%bash\n",
        "\n",
        "if [ ! -d \"/content/deep-deblurring/\" ]; \n",
        "    then \n",
        "        git clone https://github.com/ElPapi42/deep-deblurring;\n",
        "        cd deep-deblurring/\n",
        "    else \n",
        "        cd deep-deblurring/; \n",
        "        git pull; \n",
        "fi;\n",
        "\n",
        "git checkout train_script\n",
        "cd .."
      ],
      "execution_count": 1,
      "outputs": [
        {
          "output_type": "stream",
          "text": [
            "Branch 'train_script' set up to track remote branch 'train_script' from 'origin'.\n"
          ],
          "name": "stdout"
        },
        {
          "output_type": "stream",
          "text": [
            "Cloning into 'deep-deblurring'...\n",
            "Switched to a new branch 'train_script'\n"
          ],
          "name": "stderr"
        }
      ]
    },
    {
      "cell_type": "markdown",
      "metadata": {
        "id": "xWHANHmdSYXg",
        "colab_type": "text"
      },
      "source": [
        "# Install Requirements"
      ]
    },
    {
      "cell_type": "code",
      "metadata": {
        "id": "80rBf-xcQTqb",
        "colab_type": "code",
        "colab": {
          "base_uri": "https://localhost:8080/",
          "height": 1000
        },
        "outputId": "1d12edf3-2d78-41fe-b67b-3d5829ad5edc"
      },
      "source": [
        "# Executes the cell in bash mode\n",
        "%%bash\n",
        "\n",
        "pip uninstall -y tensorflow tensor2tensor tensorboard tensorboardcolab tensorflow-datasets tensorflow-estimator tensorflow-gan tensorflow-hub tensorflow-metadata tensorflow-privacy tensorflow-probability\n",
        "\n",
        "pip install colab-env\n",
        "pip install --upgrade grpcio\n",
        "\n",
        "cd deep-deblurring/\n",
        "python setup.py install\n",
        "cd .."
      ],
      "execution_count": 2,
      "outputs": [
        {
          "output_type": "stream",
          "text": [
            "Uninstalling tensorflow-1.15.0:\n",
            "  Successfully uninstalled tensorflow-1.15.0\n",
            "Uninstalling tensor2tensor-1.14.1:\n",
            "  Successfully uninstalled tensor2tensor-1.14.1\n",
            "Uninstalling tensorboard-1.15.0:\n",
            "  Successfully uninstalled tensorboard-1.15.0\n",
            "Uninstalling tensorboardcolab-0.0.22:\n",
            "  Successfully uninstalled tensorboardcolab-0.0.22\n",
            "Uninstalling tensorflow-datasets-2.0.0:\n",
            "  Successfully uninstalled tensorflow-datasets-2.0.0\n",
            "Uninstalling tensorflow-estimator-1.15.1:\n",
            "  Successfully uninstalled tensorflow-estimator-1.15.1\n",
            "Uninstalling tensorflow-gan-2.0.0:\n",
            "  Successfully uninstalled tensorflow-gan-2.0.0\n",
            "Uninstalling tensorflow-hub-0.7.0:\n",
            "  Successfully uninstalled tensorflow-hub-0.7.0\n",
            "Uninstalling tensorflow-metadata-0.21.1:\n",
            "  Successfully uninstalled tensorflow-metadata-0.21.1\n",
            "Uninstalling tensorflow-privacy-0.2.2:\n",
            "  Successfully uninstalled tensorflow-privacy-0.2.2\n",
            "Uninstalling tensorflow-probability-0.7.0:\n",
            "  Successfully uninstalled tensorflow-probability-0.7.0\n",
            "Collecting colab-env\n",
            "  Downloading https://files.pythonhosted.org/packages/9d/66/1845bc28d685894e6e203cfb2bdd9d19c86926d7a6f765e9497e218ab304/colab-env-0.2.0.tar.gz\n",
            "Collecting python-dotenv<1.0,>=0.10.0\n",
            "  Downloading https://files.pythonhosted.org/packages/c8/29/774774f808d25bb2a2f43c7bc07b00084a7dd06e2cb48c181acc1c3e80c7/python_dotenv-0.11.0-py2.py3-none-any.whl\n",
            "Building wheels for collected packages: colab-env\n",
            "  Building wheel for colab-env (setup.py): started\n",
            "  Building wheel for colab-env (setup.py): finished with status 'done'\n",
            "  Created wheel for colab-env: filename=colab_env-0.2.0-cp36-none-any.whl size=3838 sha256=8c0cb067d4eeeabf5a19a52de996252b102338378f3969f7bb676ac076921d10\n",
            "  Stored in directory: /root/.cache/pip/wheels/81/9c/85/7ec1faca43d1a5df32f33f4e22d5ae91f301a5406779528ead\n",
            "Successfully built colab-env\n",
            "Installing collected packages: python-dotenv, colab-env\n",
            "Successfully installed colab-env-0.2.0 python-dotenv-0.11.0\n",
            "Collecting grpcio\n",
            "  Downloading https://files.pythonhosted.org/packages/28/df/1f8a284a5e5819ae07d50bd76996d6f7208afef7533e4896fa1c6445574f/grpcio-1.27.2-cp36-cp36m-manylinux2010_x86_64.whl (2.7MB)\n",
            "Requirement already satisfied, skipping upgrade: six>=1.5.2 in /usr/local/lib/python3.6/dist-packages (from grpcio) (1.12.0)\n",
            "Installing collected packages: grpcio\n",
            "  Found existing installation: grpcio 1.27.1\n",
            "    Uninstalling grpcio-1.27.1:\n",
            "      Successfully uninstalled grpcio-1.27.1\n",
            "Successfully installed grpcio-1.27.2\n",
            "running install\n",
            "running bdist_egg\n",
            "running egg_info\n",
            "creating deblurrer.egg-info\n",
            "writing deblurrer.egg-info/PKG-INFO\n",
            "writing dependency_links to deblurrer.egg-info/dependency_links.txt\n",
            "writing requirements to deblurrer.egg-info/requires.txt\n",
            "writing top-level names to deblurrer.egg-info/top_level.txt\n",
            "writing manifest file 'deblurrer.egg-info/SOURCES.txt'\n",
            "writing manifest file 'deblurrer.egg-info/SOURCES.txt'\n",
            "installing library code to build/bdist.linux-x86_64/egg\n",
            "running install_lib\n",
            "running build_py\n",
            "creating build\n",
            "creating build/lib\n",
            "creating build/lib/deblurrer\n",
            "copying deblurrer/__init__.py -> build/lib/deblurrer\n",
            "creating build/lib/deblurrer/model\n",
            "copying deblurrer/model/base.py -> build/lib/deblurrer/model\n",
            "copying deblurrer/model/__init__.py -> build/lib/deblurrer/model\n",
            "creating build/lib/deblurrer/scripts\n",
            "copying deblurrer/scripts/__init__.py -> build/lib/deblurrer/scripts\n",
            "copying deblurrer/scripts/train.py -> build/lib/deblurrer/scripts\n",
            "creating build/lib/deblurrer/scripts/datasets\n",
            "copying deblurrer/scripts/datasets/generate_csv.py -> build/lib/deblurrer/scripts/datasets\n",
            "copying deblurrer/scripts/datasets/generate_tfrecord.py -> build/lib/deblurrer/scripts/datasets\n",
            "copying deblurrer/scripts/datasets/kaggle_blur.py -> build/lib/deblurrer/scripts/datasets\n",
            "copying deblurrer/scripts/datasets/download.py -> build/lib/deblurrer/scripts/datasets\n",
            "copying deblurrer/scripts/datasets/generate_dataset.py -> build/lib/deblurrer/scripts/datasets\n",
            "copying deblurrer/scripts/datasets/compile_all.py -> build/lib/deblurrer/scripts/datasets\n",
            "copying deblurrer/scripts/datasets/__init__.py -> build/lib/deblurrer/scripts/datasets\n",
            "creating build/lib/deblurrer/colab\n",
            "copying deblurrer/colab/TestBook.ipynb -> build/lib/deblurrer/colab\n",
            "copying deblurrer/colab/TrainBook.ipynb -> build/lib/deblurrer/colab\n",
            "creating build/bdist.linux-x86_64\n",
            "creating build/bdist.linux-x86_64/egg\n",
            "creating build/bdist.linux-x86_64/egg/deblurrer\n",
            "creating build/bdist.linux-x86_64/egg/deblurrer/colab\n",
            "copying build/lib/deblurrer/colab/TestBook.ipynb -> build/bdist.linux-x86_64/egg/deblurrer/colab\n",
            "copying build/lib/deblurrer/colab/TrainBook.ipynb -> build/bdist.linux-x86_64/egg/deblurrer/colab\n",
            "creating build/bdist.linux-x86_64/egg/deblurrer/model\n",
            "copying build/lib/deblurrer/model/base.py -> build/bdist.linux-x86_64/egg/deblurrer/model\n",
            "copying build/lib/deblurrer/model/__init__.py -> build/bdist.linux-x86_64/egg/deblurrer/model\n",
            "creating build/bdist.linux-x86_64/egg/deblurrer/scripts\n",
            "creating build/bdist.linux-x86_64/egg/deblurrer/scripts/datasets\n",
            "copying build/lib/deblurrer/scripts/datasets/generate_csv.py -> build/bdist.linux-x86_64/egg/deblurrer/scripts/datasets\n",
            "copying build/lib/deblurrer/scripts/datasets/generate_tfrecord.py -> build/bdist.linux-x86_64/egg/deblurrer/scripts/datasets\n",
            "copying build/lib/deblurrer/scripts/datasets/kaggle_blur.py -> build/bdist.linux-x86_64/egg/deblurrer/scripts/datasets\n",
            "copying build/lib/deblurrer/scripts/datasets/download.py -> build/bdist.linux-x86_64/egg/deblurrer/scripts/datasets\n",
            "copying build/lib/deblurrer/scripts/datasets/generate_dataset.py -> build/bdist.linux-x86_64/egg/deblurrer/scripts/datasets\n",
            "copying build/lib/deblurrer/scripts/datasets/compile_all.py -> build/bdist.linux-x86_64/egg/deblurrer/scripts/datasets\n",
            "copying build/lib/deblurrer/scripts/datasets/__init__.py -> build/bdist.linux-x86_64/egg/deblurrer/scripts/datasets\n",
            "copying build/lib/deblurrer/scripts/__init__.py -> build/bdist.linux-x86_64/egg/deblurrer/scripts\n",
            "copying build/lib/deblurrer/scripts/train.py -> build/bdist.linux-x86_64/egg/deblurrer/scripts\n",
            "copying build/lib/deblurrer/__init__.py -> build/bdist.linux-x86_64/egg/deblurrer\n",
            "byte-compiling build/bdist.linux-x86_64/egg/deblurrer/model/base.py to base.cpython-36.pyc\n",
            "byte-compiling build/bdist.linux-x86_64/egg/deblurrer/model/__init__.py to __init__.cpython-36.pyc\n",
            "byte-compiling build/bdist.linux-x86_64/egg/deblurrer/scripts/datasets/generate_csv.py to generate_csv.cpython-36.pyc\n",
            "byte-compiling build/bdist.linux-x86_64/egg/deblurrer/scripts/datasets/generate_tfrecord.py to generate_tfrecord.cpython-36.pyc\n",
            "byte-compiling build/bdist.linux-x86_64/egg/deblurrer/scripts/datasets/kaggle_blur.py to kaggle_blur.cpython-36.pyc\n",
            "byte-compiling build/bdist.linux-x86_64/egg/deblurrer/scripts/datasets/download.py to download.cpython-36.pyc\n",
            "byte-compiling build/bdist.linux-x86_64/egg/deblurrer/scripts/datasets/generate_dataset.py to generate_dataset.cpython-36.pyc\n",
            "byte-compiling build/bdist.linux-x86_64/egg/deblurrer/scripts/datasets/compile_all.py to compile_all.cpython-36.pyc\n",
            "byte-compiling build/bdist.linux-x86_64/egg/deblurrer/scripts/datasets/__init__.py to __init__.cpython-36.pyc\n",
            "byte-compiling build/bdist.linux-x86_64/egg/deblurrer/scripts/__init__.py to __init__.cpython-36.pyc\n",
            "byte-compiling build/bdist.linux-x86_64/egg/deblurrer/scripts/train.py to train.cpython-36.pyc\n",
            "byte-compiling build/bdist.linux-x86_64/egg/deblurrer/__init__.py to __init__.cpython-36.pyc\n",
            "creating build/bdist.linux-x86_64/egg/EGG-INFO\n",
            "copying deblurrer.egg-info/PKG-INFO -> build/bdist.linux-x86_64/egg/EGG-INFO\n",
            "copying deblurrer.egg-info/SOURCES.txt -> build/bdist.linux-x86_64/egg/EGG-INFO\n",
            "copying deblurrer.egg-info/dependency_links.txt -> build/bdist.linux-x86_64/egg/EGG-INFO\n",
            "copying deblurrer.egg-info/requires.txt -> build/bdist.linux-x86_64/egg/EGG-INFO\n",
            "copying deblurrer.egg-info/top_level.txt -> build/bdist.linux-x86_64/egg/EGG-INFO\n",
            "creating dist\n",
            "creating 'dist/deblurrer-1.0.0-py3.6.egg' and adding 'build/bdist.linux-x86_64/egg' to it\n",
            "removing 'build/bdist.linux-x86_64/egg' (and everything under it)\n",
            "Processing deblurrer-1.0.0-py3.6.egg\n",
            "creating /usr/local/lib/python3.6/dist-packages/deblurrer-1.0.0-py3.6.egg\n",
            "Extracting deblurrer-1.0.0-py3.6.egg to /usr/local/lib/python3.6/dist-packages\n",
            "Adding deblurrer 1.0.0 to easy-install.pth file\n",
            "\n",
            "Installed /usr/local/lib/python3.6/dist-packages/deblurrer-1.0.0-py3.6.egg\n",
            "Processing dependencies for deblurrer==1.0.0\n",
            "Searching for tensorflow\n",
            "Reading https://pypi.org/simple/tensorflow/\n",
            "Downloading https://files.pythonhosted.org/packages/85/d4/c0cd1057b331bc38b65478302114194bd8e1b9c2bbc06e300935c0e93d90/tensorflow-2.1.0-cp36-cp36m-manylinux2010_x86_64.whl#sha256=33e4b16e8f8905ee088bf8f413dcce2820b777fdf7f799009b3a47f354ebb23f\n",
            "Best match: tensorflow 2.1.0\n",
            "Processing tensorflow-2.1.0-cp36-cp36m-manylinux2010_x86_64.whl\n",
            "Installing tensorflow-2.1.0-cp36-cp36m-manylinux2010_x86_64.whl to /usr/local/lib/python3.6/dist-packages\n",
            "Adding tensorflow 2.1.0 to easy-install.pth file\n",
            "Installing estimator_ckpt_converter script to /usr/local/bin\n",
            "Installing saved_model_cli script to /usr/local/bin\n",
            "Installing tensorboard script to /usr/local/bin\n",
            "Installing tf_upgrade_v2 script to /usr/local/bin\n",
            "Installing tflite_convert script to /usr/local/bin\n",
            "Installing toco script to /usr/local/bin\n",
            "Installing toco_from_protos script to /usr/local/bin\n",
            "\n",
            "Installed /usr/local/lib/python3.6/dist-packages/tensorflow-2.1.0-py3.6-linux-x86_64.egg\n",
            "Searching for tensorflow-estimator<2.2.0,>=2.1.0rc0\n",
            "Reading https://pypi.org/simple/tensorflow-estimator/\n",
            "Downloading https://files.pythonhosted.org/packages/18/90/b77c328a1304437ab1310b463e533fa7689f4bfc41549593056d812fab8e/tensorflow_estimator-2.1.0-py2.py3-none-any.whl#sha256=e5c5f648a636f18d1be4cf7ed46132b108a2f0f3fd9f1c850eba924263dc6972\n",
            "Best match: tensorflow-estimator 2.1.0\n",
            "Processing tensorflow_estimator-2.1.0-py2.py3-none-any.whl\n",
            "Installing tensorflow_estimator-2.1.0-py2.py3-none-any.whl to /usr/local/lib/python3.6/dist-packages\n",
            "Adding tensorflow-estimator 2.1.0 to easy-install.pth file\n",
            "\n",
            "Installed /usr/local/lib/python3.6/dist-packages/tensorflow_estimator-2.1.0-py3.6.egg\n",
            "Searching for tensorboard<2.2.0,>=2.1.0\n",
            "Reading https://pypi.org/simple/tensorboard/\n",
            "Downloading https://files.pythonhosted.org/packages/40/23/53ffe290341cd0855d595b0a2e7485932f473798af173bbe3a584b99bb06/tensorboard-2.1.0-py3-none-any.whl#sha256=e6e64ec1e1500cc963b300895258f9605032c3a18bb40f95f2b3b12be16ff2f2\n",
            "Best match: tensorboard 2.1.0\n",
            "Processing tensorboard-2.1.0-py3-none-any.whl\n",
            "Installing tensorboard-2.1.0-py3-none-any.whl to /usr/local/lib/python3.6/dist-packages\n",
            "Adding tensorboard 2.1.0 to easy-install.pth file\n",
            "Installing tensorboard script to /usr/local/bin\n",
            "\n",
            "Installed /usr/local/lib/python3.6/dist-packages/tensorboard-2.1.0-py3.6.egg\n",
            "Searching for numpy==1.17.5\n",
            "Best match: numpy 1.17.5\n",
            "Adding numpy 1.17.5 to easy-install.pth file\n",
            "Installing f2py script to /usr/local/bin\n",
            "Installing f2py3 script to /usr/local/bin\n",
            "Installing f2py3.6 script to /usr/local/bin\n",
            "\n",
            "Using /usr/local/lib/python3.6/dist-packages\n",
            "Searching for pandas==0.25.3\n",
            "Best match: pandas 0.25.3\n",
            "Adding pandas 0.25.3 to easy-install.pth file\n",
            "\n",
            "Using /usr/local/lib/python3.6/dist-packages\n",
            "Searching for kaggle==1.5.6\n",
            "Best match: kaggle 1.5.6\n",
            "Adding kaggle 1.5.6 to easy-install.pth file\n",
            "Installing kaggle script to /usr/local/bin\n",
            "\n",
            "Using /usr/local/lib/python3.6/dist-packages\n",
            "Searching for pytz==2018.9\n",
            "Best match: pytz 2018.9\n",
            "Adding pytz 2018.9 to easy-install.pth file\n",
            "\n",
            "Using /usr/local/lib/python3.6/dist-packages\n",
            "Searching for python-dateutil==2.6.1\n",
            "Best match: python-dateutil 2.6.1\n",
            "Adding python-dateutil 2.6.1 to easy-install.pth file\n",
            "\n",
            "Using /usr/local/lib/python3.6/dist-packages\n",
            "Searching for python-slugify==4.0.0\n",
            "Best match: python-slugify 4.0.0\n",
            "Adding python-slugify 4.0.0 to easy-install.pth file\n",
            "Installing slugify script to /usr/local/bin\n",
            "\n",
            "Using /usr/local/lib/python3.6/dist-packages\n",
            "Searching for six==1.12.0\n",
            "Best match: six 1.12.0\n",
            "Adding six 1.12.0 to easy-install.pth file\n",
            "\n",
            "Using /usr/local/lib/python3.6/dist-packages\n",
            "Searching for certifi==2019.11.28\n",
            "Best match: certifi 2019.11.28\n",
            "Adding certifi 2019.11.28 to easy-install.pth file\n",
            "\n",
            "Using /usr/local/lib/python3.6/dist-packages\n",
            "Searching for tqdm==4.28.1\n",
            "Best match: tqdm 4.28.1\n",
            "Adding tqdm 4.28.1 to easy-install.pth file\n",
            "Installing tqdm script to /usr/local/bin\n",
            "\n",
            "Using /usr/local/lib/python3.6/dist-packages\n",
            "Searching for urllib3==1.24.3\n",
            "Best match: urllib3 1.24.3\n",
            "Adding urllib3 1.24.3 to easy-install.pth file\n",
            "\n",
            "Using /usr/local/lib/python3.6/dist-packages\n",
            "Searching for requests==2.21.0\n",
            "Best match: requests 2.21.0\n",
            "Adding requests 2.21.0 to easy-install.pth file\n",
            "\n",
            "Using /usr/local/lib/python3.6/dist-packages\n",
            "Searching for wrapt==1.11.2\n",
            "Best match: wrapt 1.11.2\n",
            "Adding wrapt 1.11.2 to easy-install.pth file\n",
            "\n",
            "Using /usr/local/lib/python3.6/dist-packages\n",
            "Searching for wheel==0.34.2\n",
            "Best match: wheel 0.34.2\n",
            "Adding wheel 0.34.2 to easy-install.pth file\n",
            "Installing wheel script to /usr/local/bin\n",
            "\n",
            "Using /usr/local/lib/python3.6/dist-packages\n",
            "Searching for termcolor==1.1.0\n",
            "Best match: termcolor 1.1.0\n",
            "Adding termcolor 1.1.0 to easy-install.pth file\n",
            "\n",
            "Using /usr/local/lib/python3.6/dist-packages\n",
            "Searching for scipy==1.4.1\n",
            "Best match: scipy 1.4.1\n",
            "Adding scipy 1.4.1 to easy-install.pth file\n",
            "\n",
            "Using /usr/local/lib/python3.6/dist-packages\n",
            "Searching for protobuf==3.10.0\n",
            "Best match: protobuf 3.10.0\n",
            "Adding protobuf 3.10.0 to easy-install.pth file\n",
            "\n",
            "Using /usr/local/lib/python3.6/dist-packages\n",
            "Searching for opt-einsum==3.1.0\n",
            "Best match: opt-einsum 3.1.0\n",
            "Adding opt-einsum 3.1.0 to easy-install.pth file\n",
            "\n",
            "Using /usr/local/lib/python3.6/dist-packages\n",
            "Searching for Keras-Preprocessing==1.1.0\n",
            "Best match: Keras-Preprocessing 1.1.0\n",
            "Adding Keras-Preprocessing 1.1.0 to easy-install.pth file\n",
            "\n",
            "Using /usr/local/lib/python3.6/dist-packages\n",
            "Searching for Keras-Applications==1.0.8\n",
            "Best match: Keras-Applications 1.0.8\n",
            "Adding Keras-Applications 1.0.8 to easy-install.pth file\n",
            "\n",
            "Using /usr/local/lib/python3.6/dist-packages\n",
            "Searching for grpcio==1.27.2\n",
            "Best match: grpcio 1.27.2\n",
            "Adding grpcio 1.27.2 to easy-install.pth file\n",
            "\n",
            "Using /usr/local/lib/python3.6/dist-packages\n",
            "Searching for google-pasta==0.1.8\n",
            "Best match: google-pasta 0.1.8\n",
            "Adding google-pasta 0.1.8 to easy-install.pth file\n",
            "\n",
            "Using /usr/local/lib/python3.6/dist-packages\n",
            "Searching for gast==0.2.2\n",
            "Best match: gast 0.2.2\n",
            "Adding gast 0.2.2 to easy-install.pth file\n",
            "\n",
            "Using /usr/local/lib/python3.6/dist-packages\n",
            "Searching for astor==0.8.1\n",
            "Best match: astor 0.8.1\n",
            "Adding astor 0.8.1 to easy-install.pth file\n",
            "\n",
            "Using /usr/local/lib/python3.6/dist-packages\n",
            "Searching for absl-py==0.9.0\n",
            "Best match: absl-py 0.9.0\n",
            "Adding absl-py 0.9.0 to easy-install.pth file\n",
            "\n",
            "Using /usr/local/lib/python3.6/dist-packages\n",
            "Searching for text-unidecode==1.3\n",
            "Best match: text-unidecode 1.3\n",
            "Adding text-unidecode 1.3 to easy-install.pth file\n",
            "\n",
            "Using /usr/local/lib/python3.6/dist-packages\n",
            "Searching for idna==2.8\n",
            "Best match: idna 2.8\n",
            "Adding idna 2.8 to easy-install.pth file\n",
            "\n",
            "Using /usr/local/lib/python3.6/dist-packages\n",
            "Searching for chardet==3.0.4\n",
            "Best match: chardet 3.0.4\n",
            "Adding chardet 3.0.4 to easy-install.pth file\n",
            "Installing chardetect script to /usr/local/bin\n",
            "\n",
            "Using /usr/local/lib/python3.6/dist-packages\n",
            "Searching for Werkzeug==1.0.0\n",
            "Best match: Werkzeug 1.0.0\n",
            "Adding Werkzeug 1.0.0 to easy-install.pth file\n",
            "\n",
            "Using /usr/local/lib/python3.6/dist-packages\n",
            "Searching for setuptools==45.1.0\n",
            "Best match: setuptools 45.1.0\n",
            "Adding setuptools 45.1.0 to easy-install.pth file\n",
            "Installing easy_install script to /usr/local/bin\n",
            "Installing easy_install-3.8 script to /usr/local/bin\n",
            "\n",
            "Using /usr/local/lib/python3.6/dist-packages\n",
            "Searching for Markdown==3.2.1\n",
            "Best match: Markdown 3.2.1\n",
            "Adding Markdown 3.2.1 to easy-install.pth file\n",
            "Installing markdown_py script to /usr/local/bin\n",
            "\n",
            "Using /usr/local/lib/python3.6/dist-packages\n",
            "Searching for google-auth==1.7.2\n",
            "Best match: google-auth 1.7.2\n",
            "Adding google-auth 1.7.2 to easy-install.pth file\n",
            "\n",
            "Using /usr/local/lib/python3.6/dist-packages\n",
            "Searching for google-auth-oauthlib==0.4.1\n",
            "Best match: google-auth-oauthlib 0.4.1\n",
            "Adding google-auth-oauthlib 0.4.1 to easy-install.pth file\n",
            "Installing google-oauthlib-tool script to /usr/local/bin\n",
            "\n",
            "Using /usr/local/lib/python3.6/dist-packages\n",
            "Searching for h5py==2.8.0\n",
            "Best match: h5py 2.8.0\n",
            "Adding h5py 2.8.0 to easy-install.pth file\n",
            "\n",
            "Using /usr/local/lib/python3.6/dist-packages\n",
            "Searching for cachetools==3.1.1\n",
            "Best match: cachetools 3.1.1\n",
            "Adding cachetools 3.1.1 to easy-install.pth file\n",
            "\n",
            "Using /usr/local/lib/python3.6/dist-packages\n",
            "Searching for rsa==4.0\n",
            "Best match: rsa 4.0\n",
            "Adding rsa 4.0 to easy-install.pth file\n",
            "Installing pyrsa-decrypt script to /usr/local/bin\n",
            "Installing pyrsa-encrypt script to /usr/local/bin\n",
            "Installing pyrsa-keygen script to /usr/local/bin\n",
            "Installing pyrsa-priv2pub script to /usr/local/bin\n",
            "Installing pyrsa-sign script to /usr/local/bin\n",
            "Installing pyrsa-verify script to /usr/local/bin\n",
            "\n",
            "Using /usr/local/lib/python3.6/dist-packages\n",
            "Searching for pyasn1-modules==0.2.8\n",
            "Best match: pyasn1-modules 0.2.8\n",
            "Adding pyasn1-modules 0.2.8 to easy-install.pth file\n",
            "\n",
            "Using /usr/local/lib/python3.6/dist-packages\n",
            "Searching for requests-oauthlib==1.3.0\n",
            "Best match: requests-oauthlib 1.3.0\n",
            "Adding requests-oauthlib 1.3.0 to easy-install.pth file\n",
            "\n",
            "Using /usr/local/lib/python3.6/dist-packages\n",
            "Searching for pyasn1==0.4.8\n",
            "Best match: pyasn1 0.4.8\n",
            "Adding pyasn1 0.4.8 to easy-install.pth file\n",
            "\n",
            "Using /usr/local/lib/python3.6/dist-packages\n",
            "Searching for oauthlib==3.1.0\n",
            "Best match: oauthlib 3.1.0\n",
            "Adding oauthlib 3.1.0 to easy-install.pth file\n",
            "\n",
            "Using /usr/local/lib/python3.6/dist-packages\n",
            "Finished processing dependencies for deblurrer==1.0.0\n"
          ],
          "name": "stdout"
        },
        {
          "output_type": "stream",
          "text": [
            "zip_safe flag not set; analyzing archive contents...\n",
            "deblurrer.scripts.__pycache__.train.cpython-36: module references __file__\n",
            "deblurrer.scripts.datasets.__pycache__.compile_all.cpython-36: module references __file__\n",
            "deblurrer.scripts.datasets.__pycache__.download.cpython-36: module references __file__\n",
            "deblurrer.scripts.datasets.__pycache__.generate_csv.cpython-36: module references __file__\n",
            "deblurrer.scripts.datasets.__pycache__.generate_dataset.cpython-36: module references __file__\n",
            "deblurrer.scripts.datasets.__pycache__.generate_tfrecord.cpython-36: module references __file__\n",
            "deblurrer.scripts.datasets.__pycache__.kaggle_blur.cpython-36: module references __file__\n"
          ],
          "name": "stderr"
        }
      ]
    },
    {
      "cell_type": "markdown",
      "metadata": {
        "id": "Lyy74w8vXYPP",
        "colab_type": "text"
      },
      "source": [
        "# Data Download"
      ]
    },
    {
      "cell_type": "code",
      "metadata": {
        "id": "ncKqHg3fP_6j",
        "colab_type": "code",
        "colab": {}
      },
      "source": [
        "# Setup credentials from google drive\n",
        "\n",
        "import colab_env"
      ],
      "execution_count": 0,
      "outputs": []
    },
    {
      "cell_type": "code",
      "metadata": {
        "id": "eLhJqYavXXTX",
        "colab_type": "code",
        "outputId": "1b1c5e4d-2819-4549-d0a4-aa85da896fe4",
        "colab": {
          "base_uri": "https://localhost:8080/",
          "height": 289
        }
      },
      "source": [
        "# Executes the cell in bash mode\n",
        "%%bash\n",
        "\n",
        "python /content/deep-deblurring/deblurrer/scripts/datasets/compile_all.py"
      ],
      "execution_count": 4,
      "outputs": [
        {
          "output_type": "stream",
          "text": [
            "Downloading kaggle_blur\n",
            "Downloading blur-dataset.zip to /content/deep-deblurring/datasets/kaggle_blur\n",
            "\n",
            "Generating .csv files\n",
            ".csv files successfully generated\n",
            "Generating TFRecords\n",
            "Generating train.csv TFRecords\n",
            "Generating valid.csv TFRecords\n",
            "Generating test.csv TFRecords\n",
            "TFRecords succesfully generated\n"
          ],
          "name": "stdout"
        },
        {
          "output_type": "stream",
          "text": [
            "2020-02-22 21:05:08.121896: W tensorflow/stream_executor/platform/default/dso_loader.cc:55] Could not load dynamic library 'libnvinfer.so.6'; dlerror: libnvinfer.so.6: cannot open shared object file: No such file or directory; LD_LIBRARY_PATH: /usr/local/nvidia/lib:/usr/local/nvidia/lib64\n",
            "2020-02-22 21:05:08.122194: W tensorflow/stream_executor/platform/default/dso_loader.cc:55] Could not load dynamic library 'libnvinfer_plugin.so.6'; dlerror: libnvinfer_plugin.so.6: cannot open shared object file: No such file or directory; LD_LIBRARY_PATH: /usr/local/nvidia/lib:/usr/local/nvidia/lib64\n",
            "2020-02-22 21:05:08.122232: W tensorflow/compiler/tf2tensorrt/utils/py_utils.cc:30] Cannot dlopen some TensorRT libraries. If you would like to use Nvidia GPU with TensorRT, please make sure the missing libraries mentioned above are installed properly.\n",
            "\r  0%|          | 0.00/1.49G [00:00<?, ?B/s]\r  1%|          | 9.00M/1.49G [00:00<00:17, 89.4MB/s]\r  2%|▏         | 33.0M/1.49G [00:00<00:14, 111MB/s] \r  4%|▍         | 61.0M/1.49G [00:00<00:11, 136MB/s]\r  6%|▌         | 89.0M/1.49G [00:00<00:09, 161MB/s]\r  7%|▋         | 108M/1.49G [00:00<00:08, 169MB/s] \r  8%|▊         | 127M/1.49G [00:00<00:08, 167MB/s]\r  9%|▉         | 145M/1.49G [00:00<00:09, 161MB/s]\r 11%|█         | 162M/1.49G [00:00<00:09, 159MB/s]\r 12%|█▏        | 178M/1.49G [00:00<00:09, 155MB/s]\r 13%|█▎        | 199M/1.49G [00:01<00:08, 169MB/s]\r 15%|█▍        | 222M/1.49G [00:01<00:07, 185MB/s]\r 16%|█▌        | 246M/1.49G [00:01<00:06, 201MB/s]\r 18%|█▊        | 270M/1.49G [00:01<00:06, 212MB/s]\r 19%|█▉        | 292M/1.49G [00:01<00:06, 209MB/s]\r 21%|██        | 313M/1.49G [00:01<00:06, 191MB/s]\r 22%|██▏       | 332M/1.49G [00:01<00:06, 180MB/s]\r 23%|██▎       | 350M/1.49G [00:01<00:07, 169MB/s]\r 24%|██▍       | 368M/1.49G [00:02<00:07, 173MB/s]\r 25%|██▌       | 387M/1.49G [00:02<00:06, 179MB/s]\r 27%|██▋       | 407M/1.49G [00:02<00:06, 186MB/s]\r 28%|██▊       | 427M/1.49G [00:02<00:06, 191MB/s]\r 30%|██▉       | 452M/1.49G [00:02<00:05, 206MB/s]\r 31%|███       | 477M/1.49G [00:02<00:05, 220MB/s]\r 33%|███▎      | 502M/1.49G [00:02<00:04, 230MB/s]\r 35%|███▍      | 527M/1.49G [00:02<00:04, 236MB/s]\r 36%|███▌      | 550M/1.49G [00:02<00:04, 224MB/s]\r 37%|███▋      | 572M/1.49G [00:02<00:04, 224MB/s]\r 39%|███▉      | 594M/1.49G [00:03<00:05, 188MB/s]\r 40%|████      | 614M/1.49G [00:03<00:05, 175MB/s]\r 41%|████▏     | 632M/1.49G [00:03<00:05, 169MB/s]\r 43%|████▎     | 649M/1.49G [00:03<00:05, 169MB/s]\r 44%|████▍     | 668M/1.49G [00:03<00:05, 176MB/s]\r 45%|████▌     | 692M/1.49G [00:03<00:04, 193MB/s]\r 47%|████▋     | 712M/1.49G [00:03<00:05, 163MB/s]\r 48%|████▊     | 737M/1.49G [00:03<00:04, 183MB/s]\r 50%|████▉     | 762M/1.49G [00:04<00:04, 200MB/s]\r 51%|█████▏    | 783M/1.49G [00:04<00:03, 206MB/s]\r 53%|█████▎    | 804M/1.49G [00:04<00:04, 188MB/s]\r 54%|█████▍    | 824M/1.49G [00:04<00:04, 175MB/s]\r 55%|█████▌    | 843M/1.49G [00:04<00:03, 180MB/s]\r 56%|█████▋    | 862M/1.49G [00:04<00:03, 183MB/s]\r 58%|█████▊    | 881M/1.49G [00:04<00:03, 185MB/s]\r 59%|█████▉    | 902M/1.49G [00:04<00:03, 193MB/s]\r 61%|██████    | 926M/1.49G [00:04<00:03, 207MB/s]\r 62%|██████▏   | 951M/1.49G [00:05<00:02, 219MB/s]\r 64%|██████▎   | 973M/1.49G [00:05<00:02, 221MB/s]\r 65%|██████▌   | 995M/1.49G [00:05<00:02, 200MB/s]\r 66%|██████▋   | 0.99G/1.49G [00:05<00:02, 187MB/s]\r 68%|██████▊   | 1.01G/1.49G [00:05<00:02, 181MB/s]\r 69%|██████▉   | 1.03G/1.49G [00:05<00:02, 184MB/s]\r 70%|███████   | 1.05G/1.49G [00:05<00:02, 175MB/s]\r 72%|███████▏  | 1.07G/1.49G [00:05<00:02, 186MB/s]\r 73%|███████▎  | 1.09G/1.49G [00:05<00:02, 195MB/s]\r 74%|███████▍  | 1.11G/1.49G [00:06<00:01, 209MB/s]\r 76%|███████▌  | 1.13G/1.49G [00:06<00:01, 218MB/s]\r 77%|███████▋  | 1.16G/1.49G [00:06<00:01, 196MB/s]\r 79%|███████▉  | 1.17G/1.49G [00:06<00:01, 176MB/s]\r 80%|███████▉  | 1.19G/1.49G [00:06<00:01, 171MB/s]\r 81%|████████  | 1.21G/1.49G [00:06<00:01, 174MB/s]\r 83%|████████▎ | 1.23G/1.49G [00:06<00:01, 186MB/s]\r 84%|████████▍ | 1.26G/1.49G [00:06<00:01, 203MB/s]\r 86%|████████▌ | 1.28G/1.49G [00:07<00:01, 219MB/s]\r 87%|████████▋ | 1.30G/1.49G [00:07<00:00, 207MB/s]\r 89%|████████▉ | 1.32G/1.49G [00:07<00:01, 172MB/s]\r 90%|█████████ | 1.34G/1.49G [00:07<00:00, 182MB/s]\r 92%|█████████▏| 1.37G/1.49G [00:07<00:00, 199MB/s]\r 93%|█████████▎| 1.39G/1.49G [00:07<00:00, 210MB/s]\r 95%|█████████▍| 1.41G/1.49G [00:07<00:00, 219MB/s]\r 96%|█████████▋| 1.44G/1.49G [00:07<00:00, 207MB/s]\r 98%|█████████▊| 1.46G/1.49G [00:07<00:00, 193MB/s]\r 99%|█████████▉| 1.48G/1.49G [00:08<00:00, 201MB/s]\r100%|██████████| 1.49G/1.49G [00:08<00:00, 197MB/s]2020-02-22 21:05:53.177742: E tensorflow/stream_executor/cuda/cuda_driver.cc:351] failed call to cuInit: CUDA_ERROR_NO_DEVICE: no CUDA-capable device is detected\n",
            "\n"
          ],
          "name": "stderr"
        }
      ]
    },
    {
      "cell_type": "markdown",
      "metadata": {
        "id": "tadLG-QLxfuw",
        "colab_type": "text"
      },
      "source": [
        "# Hyper-Parameters"
      ]
    },
    {
      "cell_type": "code",
      "metadata": {
        "id": "XstJKbWNxkeD",
        "colab_type": "code",
        "colab": {}
      },
      "source": [
        "import os\n",
        "\n",
        "os.environ['BATCH_SIZE'] = '8'"
      ],
      "execution_count": 0,
      "outputs": []
    },
    {
      "cell_type": "markdown",
      "metadata": {
        "id": "R7zhQeHhxu6V",
        "colab_type": "text"
      },
      "source": [
        "# Training"
      ]
    },
    {
      "cell_type": "code",
      "metadata": {
        "id": "wekGwrJExuUC",
        "colab_type": "code",
        "colab": {
          "base_uri": "https://localhost:8080/",
          "height": 356
        },
        "outputId": "078005db-67c8-475f-a3c0-db2aa560fbc8"
      },
      "source": [
        "# Executes the cell in bash mode\n",
        "%%bash\n",
        "\n",
        "python /content/deep-deblurring/deblurrer/scripts/train.py"
      ],
      "execution_count": 6,
      "outputs": [
        {
          "output_type": "stream",
          "text": [
            "training\n",
            "training\n",
            "training\n",
            "training\n",
            "training\n",
            "training\n",
            "training\n",
            "training\n",
            "training\n",
            "training\n"
          ],
          "name": "stdout"
        },
        {
          "output_type": "stream",
          "text": [
            "2020-02-22 21:07:37.768450: W tensorflow/stream_executor/platform/default/dso_loader.cc:55] Could not load dynamic library 'libnvinfer.so.6'; dlerror: libnvinfer.so.6: cannot open shared object file: No such file or directory; LD_LIBRARY_PATH: /usr/local/nvidia/lib:/usr/local/nvidia/lib64\n",
            "2020-02-22 21:07:37.768587: W tensorflow/stream_executor/platform/default/dso_loader.cc:55] Could not load dynamic library 'libnvinfer_plugin.so.6'; dlerror: libnvinfer_plugin.so.6: cannot open shared object file: No such file or directory; LD_LIBRARY_PATH: /usr/local/nvidia/lib:/usr/local/nvidia/lib64\n",
            "2020-02-22 21:07:37.768609: W tensorflow/compiler/tf2tensorrt/utils/py_utils.cc:30] Cannot dlopen some TensorRT libraries. If you would like to use Nvidia GPU with TensorRT, please make sure the missing libraries mentioned above are installed properly.\n",
            "2020-02-22 21:07:39.608366: E tensorflow/stream_executor/cuda/cuda_driver.cc:351] failed call to cuInit: CUDA_ERROR_NO_DEVICE: no CUDA-capable device is detected\n",
            "2020-02-22 21:07:40.391415: W tensorflow/core/framework/cpu_allocator_impl.cc:81] Allocation of 50331648 exceeds 10% of system memory.\n",
            "2020-02-22 21:07:40.494073: W tensorflow/core/framework/cpu_allocator_impl.cc:81] Allocation of 50331648 exceeds 10% of system memory.\n",
            "2020-02-22 21:07:40.548642: W tensorflow/core/framework/cpu_allocator_impl.cc:81] Allocation of 106041696 exceeds 10% of system memory.\n",
            "2020-02-22 21:07:40.552637: W tensorflow/core/framework/cpu_allocator_impl.cc:81] Allocation of 50331648 exceeds 10% of system memory.\n",
            "2020-02-22 21:07:40.750568: W tensorflow/core/framework/cpu_allocator_impl.cc:81] Allocation of 50331648 exceeds 10% of system memory.\n"
          ],
          "name": "stderr"
        }
      ]
    },
    {
      "cell_type": "code",
      "metadata": {
        "id": "gr1IjEQWpDiY",
        "colab_type": "code",
        "colab": {
          "base_uri": "https://localhost:8080/",
          "height": 113
        },
        "outputId": "df82cd36-4179-404e-c18b-dac73cff3ba2"
      },
      "source": [
        "from __future__ import absolute_import, division, print_function, unicode_literals\n",
        "\n",
        "import tensorflow as tf\n",
        "\n",
        "import os\n",
        "\n",
        "resolver = tf.distribute.cluster_resolver.TPUClusterResolver(tpu='grpc://' + os.environ['COLAB_TPU_ADDR'])\n",
        "tf.config.experimental_connect_to_cluster(resolver)\n",
        "tf.tpu.experimental.initialize_tpu_system(resolver)"
      ],
      "execution_count": 1,
      "outputs": [
        {
          "output_type": "display_data",
          "data": {
            "text/html": [
              "<p style=\"color: red;\">\n",
              "The default version of TensorFlow in Colab will soon switch to TensorFlow 2.x.<br>\n",
              "We recommend you <a href=\"https://www.tensorflow.org/guide/migrate\" target=\"_blank\">upgrade</a> now \n",
              "or ensure your notebook will continue to use TensorFlow 1.x via the <code>%tensorflow_version 1.x</code> magic:\n",
              "<a href=\"https://colab.research.google.com/notebooks/tensorflow_version.ipynb\" target=\"_blank\">more info</a>.</p>\n"
            ],
            "text/plain": [
              "<IPython.core.display.HTML object>"
            ]
          },
          "metadata": {
            "tags": []
          }
        },
        {
          "output_type": "stream",
          "text": [
            "INFO:tensorflow:Initializing the TPU system: 10.54.206.58:8470\n",
            "INFO:tensorflow:Finished initializing TPU system.\n"
          ],
          "name": "stdout"
        },
        {
          "output_type": "execute_result",
          "data": {
            "text/plain": [
              "<tensorflow.python.tpu.topology.Topology at 0x7f947d13ddd8>"
            ]
          },
          "metadata": {
            "tags": []
          },
          "execution_count": 1
        }
      ]
    }
  ]
}