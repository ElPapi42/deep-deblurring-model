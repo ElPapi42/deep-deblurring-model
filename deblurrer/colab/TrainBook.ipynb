{
  "nbformat": 4,
  "nbformat_minor": 0,
  "metadata": {
    "colab": {
      "name": "TrainingPipeline.ipynb",
      "provenance": [],
      "toc_visible": true
    },
    "kernelspec": {
      "name": "python3",
      "display_name": "Python 3"
    },
    "accelerator": "TPU"
  },
  "cells": [
    {
      "cell_type": "markdown",
      "metadata": {
        "colab_type": "text",
        "id": "1dlnuW3PXug4"
      },
      "source": [
        "This Notebook will present the results of the Exploratory Data Analysis"
      ]
    },
    {
      "cell_type": "markdown",
      "metadata": {
        "id": "RrvHAc8OXfqj",
        "colab_type": "text"
      },
      "source": [
        "# Clone Repository"
      ]
    },
    {
      "cell_type": "code",
      "metadata": {
        "id": "Ftt1Y5NCXk3E",
        "colab_type": "code",
        "outputId": "17aa9ecd-854a-449b-f000-480d827eb723",
        "colab": {
          "base_uri": "https://localhost:8080/",
          "height": 67
        }
      },
      "source": [
        "# Executes the cell in bash mode\n",
        "%%bash\n",
        "\n",
        "if [ ! -d \"/content/deep-deblurring/\" ]; \n",
        "    then \n",
        "        git clone https://github.com/ElPapi42/deep-deblurring;\n",
        "        cd deep-deblurring/\n",
        "    else \n",
        "        cd deep-deblurring/; \n",
        "        git pull; \n",
        "fi;\n",
        "\n",
        "git checkout train_loop\n",
        "cd .."
      ],
      "execution_count": 2,
      "outputs": [
        {
          "output_type": "stream",
          "text": [
            "Already up to date.\n",
            "Your branch is up to date with 'origin/train_loop'.\n"
          ],
          "name": "stdout"
        },
        {
          "output_type": "stream",
          "text": [
            "Already on 'train_loop'\n"
          ],
          "name": "stderr"
        }
      ]
    },
    {
      "cell_type": "markdown",
      "metadata": {
        "id": "xWHANHmdSYXg",
        "colab_type": "text"
      },
      "source": [
        "# Install Requirements"
      ]
    },
    {
      "cell_type": "code",
      "metadata": {
        "id": "80rBf-xcQTqb",
        "colab_type": "code",
        "outputId": "8a3210c3-ca5c-44fd-bc84-6ba291fe657c",
        "colab": {
          "base_uri": "https://localhost:8080/",
          "height": 1000
        }
      },
      "source": [
        "# Executes the cell in bash mode\n",
        "%%bash\n",
        "\n",
        "pip uninstall -y tensorflow tensor2tensor tensorboard tensorboardcolab tensorflow-datasets tensorflow-estimator tensorflow-gan tensorflow-hub tensorflow-metadata tensorflow-privacy tensorflow-probability\n",
        "\n",
        "pip install colab-env\n",
        "pip install --upgrade grpcio\n",
        "\n",
        "cd deep-deblurring/\n",
        "python setup.py install\n",
        "cd .."
      ],
      "execution_count": 3,
      "outputs": [
        {
          "output_type": "stream",
          "text": [
            "Uninstalling tensorflow-1.15.0:\n",
            "  Successfully uninstalled tensorflow-1.15.0\n",
            "Uninstalling tensor2tensor-1.14.1:\n",
            "  Successfully uninstalled tensor2tensor-1.14.1\n",
            "Uninstalling tensorboard-1.15.0:\n",
            "  Successfully uninstalled tensorboard-1.15.0\n",
            "Uninstalling tensorboardcolab-0.0.22:\n",
            "  Successfully uninstalled tensorboardcolab-0.0.22\n",
            "Uninstalling tensorflow-datasets-2.0.0:\n",
            "  Successfully uninstalled tensorflow-datasets-2.0.0\n",
            "Uninstalling tensorflow-estimator-1.15.1:\n",
            "  Successfully uninstalled tensorflow-estimator-1.15.1\n",
            "Uninstalling tensorflow-gan-2.0.0:\n",
            "  Successfully uninstalled tensorflow-gan-2.0.0\n",
            "Uninstalling tensorflow-hub-0.7.0:\n",
            "  Successfully uninstalled tensorflow-hub-0.7.0\n",
            "Uninstalling tensorflow-metadata-0.21.1:\n",
            "  Successfully uninstalled tensorflow-metadata-0.21.1\n",
            "Uninstalling tensorflow-privacy-0.2.2:\n",
            "  Successfully uninstalled tensorflow-privacy-0.2.2\n",
            "Uninstalling tensorflow-probability-0.7.0:\n",
            "  Successfully uninstalled tensorflow-probability-0.7.0\n",
            "Collecting colab-env\n",
            "  Downloading https://files.pythonhosted.org/packages/9d/66/1845bc28d685894e6e203cfb2bdd9d19c86926d7a6f765e9497e218ab304/colab-env-0.2.0.tar.gz\n",
            "Collecting python-dotenv<1.0,>=0.10.0\n",
            "  Downloading https://files.pythonhosted.org/packages/7f/ee/e0cd2d8ba548e4c3e8c9e70d76e423b3e8b8e4eec351f51292d828c735d2/python_dotenv-0.12.0-py2.py3-none-any.whl\n",
            "Building wheels for collected packages: colab-env\n",
            "  Building wheel for colab-env (setup.py): started\n",
            "  Building wheel for colab-env (setup.py): finished with status 'done'\n",
            "  Created wheel for colab-env: filename=colab_env-0.2.0-cp36-none-any.whl size=3838 sha256=9dcafa23dff82c0567de29ae2e236e706f09d862a8e1a94c0d7b722e04d001e8\n",
            "  Stored in directory: /root/.cache/pip/wheels/81/9c/85/7ec1faca43d1a5df32f33f4e22d5ae91f301a5406779528ead\n",
            "Successfully built colab-env\n",
            "Installing collected packages: python-dotenv, colab-env\n",
            "Successfully installed colab-env-0.2.0 python-dotenv-0.12.0\n",
            "Collecting grpcio\n",
            "  Downloading https://files.pythonhosted.org/packages/28/df/1f8a284a5e5819ae07d50bd76996d6f7208afef7533e4896fa1c6445574f/grpcio-1.27.2-cp36-cp36m-manylinux2010_x86_64.whl (2.7MB)\n",
            "Requirement already satisfied, skipping upgrade: six>=1.5.2 in /usr/local/lib/python3.6/dist-packages (from grpcio) (1.12.0)\n",
            "Installing collected packages: grpcio\n",
            "  Found existing installation: grpcio 1.27.1\n",
            "    Uninstalling grpcio-1.27.1:\n",
            "      Successfully uninstalled grpcio-1.27.1\n",
            "Successfully installed grpcio-1.27.2\n",
            "running install\n",
            "running bdist_egg\n",
            "running egg_info\n",
            "creating deblurrer.egg-info\n",
            "writing deblurrer.egg-info/PKG-INFO\n",
            "writing dependency_links to deblurrer.egg-info/dependency_links.txt\n",
            "writing requirements to deblurrer.egg-info/requires.txt\n",
            "writing top-level names to deblurrer.egg-info/top_level.txt\n",
            "writing manifest file 'deblurrer.egg-info/SOURCES.txt'\n",
            "writing manifest file 'deblurrer.egg-info/SOURCES.txt'\n",
            "installing library code to build/bdist.linux-x86_64/egg\n",
            "running install_lib\n",
            "running build_py\n",
            "creating build\n",
            "creating build/lib\n",
            "creating build/lib/deblurrer\n",
            "copying deblurrer/__init__.py -> build/lib/deblurrer\n",
            "creating build/lib/tests\n",
            "copying tests/__init__.py -> build/lib/tests\n",
            "creating build/lib/deblurrer/scripts\n",
            "copying deblurrer/scripts/__init__.py -> build/lib/deblurrer/scripts\n",
            "creating build/lib/deblurrer/model\n",
            "copying deblurrer/model/__init__.py -> build/lib/deblurrer/model\n",
            "copying deblurrer/model/losses.py -> build/lib/deblurrer/model\n",
            "creating build/lib/deblurrer/scripts/datasets\n",
            "copying deblurrer/scripts/datasets/__init__.py -> build/lib/deblurrer/scripts/datasets\n",
            "copying deblurrer/scripts/datasets/kaggle_blur.py -> build/lib/deblurrer/scripts/datasets\n",
            "copying deblurrer/scripts/datasets/generate_dataset.py -> build/lib/deblurrer/scripts/datasets\n",
            "copying deblurrer/scripts/datasets/generate_tfrecord.py -> build/lib/deblurrer/scripts/datasets\n",
            "copying deblurrer/scripts/datasets/compile_all.py -> build/lib/deblurrer/scripts/datasets\n",
            "copying deblurrer/scripts/datasets/download.py -> build/lib/deblurrer/scripts/datasets\n",
            "copying deblurrer/scripts/datasets/generate_csv.py -> build/lib/deblurrer/scripts/datasets\n",
            "creating build/lib/deblurrer/scripts/training\n",
            "copying deblurrer/scripts/training/train.py -> build/lib/deblurrer/scripts/training\n",
            "copying deblurrer/scripts/training/test.py -> build/lib/deblurrer/scripts/training\n",
            "copying deblurrer/scripts/training/__init__.py -> build/lib/deblurrer/scripts/training\n",
            "copying deblurrer/scripts/training/tester.py -> build/lib/deblurrer/scripts/training\n",
            "copying deblurrer/scripts/training/trainer.py -> build/lib/deblurrer/scripts/training\n",
            "creating build/lib/deblurrer/model/generator\n",
            "copying deblurrer/model/generator/__init__.py -> build/lib/deblurrer/model/generator\n",
            "copying deblurrer/model/generator/backbone.py -> build/lib/deblurrer/model/generator\n",
            "copying deblurrer/model/generator/fpn.py -> build/lib/deblurrer/model/generator\n",
            "copying deblurrer/model/generator/generator.py -> build/lib/deblurrer/model/generator\n",
            "creating build/lib/deblurrer/model/discriminator\n",
            "copying deblurrer/model/discriminator/local.py -> build/lib/deblurrer/model/discriminator\n",
            "copying deblurrer/model/discriminator/__init__.py -> build/lib/deblurrer/model/discriminator\n",
            "copying deblurrer/model/discriminator/dglobal.py -> build/lib/deblurrer/model/discriminator\n",
            "copying deblurrer/model/discriminator/discriminator.py -> build/lib/deblurrer/model/discriminator\n",
            "creating build/lib/tests/model\n",
            "copying tests/model/discriminator_test.py -> build/lib/tests/model\n",
            "copying tests/model/__init__.py -> build/lib/tests/model\n",
            "copying tests/model/losses_test.py -> build/lib/tests/model\n",
            "copying tests/model/generator_test.py -> build/lib/tests/model\n",
            "creating build/lib/deblurrer/colab\n",
            "copying deblurrer/colab/TestBook.ipynb -> build/lib/deblurrer/colab\n",
            "copying deblurrer/colab/TrainBook.ipynb -> build/lib/deblurrer/colab\n",
            "creating build/bdist.linux-x86_64\n",
            "creating build/bdist.linux-x86_64/egg\n",
            "creating build/bdist.linux-x86_64/egg/deblurrer\n",
            "copying build/lib/deblurrer/__init__.py -> build/bdist.linux-x86_64/egg/deblurrer\n",
            "creating build/bdist.linux-x86_64/egg/deblurrer/scripts\n",
            "copying build/lib/deblurrer/scripts/__init__.py -> build/bdist.linux-x86_64/egg/deblurrer/scripts\n",
            "creating build/bdist.linux-x86_64/egg/deblurrer/scripts/datasets\n",
            "copying build/lib/deblurrer/scripts/datasets/__init__.py -> build/bdist.linux-x86_64/egg/deblurrer/scripts/datasets\n",
            "copying build/lib/deblurrer/scripts/datasets/kaggle_blur.py -> build/bdist.linux-x86_64/egg/deblurrer/scripts/datasets\n",
            "copying build/lib/deblurrer/scripts/datasets/generate_dataset.py -> build/bdist.linux-x86_64/egg/deblurrer/scripts/datasets\n",
            "copying build/lib/deblurrer/scripts/datasets/generate_tfrecord.py -> build/bdist.linux-x86_64/egg/deblurrer/scripts/datasets\n",
            "copying build/lib/deblurrer/scripts/datasets/compile_all.py -> build/bdist.linux-x86_64/egg/deblurrer/scripts/datasets\n",
            "copying build/lib/deblurrer/scripts/datasets/download.py -> build/bdist.linux-x86_64/egg/deblurrer/scripts/datasets\n",
            "copying build/lib/deblurrer/scripts/datasets/generate_csv.py -> build/bdist.linux-x86_64/egg/deblurrer/scripts/datasets\n",
            "creating build/bdist.linux-x86_64/egg/deblurrer/scripts/training\n",
            "copying build/lib/deblurrer/scripts/training/train.py -> build/bdist.linux-x86_64/egg/deblurrer/scripts/training\n",
            "copying build/lib/deblurrer/scripts/training/test.py -> build/bdist.linux-x86_64/egg/deblurrer/scripts/training\n",
            "copying build/lib/deblurrer/scripts/training/__init__.py -> build/bdist.linux-x86_64/egg/deblurrer/scripts/training\n",
            "copying build/lib/deblurrer/scripts/training/tester.py -> build/bdist.linux-x86_64/egg/deblurrer/scripts/training\n",
            "copying build/lib/deblurrer/scripts/training/trainer.py -> build/bdist.linux-x86_64/egg/deblurrer/scripts/training\n",
            "creating build/bdist.linux-x86_64/egg/deblurrer/colab\n",
            "copying build/lib/deblurrer/colab/TrainBook.ipynb -> build/bdist.linux-x86_64/egg/deblurrer/colab\n",
            "copying build/lib/deblurrer/colab/TestBook.ipynb -> build/bdist.linux-x86_64/egg/deblurrer/colab\n",
            "creating build/bdist.linux-x86_64/egg/deblurrer/model\n",
            "copying build/lib/deblurrer/model/__init__.py -> build/bdist.linux-x86_64/egg/deblurrer/model\n",
            "creating build/bdist.linux-x86_64/egg/deblurrer/model/generator\n",
            "copying build/lib/deblurrer/model/generator/__init__.py -> build/bdist.linux-x86_64/egg/deblurrer/model/generator\n",
            "copying build/lib/deblurrer/model/generator/backbone.py -> build/bdist.linux-x86_64/egg/deblurrer/model/generator\n",
            "copying build/lib/deblurrer/model/generator/fpn.py -> build/bdist.linux-x86_64/egg/deblurrer/model/generator\n",
            "copying build/lib/deblurrer/model/generator/generator.py -> build/bdist.linux-x86_64/egg/deblurrer/model/generator\n",
            "copying build/lib/deblurrer/model/losses.py -> build/bdist.linux-x86_64/egg/deblurrer/model\n",
            "creating build/bdist.linux-x86_64/egg/deblurrer/model/discriminator\n",
            "copying build/lib/deblurrer/model/discriminator/local.py -> build/bdist.linux-x86_64/egg/deblurrer/model/discriminator\n",
            "copying build/lib/deblurrer/model/discriminator/__init__.py -> build/bdist.linux-x86_64/egg/deblurrer/model/discriminator\n",
            "copying build/lib/deblurrer/model/discriminator/dglobal.py -> build/bdist.linux-x86_64/egg/deblurrer/model/discriminator\n",
            "copying build/lib/deblurrer/model/discriminator/discriminator.py -> build/bdist.linux-x86_64/egg/deblurrer/model/discriminator\n",
            "creating build/bdist.linux-x86_64/egg/tests\n",
            "copying build/lib/tests/__init__.py -> build/bdist.linux-x86_64/egg/tests\n",
            "creating build/bdist.linux-x86_64/egg/tests/model\n",
            "copying build/lib/tests/model/discriminator_test.py -> build/bdist.linux-x86_64/egg/tests/model\n",
            "copying build/lib/tests/model/__init__.py -> build/bdist.linux-x86_64/egg/tests/model\n",
            "copying build/lib/tests/model/losses_test.py -> build/bdist.linux-x86_64/egg/tests/model\n",
            "copying build/lib/tests/model/generator_test.py -> build/bdist.linux-x86_64/egg/tests/model\n",
            "byte-compiling build/bdist.linux-x86_64/egg/deblurrer/__init__.py to __init__.cpython-36.pyc\n",
            "byte-compiling build/bdist.linux-x86_64/egg/deblurrer/scripts/__init__.py to __init__.cpython-36.pyc\n",
            "byte-compiling build/bdist.linux-x86_64/egg/deblurrer/scripts/datasets/__init__.py to __init__.cpython-36.pyc\n",
            "byte-compiling build/bdist.linux-x86_64/egg/deblurrer/scripts/datasets/kaggle_blur.py to kaggle_blur.cpython-36.pyc\n",
            "byte-compiling build/bdist.linux-x86_64/egg/deblurrer/scripts/datasets/generate_dataset.py to generate_dataset.cpython-36.pyc\n",
            "byte-compiling build/bdist.linux-x86_64/egg/deblurrer/scripts/datasets/generate_tfrecord.py to generate_tfrecord.cpython-36.pyc\n",
            "byte-compiling build/bdist.linux-x86_64/egg/deblurrer/scripts/datasets/compile_all.py to compile_all.cpython-36.pyc\n",
            "byte-compiling build/bdist.linux-x86_64/egg/deblurrer/scripts/datasets/download.py to download.cpython-36.pyc\n",
            "byte-compiling build/bdist.linux-x86_64/egg/deblurrer/scripts/datasets/generate_csv.py to generate_csv.cpython-36.pyc\n",
            "byte-compiling build/bdist.linux-x86_64/egg/deblurrer/scripts/training/train.py to train.cpython-36.pyc\n",
            "byte-compiling build/bdist.linux-x86_64/egg/deblurrer/scripts/training/test.py to test.cpython-36.pyc\n",
            "byte-compiling build/bdist.linux-x86_64/egg/deblurrer/scripts/training/__init__.py to __init__.cpython-36.pyc\n",
            "byte-compiling build/bdist.linux-x86_64/egg/deblurrer/scripts/training/tester.py to tester.cpython-36.pyc\n",
            "byte-compiling build/bdist.linux-x86_64/egg/deblurrer/scripts/training/trainer.py to trainer.cpython-36.pyc\n",
            "byte-compiling build/bdist.linux-x86_64/egg/deblurrer/model/__init__.py to __init__.cpython-36.pyc\n",
            "byte-compiling build/bdist.linux-x86_64/egg/deblurrer/model/generator/__init__.py to __init__.cpython-36.pyc\n",
            "byte-compiling build/bdist.linux-x86_64/egg/deblurrer/model/generator/backbone.py to backbone.cpython-36.pyc\n",
            "byte-compiling build/bdist.linux-x86_64/egg/deblurrer/model/generator/fpn.py to fpn.cpython-36.pyc\n",
            "byte-compiling build/bdist.linux-x86_64/egg/deblurrer/model/generator/generator.py to generator.cpython-36.pyc\n",
            "byte-compiling build/bdist.linux-x86_64/egg/deblurrer/model/losses.py to losses.cpython-36.pyc\n",
            "byte-compiling build/bdist.linux-x86_64/egg/deblurrer/model/discriminator/local.py to local.cpython-36.pyc\n",
            "byte-compiling build/bdist.linux-x86_64/egg/deblurrer/model/discriminator/__init__.py to __init__.cpython-36.pyc\n",
            "byte-compiling build/bdist.linux-x86_64/egg/deblurrer/model/discriminator/dglobal.py to dglobal.cpython-36.pyc\n",
            "byte-compiling build/bdist.linux-x86_64/egg/deblurrer/model/discriminator/discriminator.py to discriminator.cpython-36.pyc\n",
            "byte-compiling build/bdist.linux-x86_64/egg/tests/__init__.py to __init__.cpython-36.pyc\n",
            "byte-compiling build/bdist.linux-x86_64/egg/tests/model/discriminator_test.py to discriminator_test.cpython-36.pyc\n",
            "byte-compiling build/bdist.linux-x86_64/egg/tests/model/__init__.py to __init__.cpython-36.pyc\n",
            "byte-compiling build/bdist.linux-x86_64/egg/tests/model/losses_test.py to losses_test.cpython-36.pyc\n",
            "byte-compiling build/bdist.linux-x86_64/egg/tests/model/generator_test.py to generator_test.cpython-36.pyc\n",
            "creating build/bdist.linux-x86_64/egg/EGG-INFO\n",
            "copying deblurrer.egg-info/PKG-INFO -> build/bdist.linux-x86_64/egg/EGG-INFO\n",
            "copying deblurrer.egg-info/SOURCES.txt -> build/bdist.linux-x86_64/egg/EGG-INFO\n",
            "copying deblurrer.egg-info/dependency_links.txt -> build/bdist.linux-x86_64/egg/EGG-INFO\n",
            "copying deblurrer.egg-info/requires.txt -> build/bdist.linux-x86_64/egg/EGG-INFO\n",
            "copying deblurrer.egg-info/top_level.txt -> build/bdist.linux-x86_64/egg/EGG-INFO\n",
            "creating dist\n",
            "creating 'dist/deblurrer-1.0.0-py3.6.egg' and adding 'build/bdist.linux-x86_64/egg' to it\n",
            "removing 'build/bdist.linux-x86_64/egg' (and everything under it)\n",
            "Processing deblurrer-1.0.0-py3.6.egg\n",
            "creating /usr/local/lib/python3.6/dist-packages/deblurrer-1.0.0-py3.6.egg\n",
            "Extracting deblurrer-1.0.0-py3.6.egg to /usr/local/lib/python3.6/dist-packages\n",
            "Adding deblurrer 1.0.0 to easy-install.pth file\n",
            "\n",
            "Installed /usr/local/lib/python3.6/dist-packages/deblurrer-1.0.0-py3.6.egg\n",
            "Processing dependencies for deblurrer==1.0.0\n",
            "Searching for tensorflow\n",
            "Reading https://pypi.org/simple/tensorflow/\n",
            "Downloading https://files.pythonhosted.org/packages/c2/a9/836bf28d748b12e8e979fb24a0d9d2f0930df913eb958363ed223406a0ca/tensorflow-2.2.0rc0-cp36-cp36m-manylinux2010_x86_64.whl#sha256=4cbd81ef320815ce455419ba8a2271f77b776805cd628d5d5e6a255eaeb2952d\n",
            "Best match: tensorflow 2.2.0rc0\n",
            "Processing tensorflow-2.2.0rc0-cp36-cp36m-manylinux2010_x86_64.whl\n",
            "Installing tensorflow-2.2.0rc0-cp36-cp36m-manylinux2010_x86_64.whl to /usr/local/lib/python3.6/dist-packages\n",
            "Adding tensorflow 2.2.0rc0 to easy-install.pth file\n",
            "Installing estimator_ckpt_converter script to /usr/local/bin\n",
            "Installing saved_model_cli script to /usr/local/bin\n",
            "Installing tensorboard script to /usr/local/bin\n",
            "Installing tf_upgrade_v2 script to /usr/local/bin\n",
            "Installing tflite_convert script to /usr/local/bin\n",
            "Installing toco script to /usr/local/bin\n",
            "Installing toco_from_protos script to /usr/local/bin\n",
            "\n",
            "Installed /usr/local/lib/python3.6/dist-packages/tensorflow-2.2.0rc0-py3.6-linux-x86_64.egg\n",
            "Searching for tensorflow-estimator<2.2.0,>=2.1.0\n",
            "Reading https://pypi.org/simple/tensorflow-estimator/\n",
            "Downloading https://files.pythonhosted.org/packages/18/90/b77c328a1304437ab1310b463e533fa7689f4bfc41549593056d812fab8e/tensorflow_estimator-2.1.0-py2.py3-none-any.whl#sha256=e5c5f648a636f18d1be4cf7ed46132b108a2f0f3fd9f1c850eba924263dc6972\n",
            "Best match: tensorflow-estimator 2.1.0\n",
            "Processing tensorflow_estimator-2.1.0-py2.py3-none-any.whl\n",
            "Installing tensorflow_estimator-2.1.0-py2.py3-none-any.whl to /usr/local/lib/python3.6/dist-packages\n",
            "Adding tensorflow-estimator 2.1.0 to easy-install.pth file\n",
            "\n",
            "Installed /usr/local/lib/python3.6/dist-packages/tensorflow_estimator-2.1.0-py3.6.egg\n",
            "Searching for tensorboard<2.2.0,>=2.1.0\n",
            "Reading https://pypi.org/simple/tensorboard/\n",
            "Downloading https://files.pythonhosted.org/packages/d9/41/bbf49b61370e4f4d245d4c6051dfb6db80cec672605c91b1652ac8cc3d38/tensorboard-2.1.1-py3-none-any.whl#sha256=3a36da59d4e13fb140d04636aaf544f1a38364a7e3609a15cdaf01a5d3073b37\n",
            "Best match: tensorboard 2.1.1\n",
            "Processing tensorboard-2.1.1-py3-none-any.whl\n",
            "Installing tensorboard-2.1.1-py3-none-any.whl to /usr/local/lib/python3.6/dist-packages\n",
            "Adding tensorboard 2.1.1 to easy-install.pth file\n",
            "Installing tensorboard script to /usr/local/bin\n",
            "\n",
            "Installed /usr/local/lib/python3.6/dist-packages/tensorboard-2.1.1-py3.6.egg\n",
            "Searching for h5py<2.11.0,>=2.10.0\n",
            "Reading https://pypi.org/simple/h5py/\n",
            "Downloading https://files.pythonhosted.org/packages/60/06/cafdd44889200e5438b897388f3075b52a8ef01f28a17366d91de0fa2d05/h5py-2.10.0-cp36-cp36m-manylinux1_x86_64.whl#sha256=d3c59549f90a891691991c17f8e58c8544060fdf3ccdea267100fa5f561ff62f\n",
            "Best match: h5py 2.10.0\n",
            "Processing h5py-2.10.0-cp36-cp36m-manylinux1_x86_64.whl\n",
            "Installing h5py-2.10.0-cp36-cp36m-manylinux1_x86_64.whl to /usr/local/lib/python3.6/dist-packages\n",
            "Adding h5py 2.10.0 to easy-install.pth file\n",
            "\n",
            "Installed /usr/local/lib/python3.6/dist-packages/h5py-2.10.0-py3.6-linux-x86_64.egg\n",
            "Searching for gast==0.3.3\n",
            "Reading https://pypi.org/simple/gast/\n",
            "Downloading https://files.pythonhosted.org/packages/d6/84/759f5dd23fec8ba71952d97bcc7e2c9d7d63bdc582421f3cd4be845f0c98/gast-0.3.3-py2.py3-none-any.whl#sha256=8f46f5be57ae6889a4e16e2ca113b1703ef17f2b0abceb83793eaba9e1351a45\n",
            "Best match: gast 0.3.3\n",
            "Processing gast-0.3.3-py2.py3-none-any.whl\n",
            "Installing gast-0.3.3-py2.py3-none-any.whl to /usr/local/lib/python3.6/dist-packages\n",
            "Adding gast 0.3.3 to easy-install.pth file\n",
            "\n",
            "Installed /usr/local/lib/python3.6/dist-packages/gast-0.3.3-py3.6.egg\n",
            "Searching for astunparse==1.6.3\n",
            "Reading https://pypi.org/simple/astunparse/\n",
            "Downloading https://files.pythonhosted.org/packages/2b/03/13dde6512ad7b4557eb792fbcf0c653af6076b81e5941d36ec61f7ce6028/astunparse-1.6.3-py2.py3-none-any.whl#sha256=c2652417f2c8b5bb325c885ae329bdf3f86424075c4fd1a128674bc6fba4b8e8\n",
            "Best match: astunparse 1.6.3\n",
            "Processing astunparse-1.6.3-py2.py3-none-any.whl\n",
            "Installing astunparse-1.6.3-py2.py3-none-any.whl to /usr/local/lib/python3.6/dist-packages\n",
            "Adding astunparse 1.6.3 to easy-install.pth file\n",
            "\n",
            "Installed /usr/local/lib/python3.6/dist-packages/astunparse-1.6.3-py3.6.egg\n",
            "Searching for numpy==1.17.5\n",
            "Best match: numpy 1.17.5\n",
            "Adding numpy 1.17.5 to easy-install.pth file\n",
            "Installing f2py script to /usr/local/bin\n",
            "Installing f2py3 script to /usr/local/bin\n",
            "Installing f2py3.6 script to /usr/local/bin\n",
            "\n",
            "Using /usr/local/lib/python3.6/dist-packages\n",
            "Searching for pandas==0.25.3\n",
            "Best match: pandas 0.25.3\n",
            "Adding pandas 0.25.3 to easy-install.pth file\n",
            "\n",
            "Using /usr/local/lib/python3.6/dist-packages\n",
            "Searching for kaggle==1.5.6\n",
            "Best match: kaggle 1.5.6\n",
            "Adding kaggle 1.5.6 to easy-install.pth file\n",
            "Installing kaggle script to /usr/local/bin\n",
            "\n",
            "Using /usr/local/lib/python3.6/dist-packages\n",
            "Searching for pytz==2018.9\n",
            "Best match: pytz 2018.9\n",
            "Adding pytz 2018.9 to easy-install.pth file\n",
            "\n",
            "Using /usr/local/lib/python3.6/dist-packages\n",
            "Searching for python-dateutil==2.6.1\n",
            "Best match: python-dateutil 2.6.1\n",
            "Adding python-dateutil 2.6.1 to easy-install.pth file\n",
            "\n",
            "Using /usr/local/lib/python3.6/dist-packages\n",
            "Searching for certifi==2019.11.28\n",
            "Best match: certifi 2019.11.28\n",
            "Adding certifi 2019.11.28 to easy-install.pth file\n",
            "\n",
            "Using /usr/local/lib/python3.6/dist-packages\n",
            "Searching for tqdm==4.28.1\n",
            "Best match: tqdm 4.28.1\n",
            "Adding tqdm 4.28.1 to easy-install.pth file\n",
            "Installing tqdm script to /usr/local/bin\n",
            "\n",
            "Using /usr/local/lib/python3.6/dist-packages\n",
            "Searching for six==1.12.0\n",
            "Best match: six 1.12.0\n",
            "Adding six 1.12.0 to easy-install.pth file\n",
            "\n",
            "Using /usr/local/lib/python3.6/dist-packages\n",
            "Searching for requests==2.21.0\n",
            "Best match: requests 2.21.0\n",
            "Adding requests 2.21.0 to easy-install.pth file\n",
            "\n",
            "Using /usr/local/lib/python3.6/dist-packages\n",
            "Searching for python-slugify==4.0.0\n",
            "Best match: python-slugify 4.0.0\n",
            "Adding python-slugify 4.0.0 to easy-install.pth file\n",
            "Installing slugify script to /usr/local/bin\n",
            "\n",
            "Using /usr/local/lib/python3.6/dist-packages\n",
            "Searching for urllib3==1.24.3\n",
            "Best match: urllib3 1.24.3\n",
            "Adding urllib3 1.24.3 to easy-install.pth file\n",
            "\n",
            "Using /usr/local/lib/python3.6/dist-packages\n",
            "Searching for wrapt==1.11.2\n",
            "Best match: wrapt 1.11.2\n",
            "Adding wrapt 1.11.2 to easy-install.pth file\n",
            "\n",
            "Using /usr/local/lib/python3.6/dist-packages\n",
            "Searching for wheel==0.34.2\n",
            "Best match: wheel 0.34.2\n",
            "Adding wheel 0.34.2 to easy-install.pth file\n",
            "Installing wheel script to /usr/local/bin\n",
            "\n",
            "Using /usr/local/lib/python3.6/dist-packages\n",
            "Searching for termcolor==1.1.0\n",
            "Best match: termcolor 1.1.0\n",
            "Adding termcolor 1.1.0 to easy-install.pth file\n",
            "\n",
            "Using /usr/local/lib/python3.6/dist-packages\n",
            "Searching for scipy==1.4.1\n",
            "Best match: scipy 1.4.1\n",
            "Adding scipy 1.4.1 to easy-install.pth file\n",
            "\n",
            "Using /usr/local/lib/python3.6/dist-packages\n",
            "Searching for protobuf==3.10.0\n",
            "Best match: protobuf 3.10.0\n",
            "Adding protobuf 3.10.0 to easy-install.pth file\n",
            "\n",
            "Using /usr/local/lib/python3.6/dist-packages\n",
            "Searching for opt-einsum==3.1.0\n",
            "Best match: opt-einsum 3.1.0\n",
            "Adding opt-einsum 3.1.0 to easy-install.pth file\n",
            "\n",
            "Using /usr/local/lib/python3.6/dist-packages\n",
            "Searching for Keras-Preprocessing==1.1.0\n",
            "Best match: Keras-Preprocessing 1.1.0\n",
            "Adding Keras-Preprocessing 1.1.0 to easy-install.pth file\n",
            "\n",
            "Using /usr/local/lib/python3.6/dist-packages\n",
            "Searching for grpcio==1.27.2\n",
            "Best match: grpcio 1.27.2\n",
            "Adding grpcio 1.27.2 to easy-install.pth file\n",
            "\n",
            "Using /usr/local/lib/python3.6/dist-packages\n",
            "Searching for google-pasta==0.1.8\n",
            "Best match: google-pasta 0.1.8\n",
            "Adding google-pasta 0.1.8 to easy-install.pth file\n",
            "\n",
            "Using /usr/local/lib/python3.6/dist-packages\n",
            "Searching for absl-py==0.9.0\n",
            "Best match: absl-py 0.9.0\n",
            "Adding absl-py 0.9.0 to easy-install.pth file\n",
            "\n",
            "Using /usr/local/lib/python3.6/dist-packages\n",
            "Searching for idna==2.8\n",
            "Best match: idna 2.8\n",
            "Adding idna 2.8 to easy-install.pth file\n",
            "\n",
            "Using /usr/local/lib/python3.6/dist-packages\n",
            "Searching for chardet==3.0.4\n",
            "Best match: chardet 3.0.4\n",
            "Adding chardet 3.0.4 to easy-install.pth file\n",
            "Installing chardetect script to /usr/local/bin\n",
            "\n",
            "Using /usr/local/lib/python3.6/dist-packages\n",
            "Searching for text-unidecode==1.3\n",
            "Best match: text-unidecode 1.3\n",
            "Adding text-unidecode 1.3 to easy-install.pth file\n",
            "\n",
            "Using /usr/local/lib/python3.6/dist-packages\n",
            "Searching for Werkzeug==1.0.0\n",
            "Best match: Werkzeug 1.0.0\n",
            "Adding Werkzeug 1.0.0 to easy-install.pth file\n",
            "\n",
            "Using /usr/local/lib/python3.6/dist-packages\n",
            "Searching for setuptools==45.2.0\n",
            "Best match: setuptools 45.2.0\n",
            "Adding setuptools 45.2.0 to easy-install.pth file\n",
            "Installing easy_install script to /usr/local/bin\n",
            "Installing easy_install-3.8 script to /usr/local/bin\n",
            "\n",
            "Using /usr/local/lib/python3.6/dist-packages\n",
            "Searching for Markdown==3.2.1\n",
            "Best match: Markdown 3.2.1\n",
            "Adding Markdown 3.2.1 to easy-install.pth file\n",
            "Installing markdown_py script to /usr/local/bin\n",
            "\n",
            "Using /usr/local/lib/python3.6/dist-packages\n",
            "Searching for google-auth==1.7.2\n",
            "Best match: google-auth 1.7.2\n",
            "Adding google-auth 1.7.2 to easy-install.pth file\n",
            "\n",
            "Using /usr/local/lib/python3.6/dist-packages\n",
            "Searching for google-auth-oauthlib==0.4.1\n",
            "Best match: google-auth-oauthlib 0.4.1\n",
            "Adding google-auth-oauthlib 0.4.1 to easy-install.pth file\n",
            "Installing google-oauthlib-tool script to /usr/local/bin\n",
            "\n",
            "Using /usr/local/lib/python3.6/dist-packages\n",
            "Searching for cachetools==3.1.1\n",
            "Best match: cachetools 3.1.1\n",
            "Adding cachetools 3.1.1 to easy-install.pth file\n",
            "\n",
            "Using /usr/local/lib/python3.6/dist-packages\n",
            "Searching for rsa==4.0\n",
            "Best match: rsa 4.0\n",
            "Adding rsa 4.0 to easy-install.pth file\n",
            "Installing pyrsa-decrypt script to /usr/local/bin\n",
            "Installing pyrsa-encrypt script to /usr/local/bin\n",
            "Installing pyrsa-keygen script to /usr/local/bin\n",
            "Installing pyrsa-priv2pub script to /usr/local/bin\n",
            "Installing pyrsa-sign script to /usr/local/bin\n",
            "Installing pyrsa-verify script to /usr/local/bin\n",
            "\n",
            "Using /usr/local/lib/python3.6/dist-packages\n",
            "Searching for pyasn1-modules==0.2.8\n",
            "Best match: pyasn1-modules 0.2.8\n",
            "Adding pyasn1-modules 0.2.8 to easy-install.pth file\n",
            "\n",
            "Using /usr/local/lib/python3.6/dist-packages\n",
            "Searching for requests-oauthlib==1.3.0\n",
            "Best match: requests-oauthlib 1.3.0\n",
            "Adding requests-oauthlib 1.3.0 to easy-install.pth file\n",
            "\n",
            "Using /usr/local/lib/python3.6/dist-packages\n",
            "Searching for pyasn1==0.4.8\n",
            "Best match: pyasn1 0.4.8\n",
            "Adding pyasn1 0.4.8 to easy-install.pth file\n",
            "\n",
            "Using /usr/local/lib/python3.6/dist-packages\n",
            "Searching for oauthlib==3.1.0\n",
            "Best match: oauthlib 3.1.0\n",
            "Adding oauthlib 3.1.0 to easy-install.pth file\n",
            "\n",
            "Using /usr/local/lib/python3.6/dist-packages\n",
            "Finished processing dependencies for deblurrer==1.0.0\n"
          ],
          "name": "stdout"
        },
        {
          "output_type": "stream",
          "text": [
            "zip_safe flag not set; analyzing archive contents...\n",
            "deblurrer.scripts.datasets.__pycache__.compile_all.cpython-36: module references __file__\n",
            "deblurrer.scripts.datasets.__pycache__.download.cpython-36: module references __file__\n",
            "deblurrer.scripts.datasets.__pycache__.generate_csv.cpython-36: module references __file__\n",
            "deblurrer.scripts.datasets.__pycache__.generate_dataset.cpython-36: module references __file__\n",
            "deblurrer.scripts.datasets.__pycache__.generate_tfrecord.cpython-36: module references __file__\n",
            "deblurrer.scripts.datasets.__pycache__.kaggle_blur.cpython-36: module references __file__\n",
            "deblurrer.scripts.training.__pycache__.train.cpython-36: module references __file__\n"
          ],
          "name": "stderr"
        }
      ]
    },
    {
      "cell_type": "code",
      "metadata": {
        "id": "AE0xV_oon3CF",
        "colab_type": "code",
        "colab": {
          "base_uri": "https://localhost:8080/",
          "height": 34
        },
        "outputId": "fe0499cd-510e-4fe7-d4ef-2fe69b399680"
      },
      "source": [
        "%tensorflow_version 2.x"
      ],
      "execution_count": 4,
      "outputs": [
        {
          "output_type": "stream",
          "text": [
            "TensorFlow 2.x selected.\n"
          ],
          "name": "stdout"
        }
      ]
    },
    {
      "cell_type": "code",
      "metadata": {
        "id": "QiHgE11upeFI",
        "colab_type": "code",
        "colab": {}
      },
      "source": [
        "# Add deblurrer package to path\n",
        "\n",
        "import sys\n",
        "sys.path += ['/content/deep-deblurring']"
      ],
      "execution_count": 0,
      "outputs": []
    },
    {
      "cell_type": "markdown",
      "metadata": {
        "id": "Lyy74w8vXYPP",
        "colab_type": "text"
      },
      "source": [
        "# Data Download"
      ]
    },
    {
      "cell_type": "code",
      "metadata": {
        "id": "ncKqHg3fP_6j",
        "colab_type": "code",
        "colab": {
          "base_uri": "https://localhost:8080/",
          "height": 121
        },
        "outputId": "d60a4408-41b4-4942-e6b5-f0c6ddae716f"
      },
      "source": [
        "# Setup credentials from google drive\n",
        "\n",
        "import colab_env"
      ],
      "execution_count": 6,
      "outputs": [
        {
          "output_type": "stream",
          "text": [
            "Go to this URL in a browser: https://accounts.google.com/o/oauth2/auth?client_id=947318989803-6bn6qk8qdgf4n4g3pfee6491hc0brc4i.apps.googleusercontent.com&redirect_uri=urn%3aietf%3awg%3aoauth%3a2.0%3aoob&response_type=code&scope=email%20https%3a%2f%2fwww.googleapis.com%2fauth%2fdocs.test%20https%3a%2f%2fwww.googleapis.com%2fauth%2fdrive%20https%3a%2f%2fwww.googleapis.com%2fauth%2fdrive.photos.readonly%20https%3a%2f%2fwww.googleapis.com%2fauth%2fpeopleapi.readonly\n",
            "\n",
            "Enter your authorization code:\n",
            "··········\n",
            "Mounted at /content/gdrive\n"
          ],
          "name": "stdout"
        }
      ]
    },
    {
      "cell_type": "code",
      "metadata": {
        "id": "eLhJqYavXXTX",
        "colab_type": "code",
        "outputId": "48dffe27-b975-4fbe-9ab9-b8ff25807e42",
        "colab": {
          "base_uri": "https://localhost:8080/",
          "height": 238
        }
      },
      "source": [
        "# Executes the cell in bash mode\n",
        "%%bash\n",
        "\n",
        "python /content/deep-deblurring/deblurrer/scripts/datasets/compile_all.py"
      ],
      "execution_count": 7,
      "outputs": [
        {
          "output_type": "stream",
          "text": [
            "Downloading kaggle_blur\n",
            "Downloading blur-dataset.zip to /content/deep-deblurring/datasets/kaggle_blur\n",
            "\n",
            "Generating .csv files\n",
            ".csv files successfully generated\n",
            "Generating TFRecords\n",
            "Generating train.csv TFRecords\n",
            "Generating valid.csv TFRecords\n",
            "Generating test.csv TFRecords\n",
            "TFRecords succesfully generated\n"
          ],
          "name": "stdout"
        },
        {
          "output_type": "stream",
          "text": [
            "\r  0%|          | 0.00/1.49G [00:00<?, ?B/s]\r  0%|          | 5.00M/1.49G [00:00<01:09, 22.8MB/s]\r  1%|          | 9.00M/1.49G [00:00<01:25, 18.6MB/s]\r  2%|▏         | 25.0M/1.49G [00:00<01:02, 25.4MB/s]\r  3%|▎         | 41.0M/1.49G [00:00<00:49, 31.5MB/s]\r  3%|▎         | 49.0M/1.49G [00:01<01:22, 18.7MB/s]\r  4%|▍         | 64.0M/1.49G [00:01<01:00, 25.4MB/s]\r  5%|▌         | 77.0M/1.49G [00:01<00:45, 33.6MB/s]\r  6%|▌         | 87.0M/1.49G [00:03<01:17, 19.6MB/s]\r  7%|▋         | 104M/1.49G [00:03<00:56, 26.6MB/s] \r  7%|▋         | 114M/1.49G [00:03<01:04, 22.9MB/s]\r  9%|▊         | 130M/1.49G [00:03<00:47, 30.8MB/s]\r  9%|▉         | 145M/1.49G [00:04<00:40, 35.7MB/s]\r 10%|█         | 154M/1.49G [00:04<00:38, 37.3MB/s]\r 11%|█         | 170M/1.49G [00:04<00:29, 48.5MB/s]\r 12%|█▏        | 185M/1.49G [00:04<00:23, 58.9MB/s]\r 13%|█▎        | 196M/1.49G [00:04<00:22, 60.8MB/s]\r 14%|█▍        | 211M/1.49G [00:04<00:18, 73.9MB/s]\r 15%|█▍        | 222M/1.49G [00:04<00:16, 82.3MB/s]\r 15%|█▌        | 234M/1.49G [00:05<00:14, 90.9MB/s]\r 16%|█▋        | 249M/1.49G [00:05<00:13, 98.8MB/s]\r 17%|█▋        | 265M/1.49G [00:05<00:13, 96.2MB/s]\r 18%|█▊        | 279M/1.49G [00:05<00:12, 107MB/s] \r 19%|█▉        | 291M/1.49G [00:05<00:12, 107MB/s]\r 20%|█▉        | 304M/1.49G [00:05<00:11, 115MB/s]\r 21%|██        | 316M/1.49G [00:05<00:15, 82.5MB/s]\r 22%|██▏       | 330M/1.49G [00:06<00:13, 93.8MB/s]\r 22%|██▏       | 341M/1.49G [00:06<00:27, 46.0MB/s]\r 23%|██▎       | 357M/1.49G [00:06<00:20, 58.5MB/s]\r 24%|██▍       | 373M/1.49G [00:06<00:16, 72.6MB/s]\r 25%|██▌       | 385M/1.49G [00:06<00:16, 73.0MB/s]\r 26%|██▋       | 401M/1.49G [00:07<00:25, 45.6MB/s]\r 27%|██▋       | 412M/1.49G [00:07<00:21, 55.4MB/s]\r 28%|██▊       | 423M/1.49G [00:07<00:17, 65.3MB/s]\r 29%|██▊       | 437M/1.49G [00:07<00:14, 77.9MB/s]\r 30%|██▉       | 451M/1.49G [00:08<00:12, 90.6MB/s]\r 30%|███       | 463M/1.49G [00:08<00:16, 66.5MB/s]\r 31%|███▏      | 478M/1.49G [00:08<00:13, 80.3MB/s]\r 32%|███▏      | 495M/1.49G [00:08<00:11, 95.3MB/s]\r 33%|███▎      | 508M/1.49G [00:08<00:10, 103MB/s] \r 34%|███▍      | 521M/1.49G [00:09<00:16, 65.6MB/s]\r 35%|███▌      | 537M/1.49G [00:09<00:13, 74.5MB/s]\r 36%|███▌      | 547M/1.49G [00:10<00:38, 26.5MB/s]\r 37%|███▋      | 563M/1.49G [00:10<00:28, 35.4MB/s]\r 38%|███▊      | 577M/1.49G [00:10<00:23, 42.8MB/s]\r 38%|███▊      | 587M/1.49G [00:11<00:42, 22.9MB/s]\r 39%|███▉      | 602M/1.49G [00:11<00:31, 30.8MB/s]\r 40%|████      | 614M/1.49G [00:11<00:24, 39.6MB/s]\r 41%|████      | 624M/1.49G [00:12<00:29, 32.4MB/s]\r 42%|████▏     | 640M/1.49G [00:12<00:21, 42.7MB/s]\r 43%|████▎     | 651M/1.49G [00:12<00:28, 32.4MB/s]\r 44%|████▍     | 668M/1.49G [00:12<00:21, 42.9MB/s]\r 45%|████▍     | 680M/1.49G [00:12<00:16, 53.3MB/s]\r 46%|████▌     | 697M/1.49G [00:13<00:20, 41.5MB/s]\r 47%|████▋     | 713M/1.49G [00:13<00:16, 53.3MB/s]\r 47%|████▋     | 724M/1.49G [00:13<00:15, 55.4MB/s]\r 48%|████▊     | 733M/1.49G [00:14<00:21, 38.1MB/s]\r 49%|████▊     | 744M/1.49G [00:14<00:17, 47.4MB/s]\r 49%|████▉     | 755M/1.49G [00:14<00:14, 57.2MB/s]\r 51%|█████     | 771M/1.49G [00:14<00:11, 70.9MB/s]\r 51%|█████▏    | 784M/1.49G [00:14<00:09, 82.2MB/s]\r 52%|█████▏    | 796M/1.49G [00:15<00:22, 34.4MB/s]\r 53%|█████▎    | 815M/1.49G [00:15<00:16, 45.7MB/s]\r 54%|█████▍    | 827M/1.49G [00:16<00:32, 22.8MB/s]\r 55%|█████▌    | 846M/1.49G [00:17<00:22, 31.0MB/s]\r 56%|█████▌    | 858M/1.49G [00:18<00:33, 20.8MB/s]\r 57%|█████▋    | 871M/1.49G [00:18<00:24, 27.8MB/s]\r 58%|█████▊    | 888M/1.49G [00:18<00:17, 37.2MB/s]\r 59%|█████▉    | 900M/1.49G [00:18<00:15, 42.6MB/s]\r 60%|█████▉    | 910M/1.49G [00:19<00:21, 30.0MB/s]\r 61%|██████    | 928M/1.49G [00:19<00:15, 40.1MB/s]\r 62%|██████▏   | 939M/1.49G [00:19<00:18, 34.0MB/s]\r 63%|██████▎   | 958M/1.49G [00:19<00:13, 45.1MB/s]\r 64%|██████▎   | 970M/1.49G [00:20<00:24, 23.4MB/s]\r 65%|██████▍   | 989M/1.49G [00:21<00:17, 31.8MB/s]\r 66%|██████▌   | 0.98G/1.49G [00:21<00:12, 42.4MB/s]\r 67%|██████▋   | 1.00G/1.49G [00:21<00:11, 47.0MB/s]\r 68%|██████▊   | 1.01G/1.49G [00:21<00:08, 58.3MB/s]\r 69%|██████▉   | 1.03G/1.49G [00:21<00:06, 71.6MB/s]\r 70%|██████▉   | 1.04G/1.49G [00:21<00:06, 78.0MB/s]\r 70%|███████   | 1.05G/1.49G [00:22<00:08, 59.1MB/s]\r 71%|███████▏  | 1.06G/1.49G [00:22<00:10, 45.1MB/s]\r 73%|███████▎  | 1.08G/1.49G [00:22<00:07, 58.6MB/s]\r 73%|███████▎  | 1.09G/1.49G [00:22<00:07, 55.4MB/s]\r 74%|███████▍  | 1.11G/1.49G [00:22<00:05, 70.2MB/s]\r 75%|███████▌  | 1.12G/1.49G [00:23<00:04, 83.3MB/s]\r 76%|███████▋  | 1.14G/1.49G [00:23<00:06, 61.5MB/s]\r 77%|███████▋  | 1.15G/1.49G [00:23<00:04, 75.9MB/s]\r 78%|███████▊  | 1.17G/1.49G [00:23<00:04, 84.3MB/s]\r 79%|███████▉  | 1.18G/1.49G [00:24<00:11, 30.5MB/s]\r 80%|███████▉  | 1.19G/1.49G [00:24<00:08, 39.9MB/s]\r 81%|████████  | 1.21G/1.49G [00:24<00:05, 52.0MB/s]\r 82%|████████▏ | 1.22G/1.49G [00:25<00:04, 60.1MB/s]\r 83%|████████▎ | 1.23G/1.49G [00:25<00:05, 54.1MB/s]\r 83%|████████▎ | 1.24G/1.49G [00:25<00:04, 59.0MB/s]\r 84%|████████▍ | 1.25G/1.49G [00:25<00:03, 70.1MB/s]\r 85%|████████▍ | 1.26G/1.49G [00:26<00:08, 27.9MB/s]\r 86%|████████▌ | 1.28G/1.49G [00:26<00:06, 37.5MB/s]\r 87%|████████▋ | 1.29G/1.49G [00:26<00:06, 35.5MB/s]\r 87%|████████▋ | 1.30G/1.49G [00:27<00:04, 41.8MB/s]\r 88%|████████▊ | 1.31G/1.49G [00:27<00:03, 53.5MB/s]\r 89%|████████▉ | 1.32G/1.49G [00:27<00:02, 61.5MB/s]\r 90%|████████▉ | 1.33G/1.49G [00:27<00:02, 71.8MB/s]\r 90%|█████████ | 1.35G/1.49G [00:28<00:05, 28.6MB/s]\r 91%|█████████ | 1.36G/1.49G [00:28<00:03, 37.7MB/s]\r 92%|█████████▏| 1.37G/1.49G [00:28<00:03, 40.3MB/s]\r 92%|█████████▏| 1.38G/1.49G [00:28<00:03, 36.0MB/s]\r 93%|█████████▎| 1.38G/1.49G [00:29<00:06, 18.7MB/s]\r 94%|█████████▍| 1.40G/1.49G [00:30<00:04, 22.9MB/s]\r 95%|█████████▍| 1.42G/1.49G [00:31<00:03, 21.5MB/s]\r 96%|█████████▌| 1.43G/1.49G [00:31<00:03, 21.5MB/s]\r 97%|█████████▋| 1.45G/1.49G [00:31<00:01, 29.0MB/s]\r 98%|█████████▊| 1.45G/1.49G [00:32<00:02, 15.9MB/s]\r 99%|█████████▊| 1.47G/1.49G [00:33<00:00, 21.9MB/s]\r 99%|█████████▉| 1.48G/1.49G [00:33<00:00, 28.9MB/s]\r100%|██████████| 1.49G/1.49G [00:33<00:00, 28.8MB/s]2020-03-11 22:13:20.182998: E tensorflow/stream_executor/cuda/cuda_driver.cc:351] failed call to cuInit: CUDA_ERROR_NO_DEVICE: no CUDA-capable device is detected\n",
            "\n"
          ],
          "name": "stderr"
        }
      ]
    },
    {
      "cell_type": "markdown",
      "metadata": {
        "id": "tadLG-QLxfuw",
        "colab_type": "text"
      },
      "source": [
        "# Hyper-Parameters"
      ]
    },
    {
      "cell_type": "code",
      "metadata": {
        "id": "XstJKbWNxkeD",
        "colab_type": "code",
        "colab": {}
      },
      "source": [
        "import os\n",
        "\n",
        "os.environ['BATCH_SIZE'] = '4'\n",
        "os.environ['FPN_CHANNELS'] = '128'\n",
        "os.environ['GEN_LR'] = '0.001'\n",
        "os.environ['DISC_LR'] = '0.001'"
      ],
      "execution_count": 0,
      "outputs": []
    },
    {
      "cell_type": "markdown",
      "metadata": {
        "id": "R7zhQeHhxu6V",
        "colab_type": "text"
      },
      "source": [
        "# Training"
      ]
    },
    {
      "cell_type": "code",
      "metadata": {
        "id": "wekGwrJExuUC",
        "colab_type": "code",
        "outputId": "735dff04-43e0-4027-873f-f604f025b442",
        "colab": {
          "base_uri": "https://localhost:8080/",
          "height": 272
        }
      },
      "source": [
        "# Executes the cell in bash mode\n",
        "%%bash\n",
        "\n",
        "python /content/deep-deblurring/deblurrer/scripts/training/train.py"
      ],
      "execution_count": 9,
      "outputs": [
        {
          "output_type": "stream",
          "text": [
            "/content/deep-deblurring/datasets/tfrecords\n",
            "Downloading data from https://github.com/JonathanCMitchell/mobilenet_v2_keras/releases/download/v1.1/mobilenet_v2_weights_tf_dim_ordering_tf_kernels_1.0_224_no_top.h5\n",
            "\r   8192/9406464 [..............................] - ETA: 0s\b\b\b\b\b\b\b\b\b\b\b\b\b\b\b\b\b\b\b\b\b\b\b\b\b\b\b\b\b\b\b\b\b\b\b\b\b\b\b\b\b\b\b\b\b\b\b\b\b\b\b\b\b\b\b\b\b\b\r  57344/9406464 [..............................] - ETA: 9s\b\b\b\b\b\b\b\b\b\b\b\b\b\b\b\b\b\b\b\b\b\b\b\b\b\b\b\b\b\b\b\b\b\b\b\b\b\b\b\b\b\b\b\b\b\b\b\b\b\b\b\b\b\b\b\b\b\b\r 303104/9406464 [..............................] - ETA: 3s\b\b\b\b\b\b\b\b\b\b\b\b\b\b\b\b\b\b\b\b\b\b\b\b\b\b\b\b\b\b\b\b\b\b\b\b\b\b\b\b\b\b\b\b\b\b\b\b\b\b\b\b\b\b\b\b\b\b\r 958464/9406464 [==>...........................] - ETA: 1s\b\b\b\b\b\b\b\b\b\b\b\b\b\b\b\b\b\b\b\b\b\b\b\b\b\b\b\b\b\b\b\b\b\b\b\b\b\b\b\b\b\b\b\b\b\b\b\b\b\b\b\b\b\b\b\b\b\b\r3530752/9406464 [==========>...................] - ETA: 0s\b\b\b\b\b\b\b\b\b\b\b\b\b\b\b\b\b\b\b\b\b\b\b\b\b\b\b\b\b\b\b\b\b\b\b\b\b\b\b\b\b\b\b\b\b\b\b\b\b\b\b\b\b\b\b\b\b\b\r9412608/9406464 [==============================] - 0s 0us/step\n",
            "\n",
            "\rTest: [gen_loss: 0.785446] [disc_loss: 1.370539]\rTest: [gen_loss: 0.779816] [disc_loss: 1.376448]\rTest: [gen_loss: 0.781512] [disc_loss: 1.378162]\rTest: [gen_loss: 0.783573] [disc_loss: 1.376856]\rTest: [gen_loss: 0.781932] [disc_loss: 1.377497]\rTest: [gen_loss: 0.780832] [disc_loss: 1.379120]\n",
            "\rTest: [gen_loss: 0.785446] [disc_loss: 1.370539]\rTest: [gen_loss: 0.779816] [disc_loss: 1.376448]\rTest: [gen_loss: 0.781512] [disc_loss: 1.378162]\rTest: [gen_loss: 0.783573] [disc_loss: 1.376856]\rTest: [gen_loss: 0.781932] [disc_loss: 1.377497]\rTest: [gen_loss: 0.780832] [disc_loss: 1.379120]"
          ],
          "name": "stdout"
        },
        {
          "output_type": "stream",
          "text": [
            "2020-03-11 22:16:45.480611: E tensorflow/stream_executor/cuda/cuda_driver.cc:351] failed call to cuInit: CUDA_ERROR_NO_DEVICE: no CUDA-capable device is detected\n",
            "WARNING:tensorflow:There are non-GPU devices in `tf.distribute.Strategy`, not using nccl allreduce.\n",
            "2020-03-11 22:16:52.997025: W tensorflow/core/framework/cpu_allocator_impl.cc:81] Allocation of 100663296 exceeds 10% of system memory.\n",
            "2020-03-11 22:16:53.109132: W tensorflow/core/framework/cpu_allocator_impl.cc:81] Allocation of 101451264 exceeds 10% of system memory.\n",
            "2020-03-11 22:16:57.983897: W tensorflow/core/framework/cpu_allocator_impl.cc:81] Allocation of 536870912 exceeds 10% of system memory.\n",
            "2020-03-11 22:17:03.069387: W tensorflow/core/framework/cpu_allocator_impl.cc:81] Allocation of 100663296 exceeds 10% of system memory.\n",
            "2020-03-11 22:17:03.127822: W tensorflow/core/framework/cpu_allocator_impl.cc:81] Allocation of 101451264 exceeds 10% of system memory.\n",
            "/tensorflow-2.1.0/python3.6/keras_applications/mobilenet_v2.py:294: UserWarning: `input_shape` is undefined or non-square, or `rows` is not in [96, 128, 160, 192, 224]. Weights for input shape (224, 224) will be loaded as the default.\n",
            "  warnings.warn('`input_shape` is undefined or non-square, '\n"
          ],
          "name": "stderr"
        }
      ]
    }
  ]
}