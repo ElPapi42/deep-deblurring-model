{
  "nbformat": 4,
  "nbformat_minor": 0,
  "metadata": {
    "colab": {
      "name": "TrainingPipeline.ipynb",
      "provenance": [],
      "toc_visible": true
    },
    "kernelspec": {
      "name": "python3",
      "display_name": "Python 3"
    },
    "accelerator": "GPU"
  },
  "cells": [
    {
      "cell_type": "markdown",
      "metadata": {
        "colab_type": "text",
        "id": "1dlnuW3PXug4"
      },
      "source": [
        "This Notebook will present the results of the Exploratory Data Analysis"
      ]
    },
    {
      "cell_type": "markdown",
      "metadata": {
        "id": "RrvHAc8OXfqj",
        "colab_type": "text"
      },
      "source": [
        "# Clone Repository"
      ]
    },
    {
      "cell_type": "code",
      "metadata": {
        "id": "Ftt1Y5NCXk3E",
        "colab_type": "code",
        "outputId": "b2526e2d-bf91-493c-c7a3-baec80616ff3",
        "colab": {
          "base_uri": "https://localhost:8080/",
          "height": 67
        }
      },
      "source": [
        "# Executes the cell in bash mode\n",
        "%%bash\n",
        "\n",
        "if [ ! -d \"/content/deep-deblurring/\" ]; \n",
        "    then \n",
        "        git clone https://github.com/ElPapi42/deep-deblurring;\n",
        "        cd deep-deblurring/\n",
        "    else \n",
        "        cd deep-deblurring/; \n",
        "        git pull; \n",
        "fi;\n",
        "\n",
        "git checkout book_save\n",
        "cd .."
      ],
      "execution_count": 1,
      "outputs": [
        {
          "output_type": "stream",
          "text": [
            "Branch 'book_save' set up to track remote branch 'book_save' from 'origin'.\n"
          ],
          "name": "stdout"
        },
        {
          "output_type": "stream",
          "text": [
            "Cloning into 'deep-deblurring'...\n",
            "Switched to a new branch 'book_save'\n"
          ],
          "name": "stderr"
        }
      ]
    },
    {
      "cell_type": "markdown",
      "metadata": {
        "id": "xWHANHmdSYXg",
        "colab_type": "text"
      },
      "source": [
        "# Install Requirements"
      ]
    },
    {
      "cell_type": "code",
      "metadata": {
        "id": "80rBf-xcQTqb",
        "colab_type": "code",
        "outputId": "10b14f0a-c6cf-4348-ee2b-f1c3f21e95a7",
        "colab": {
          "base_uri": "https://localhost:8080/",
          "height": 1000
        }
      },
      "source": [
        "# Executes the cell in bash mode\n",
        "%%bash\n",
        "\n",
        "#pip uninstall -y tensorflow tensor2tensor tensorboard tensorboardcolab tensorflow-datasets tensorflow-estimator tensorflow-gan tensorflow-hub tensorflow-metadata tensorflow-privacy tensorflow-probability\n",
        "\n",
        "pip install colab-env\n",
        "pip install --upgrade grpcio\n",
        "\n",
        "#pip install -r \"/content/deep-deblurring/model/requirements.txt\"\n",
        "\n",
        "cd deep-deblurring/model/\n",
        "python setup.py install\n",
        "cd /content/"
      ],
      "execution_count": 2,
      "outputs": [
        {
          "output_type": "stream",
          "text": [
            "Collecting colab-env\n",
            "  Downloading https://files.pythonhosted.org/packages/9d/66/1845bc28d685894e6e203cfb2bdd9d19c86926d7a6f765e9497e218ab304/colab-env-0.2.0.tar.gz\n",
            "Collecting python-dotenv<1.0,>=0.10.0\n",
            "  Downloading https://files.pythonhosted.org/packages/7f/ee/e0cd2d8ba548e4c3e8c9e70d76e423b3e8b8e4eec351f51292d828c735d2/python_dotenv-0.12.0-py2.py3-none-any.whl\n",
            "Building wheels for collected packages: colab-env\n",
            "  Building wheel for colab-env (setup.py): started\n",
            "  Building wheel for colab-env (setup.py): finished with status 'done'\n",
            "  Created wheel for colab-env: filename=colab_env-0.2.0-cp36-none-any.whl size=3838 sha256=0dd4a241012d5caf3c252decdcf8635f825667584341a5c7e8b55a3cf5877324\n",
            "  Stored in directory: /root/.cache/pip/wheels/81/9c/85/7ec1faca43d1a5df32f33f4e22d5ae91f301a5406779528ead\n",
            "Successfully built colab-env\n",
            "Installing collected packages: python-dotenv, colab-env\n",
            "Successfully installed colab-env-0.2.0 python-dotenv-0.12.0\n",
            "Requirement already up-to-date: grpcio in /usr/local/lib/python3.6/dist-packages (1.28.1)\n",
            "Requirement already satisfied, skipping upgrade: six>=1.5.2 in /usr/local/lib/python3.6/dist-packages (from grpcio) (1.12.0)\n",
            "running install\n",
            "running bdist_egg\n",
            "running egg_info\n",
            "creating deblurrer.egg-info\n",
            "writing deblurrer.egg-info/PKG-INFO\n",
            "writing dependency_links to deblurrer.egg-info/dependency_links.txt\n",
            "writing requirements to deblurrer.egg-info/requires.txt\n",
            "writing top-level names to deblurrer.egg-info/top_level.txt\n",
            "writing manifest file 'deblurrer.egg-info/SOURCES.txt'\n",
            "writing manifest file 'deblurrer.egg-info/SOURCES.txt'\n",
            "installing library code to build/bdist.linux-x86_64/egg\n",
            "running install_lib\n",
            "running build_py\n",
            "creating build\n",
            "creating build/lib\n",
            "creating build/lib/deblurrer\n",
            "copying deblurrer/__init__.py -> build/lib/deblurrer\n",
            "creating build/lib/tests\n",
            "copying tests/fixtures.py -> build/lib/tests\n",
            "copying tests/__init__.py -> build/lib/tests\n",
            "creating build/lib/deblurrer/scripts\n",
            "copying deblurrer/scripts/__init__.py -> build/lib/deblurrer/scripts\n",
            "creating build/lib/deblurrer/model\n",
            "copying deblurrer/model/deblurgan.py -> build/lib/deblurrer/model\n",
            "copying deblurrer/model/__init__.py -> build/lib/deblurrer/model\n",
            "copying deblurrer/model/callbacks.py -> build/lib/deblurrer/model\n",
            "copying deblurrer/model/losses.py -> build/lib/deblurrer/model\n",
            "creating build/lib/deblurrer/scripts/datasets\n",
            "copying deblurrer/scripts/datasets/generate_dataset.py -> build/lib/deblurrer/scripts/datasets\n",
            "copying deblurrer/scripts/datasets/generate_csv.py -> build/lib/deblurrer/scripts/datasets\n",
            "copying deblurrer/scripts/datasets/compile_all.py -> build/lib/deblurrer/scripts/datasets\n",
            "copying deblurrer/scripts/datasets/download.py -> build/lib/deblurrer/scripts/datasets\n",
            "copying deblurrer/scripts/datasets/generate_tfrecord.py -> build/lib/deblurrer/scripts/datasets\n",
            "copying deblurrer/scripts/datasets/__init__.py -> build/lib/deblurrer/scripts/datasets\n",
            "copying deblurrer/scripts/datasets/kaggle_blur.py -> build/lib/deblurrer/scripts/datasets\n",
            "creating build/lib/deblurrer/scripts/training\n",
            "copying deblurrer/scripts/training/__init__.py -> build/lib/deblurrer/scripts/training\n",
            "copying deblurrer/scripts/training/train.py -> build/lib/deblurrer/scripts/training\n",
            "creating build/lib/deblurrer/model/generator\n",
            "copying deblurrer/model/generator/generator.py -> build/lib/deblurrer/model/generator\n",
            "copying deblurrer/model/generator/backbone.py -> build/lib/deblurrer/model/generator\n",
            "copying deblurrer/model/generator/fpn.py -> build/lib/deblurrer/model/generator\n",
            "copying deblurrer/model/generator/__init__.py -> build/lib/deblurrer/model/generator\n",
            "creating build/lib/deblurrer/model/discriminator\n",
            "copying deblurrer/model/discriminator/dglobal.py -> build/lib/deblurrer/model/discriminator\n",
            "copying deblurrer/model/discriminator/discriminator.py -> build/lib/deblurrer/model/discriminator\n",
            "copying deblurrer/model/discriminator/local.py -> build/lib/deblurrer/model/discriminator\n",
            "copying deblurrer/model/discriminator/__init__.py -> build/lib/deblurrer/model/discriminator\n",
            "creating build/lib/tests/scripts\n",
            "copying tests/scripts/__init__.py -> build/lib/tests/scripts\n",
            "creating build/lib/tests/model\n",
            "copying tests/model/losses_test.py -> build/lib/tests/model\n",
            "copying tests/model/discriminator_test.py -> build/lib/tests/model\n",
            "copying tests/model/generator_test.py -> build/lib/tests/model\n",
            "copying tests/model/__init__.py -> build/lib/tests/model\n",
            "creating build/lib/deblurrer/colab\n",
            "copying deblurrer/colab/TrainBook.ipynb -> build/lib/deblurrer/colab\n",
            "creating build/bdist.linux-x86_64\n",
            "creating build/bdist.linux-x86_64/egg\n",
            "creating build/bdist.linux-x86_64/egg/deblurrer\n",
            "creating build/bdist.linux-x86_64/egg/deblurrer/colab\n",
            "copying build/lib/deblurrer/colab/TrainBook.ipynb -> build/bdist.linux-x86_64/egg/deblurrer/colab\n",
            "creating build/bdist.linux-x86_64/egg/deblurrer/scripts\n",
            "creating build/bdist.linux-x86_64/egg/deblurrer/scripts/datasets\n",
            "copying build/lib/deblurrer/scripts/datasets/generate_dataset.py -> build/bdist.linux-x86_64/egg/deblurrer/scripts/datasets\n",
            "copying build/lib/deblurrer/scripts/datasets/generate_csv.py -> build/bdist.linux-x86_64/egg/deblurrer/scripts/datasets\n",
            "copying build/lib/deblurrer/scripts/datasets/compile_all.py -> build/bdist.linux-x86_64/egg/deblurrer/scripts/datasets\n",
            "copying build/lib/deblurrer/scripts/datasets/download.py -> build/bdist.linux-x86_64/egg/deblurrer/scripts/datasets\n",
            "copying build/lib/deblurrer/scripts/datasets/generate_tfrecord.py -> build/bdist.linux-x86_64/egg/deblurrer/scripts/datasets\n",
            "copying build/lib/deblurrer/scripts/datasets/__init__.py -> build/bdist.linux-x86_64/egg/deblurrer/scripts/datasets\n",
            "copying build/lib/deblurrer/scripts/datasets/kaggle_blur.py -> build/bdist.linux-x86_64/egg/deblurrer/scripts/datasets\n",
            "copying build/lib/deblurrer/scripts/__init__.py -> build/bdist.linux-x86_64/egg/deblurrer/scripts\n",
            "creating build/bdist.linux-x86_64/egg/deblurrer/scripts/training\n",
            "copying build/lib/deblurrer/scripts/training/__init__.py -> build/bdist.linux-x86_64/egg/deblurrer/scripts/training\n",
            "copying build/lib/deblurrer/scripts/training/train.py -> build/bdist.linux-x86_64/egg/deblurrer/scripts/training\n",
            "creating build/bdist.linux-x86_64/egg/deblurrer/model\n",
            "creating build/bdist.linux-x86_64/egg/deblurrer/model/generator\n",
            "copying build/lib/deblurrer/model/generator/generator.py -> build/bdist.linux-x86_64/egg/deblurrer/model/generator\n",
            "copying build/lib/deblurrer/model/generator/backbone.py -> build/bdist.linux-x86_64/egg/deblurrer/model/generator\n",
            "copying build/lib/deblurrer/model/generator/fpn.py -> build/bdist.linux-x86_64/egg/deblurrer/model/generator\n",
            "copying build/lib/deblurrer/model/generator/__init__.py -> build/bdist.linux-x86_64/egg/deblurrer/model/generator\n",
            "creating build/bdist.linux-x86_64/egg/deblurrer/model/discriminator\n",
            "copying build/lib/deblurrer/model/discriminator/dglobal.py -> build/bdist.linux-x86_64/egg/deblurrer/model/discriminator\n",
            "copying build/lib/deblurrer/model/discriminator/discriminator.py -> build/bdist.linux-x86_64/egg/deblurrer/model/discriminator\n",
            "copying build/lib/deblurrer/model/discriminator/local.py -> build/bdist.linux-x86_64/egg/deblurrer/model/discriminator\n",
            "copying build/lib/deblurrer/model/discriminator/__init__.py -> build/bdist.linux-x86_64/egg/deblurrer/model/discriminator\n",
            "copying build/lib/deblurrer/model/deblurgan.py -> build/bdist.linux-x86_64/egg/deblurrer/model\n",
            "copying build/lib/deblurrer/model/__init__.py -> build/bdist.linux-x86_64/egg/deblurrer/model\n",
            "copying build/lib/deblurrer/model/callbacks.py -> build/bdist.linux-x86_64/egg/deblurrer/model\n",
            "copying build/lib/deblurrer/model/losses.py -> build/bdist.linux-x86_64/egg/deblurrer/model\n",
            "copying build/lib/deblurrer/__init__.py -> build/bdist.linux-x86_64/egg/deblurrer\n",
            "creating build/bdist.linux-x86_64/egg/tests\n",
            "creating build/bdist.linux-x86_64/egg/tests/scripts\n",
            "copying build/lib/tests/scripts/__init__.py -> build/bdist.linux-x86_64/egg/tests/scripts\n",
            "creating build/bdist.linux-x86_64/egg/tests/model\n",
            "copying build/lib/tests/model/losses_test.py -> build/bdist.linux-x86_64/egg/tests/model\n",
            "copying build/lib/tests/model/discriminator_test.py -> build/bdist.linux-x86_64/egg/tests/model\n",
            "copying build/lib/tests/model/generator_test.py -> build/bdist.linux-x86_64/egg/tests/model\n",
            "copying build/lib/tests/model/__init__.py -> build/bdist.linux-x86_64/egg/tests/model\n",
            "copying build/lib/tests/fixtures.py -> build/bdist.linux-x86_64/egg/tests\n",
            "copying build/lib/tests/__init__.py -> build/bdist.linux-x86_64/egg/tests\n",
            "byte-compiling build/bdist.linux-x86_64/egg/deblurrer/scripts/datasets/generate_dataset.py to generate_dataset.cpython-36.pyc\n",
            "byte-compiling build/bdist.linux-x86_64/egg/deblurrer/scripts/datasets/generate_csv.py to generate_csv.cpython-36.pyc\n",
            "byte-compiling build/bdist.linux-x86_64/egg/deblurrer/scripts/datasets/compile_all.py to compile_all.cpython-36.pyc\n",
            "byte-compiling build/bdist.linux-x86_64/egg/deblurrer/scripts/datasets/download.py to download.cpython-36.pyc\n",
            "byte-compiling build/bdist.linux-x86_64/egg/deblurrer/scripts/datasets/generate_tfrecord.py to generate_tfrecord.cpython-36.pyc\n",
            "byte-compiling build/bdist.linux-x86_64/egg/deblurrer/scripts/datasets/__init__.py to __init__.cpython-36.pyc\n",
            "byte-compiling build/bdist.linux-x86_64/egg/deblurrer/scripts/datasets/kaggle_blur.py to kaggle_blur.cpython-36.pyc\n",
            "byte-compiling build/bdist.linux-x86_64/egg/deblurrer/scripts/__init__.py to __init__.cpython-36.pyc\n",
            "byte-compiling build/bdist.linux-x86_64/egg/deblurrer/scripts/training/__init__.py to __init__.cpython-36.pyc\n",
            "byte-compiling build/bdist.linux-x86_64/egg/deblurrer/scripts/training/train.py to train.cpython-36.pyc\n",
            "byte-compiling build/bdist.linux-x86_64/egg/deblurrer/model/generator/generator.py to generator.cpython-36.pyc\n",
            "byte-compiling build/bdist.linux-x86_64/egg/deblurrer/model/generator/backbone.py to backbone.cpython-36.pyc\n",
            "byte-compiling build/bdist.linux-x86_64/egg/deblurrer/model/generator/fpn.py to fpn.cpython-36.pyc\n",
            "byte-compiling build/bdist.linux-x86_64/egg/deblurrer/model/generator/__init__.py to __init__.cpython-36.pyc\n",
            "byte-compiling build/bdist.linux-x86_64/egg/deblurrer/model/discriminator/dglobal.py to dglobal.cpython-36.pyc\n",
            "byte-compiling build/bdist.linux-x86_64/egg/deblurrer/model/discriminator/discriminator.py to discriminator.cpython-36.pyc\n",
            "byte-compiling build/bdist.linux-x86_64/egg/deblurrer/model/discriminator/local.py to local.cpython-36.pyc\n",
            "byte-compiling build/bdist.linux-x86_64/egg/deblurrer/model/discriminator/__init__.py to __init__.cpython-36.pyc\n",
            "byte-compiling build/bdist.linux-x86_64/egg/deblurrer/model/deblurgan.py to deblurgan.cpython-36.pyc\n",
            "byte-compiling build/bdist.linux-x86_64/egg/deblurrer/model/__init__.py to __init__.cpython-36.pyc\n",
            "byte-compiling build/bdist.linux-x86_64/egg/deblurrer/model/callbacks.py to callbacks.cpython-36.pyc\n",
            "byte-compiling build/bdist.linux-x86_64/egg/deblurrer/model/losses.py to losses.cpython-36.pyc\n",
            "byte-compiling build/bdist.linux-x86_64/egg/deblurrer/__init__.py to __init__.cpython-36.pyc\n",
            "byte-compiling build/bdist.linux-x86_64/egg/tests/scripts/__init__.py to __init__.cpython-36.pyc\n",
            "byte-compiling build/bdist.linux-x86_64/egg/tests/model/losses_test.py to losses_test.cpython-36.pyc\n",
            "byte-compiling build/bdist.linux-x86_64/egg/tests/model/discriminator_test.py to discriminator_test.cpython-36.pyc\n",
            "byte-compiling build/bdist.linux-x86_64/egg/tests/model/generator_test.py to generator_test.cpython-36.pyc\n",
            "byte-compiling build/bdist.linux-x86_64/egg/tests/model/__init__.py to __init__.cpython-36.pyc\n",
            "byte-compiling build/bdist.linux-x86_64/egg/tests/fixtures.py to fixtures.cpython-36.pyc\n",
            "byte-compiling build/bdist.linux-x86_64/egg/tests/__init__.py to __init__.cpython-36.pyc\n",
            "creating build/bdist.linux-x86_64/egg/EGG-INFO\n",
            "copying deblurrer.egg-info/PKG-INFO -> build/bdist.linux-x86_64/egg/EGG-INFO\n",
            "copying deblurrer.egg-info/SOURCES.txt -> build/bdist.linux-x86_64/egg/EGG-INFO\n",
            "copying deblurrer.egg-info/dependency_links.txt -> build/bdist.linux-x86_64/egg/EGG-INFO\n",
            "copying deblurrer.egg-info/requires.txt -> build/bdist.linux-x86_64/egg/EGG-INFO\n",
            "copying deblurrer.egg-info/top_level.txt -> build/bdist.linux-x86_64/egg/EGG-INFO\n",
            "creating dist\n",
            "creating 'dist/deblurrer-1.0.0-py3.6.egg' and adding 'build/bdist.linux-x86_64/egg' to it\n",
            "removing 'build/bdist.linux-x86_64/egg' (and everything under it)\n",
            "Processing deblurrer-1.0.0-py3.6.egg\n",
            "creating /usr/local/lib/python3.6/dist-packages/deblurrer-1.0.0-py3.6.egg\n",
            "Extracting deblurrer-1.0.0-py3.6.egg to /usr/local/lib/python3.6/dist-packages\n",
            "Adding deblurrer 1.0.0 to easy-install.pth file\n",
            "\n",
            "Installed /usr/local/lib/python3.6/dist-packages/deblurrer-1.0.0-py3.6.egg\n",
            "Processing dependencies for deblurrer==1.0.0\n",
            "Searching for grpcio==1.27.2\n",
            "Reading https://pypi.org/simple/grpcio/\n",
            "Downloading https://files.pythonhosted.org/packages/f1/97/bece4417f349f8f83252232ef66ea63eb47f8044ca61b51e2a478e2c7a94/grpcio-1.27.2-cp36-cp36m-manylinux1_x86_64.whl#sha256=68a149a0482d0bc697aac702ec6efb9d380e0afebf9484db5b7e634146528371\n",
            "Best match: grpcio 1.27.2\n",
            "Processing grpcio-1.27.2-cp36-cp36m-manylinux1_x86_64.whl\n",
            "Installing grpcio-1.27.2-cp36-cp36m-manylinux1_x86_64.whl to /usr/local/lib/python3.6/dist-packages\n",
            "Adding grpcio 1.27.2 to easy-install.pth file\n",
            "\n",
            "Installed /usr/local/lib/python3.6/dist-packages/grpcio-1.27.2-py3.6-linux-x86_64.egg\n",
            "Searching for python-dotenv==0.12.0\n",
            "Best match: python-dotenv 0.12.0\n",
            "Adding python-dotenv 0.12.0 to easy-install.pth file\n",
            "Installing dotenv script to /usr/local/bin\n",
            "\n",
            "Using /usr/local/lib/python3.6/dist-packages\n",
            "Searching for pandas==1.0.3\n",
            "Best match: pandas 1.0.3\n",
            "Adding pandas 1.0.3 to easy-install.pth file\n",
            "\n",
            "Using /usr/local/lib/python3.6/dist-packages\n",
            "Searching for tensorflow==2.2.0rc2\n",
            "Best match: tensorflow 2.2.0rc2\n",
            "Adding tensorflow 2.2.0rc2 to easy-install.pth file\n",
            "Installing estimator_ckpt_converter script to /usr/local/bin\n",
            "Installing saved_model_cli script to /usr/local/bin\n",
            "Installing tensorboard script to /usr/local/bin\n",
            "Installing tf_upgrade_v2 script to /usr/local/bin\n",
            "Installing tflite_convert script to /usr/local/bin\n",
            "Installing toco script to /usr/local/bin\n",
            "Installing toco_from_protos script to /usr/local/bin\n",
            "\n",
            "Using /usr/local/lib/python3.6/dist-packages\n",
            "Searching for numpy==1.18.2\n",
            "Best match: numpy 1.18.2\n",
            "Adding numpy 1.18.2 to easy-install.pth file\n",
            "Installing f2py script to /usr/local/bin\n",
            "Installing f2py3 script to /usr/local/bin\n",
            "Installing f2py3.6 script to /usr/local/bin\n",
            "\n",
            "Using /usr/local/lib/python3.6/dist-packages\n",
            "Searching for kaggle==1.5.6\n",
            "Best match: kaggle 1.5.6\n",
            "Adding kaggle 1.5.6 to easy-install.pth file\n",
            "Installing kaggle script to /usr/local/bin\n",
            "\n",
            "Using /usr/local/lib/python3.6/dist-packages\n",
            "Searching for python-dateutil==2.8.1\n",
            "Best match: python-dateutil 2.8.1\n",
            "Adding python-dateutil 2.8.1 to easy-install.pth file\n",
            "\n",
            "Using /usr/local/lib/python3.6/dist-packages\n",
            "Searching for pytz==2018.9\n",
            "Best match: pytz 2018.9\n",
            "Adding pytz 2018.9 to easy-install.pth file\n",
            "\n",
            "Using /usr/local/lib/python3.6/dist-packages\n",
            "Searching for absl-py==0.9.0\n",
            "Best match: absl-py 0.9.0\n",
            "Adding absl-py 0.9.0 to easy-install.pth file\n",
            "\n",
            "Using /usr/local/lib/python3.6/dist-packages\n",
            "Searching for tensorflow-estimator==2.2.0rc0\n",
            "Best match: tensorflow-estimator 2.2.0rc0\n",
            "Adding tensorflow-estimator 2.2.0rc0 to easy-install.pth file\n",
            "\n",
            "Using /usr/local/lib/python3.6/dist-packages\n",
            "Searching for google-pasta==0.2.0\n",
            "Best match: google-pasta 0.2.0\n",
            "Adding google-pasta 0.2.0 to easy-install.pth file\n",
            "\n",
            "Using /usr/local/lib/python3.6/dist-packages\n",
            "Searching for protobuf==3.10.0\n",
            "Best match: protobuf 3.10.0\n",
            "Adding protobuf 3.10.0 to easy-install.pth file\n",
            "\n",
            "Using /usr/local/lib/python3.6/dist-packages\n",
            "Searching for Keras-Preprocessing==1.1.0\n",
            "Best match: Keras-Preprocessing 1.1.0\n",
            "Adding Keras-Preprocessing 1.1.0 to easy-install.pth file\n",
            "\n",
            "Using /usr/local/lib/python3.6/dist-packages\n",
            "Searching for wrapt==1.12.1\n",
            "Best match: wrapt 1.12.1\n",
            "Adding wrapt 1.12.1 to easy-install.pth file\n",
            "\n",
            "Using /usr/local/lib/python3.6/dist-packages\n",
            "Searching for h5py==2.10.0\n",
            "Best match: h5py 2.10.0\n",
            "Adding h5py 2.10.0 to easy-install.pth file\n",
            "\n",
            "Using /usr/local/lib/python3.6/dist-packages\n",
            "Searching for scipy==1.4.1\n",
            "Best match: scipy 1.4.1\n",
            "Adding scipy 1.4.1 to easy-install.pth file\n",
            "\n",
            "Using /usr/local/lib/python3.6/dist-packages\n",
            "Searching for termcolor==1.1.0\n",
            "Best match: termcolor 1.1.0\n",
            "Adding termcolor 1.1.0 to easy-install.pth file\n",
            "\n",
            "Using /usr/local/lib/python3.6/dist-packages\n",
            "Searching for opt-einsum==3.2.0\n",
            "Best match: opt-einsum 3.2.0\n",
            "Adding opt-einsum 3.2.0 to easy-install.pth file\n",
            "\n",
            "Using /usr/local/lib/python3.6/dist-packages\n",
            "Searching for six==1.12.0\n",
            "Best match: six 1.12.0\n",
            "Adding six 1.12.0 to easy-install.pth file\n",
            "\n",
            "Using /usr/local/lib/python3.6/dist-packages\n",
            "Searching for gast==0.3.3\n",
            "Best match: gast 0.3.3\n",
            "Adding gast 0.3.3 to easy-install.pth file\n",
            "\n",
            "Using /usr/local/lib/python3.6/dist-packages\n",
            "Searching for tensorboard==2.2.0\n",
            "Best match: tensorboard 2.2.0\n",
            "Adding tensorboard 2.2.0 to easy-install.pth file\n",
            "Installing tensorboard script to /usr/local/bin\n",
            "\n",
            "Using /usr/local/lib/python3.6/dist-packages\n",
            "Searching for astunparse==1.6.3\n",
            "Best match: astunparse 1.6.3\n",
            "Adding astunparse 1.6.3 to easy-install.pth file\n",
            "\n",
            "Using /usr/local/lib/python3.6/dist-packages\n",
            "Searching for wheel==0.34.2\n",
            "Best match: wheel 0.34.2\n",
            "Adding wheel 0.34.2 to easy-install.pth file\n",
            "Installing wheel script to /usr/local/bin\n",
            "\n",
            "Using /usr/local/lib/python3.6/dist-packages\n",
            "Searching for tqdm==4.38.0\n",
            "Best match: tqdm 4.38.0\n",
            "Adding tqdm 4.38.0 to easy-install.pth file\n",
            "Installing tqdm script to /usr/local/bin\n",
            "\n",
            "Using /usr/local/lib/python3.6/dist-packages\n",
            "Searching for requests==2.21.0\n",
            "Best match: requests 2.21.0\n",
            "Adding requests 2.21.0 to easy-install.pth file\n",
            "\n",
            "Using /usr/local/lib/python3.6/dist-packages\n",
            "Searching for urllib3==1.24.3\n",
            "Best match: urllib3 1.24.3\n",
            "Adding urllib3 1.24.3 to easy-install.pth file\n",
            "\n",
            "Using /usr/local/lib/python3.6/dist-packages\n",
            "Searching for python-slugify==4.0.0\n",
            "Best match: python-slugify 4.0.0\n",
            "Adding python-slugify 4.0.0 to easy-install.pth file\n",
            "Installing slugify script to /usr/local/bin\n",
            "\n",
            "Using /usr/local/lib/python3.6/dist-packages\n",
            "Searching for certifi==2020.4.5.1\n",
            "Best match: certifi 2020.4.5.1\n",
            "Adding certifi 2020.4.5.1 to easy-install.pth file\n",
            "\n",
            "Using /usr/local/lib/python3.6/dist-packages\n",
            "Searching for setuptools==46.1.3\n",
            "Best match: setuptools 46.1.3\n",
            "Adding setuptools 46.1.3 to easy-install.pth file\n",
            "Installing easy_install script to /usr/local/bin\n",
            "Installing easy_install-3.8 script to /usr/local/bin\n",
            "\n",
            "Using /usr/local/lib/python3.6/dist-packages\n",
            "Searching for Werkzeug==1.0.1\n",
            "Best match: Werkzeug 1.0.1\n",
            "Adding Werkzeug 1.0.1 to easy-install.pth file\n",
            "\n",
            "Using /usr/local/lib/python3.6/dist-packages\n",
            "Searching for tensorboard-plugin-wit==1.6.0.post3\n",
            "Best match: tensorboard-plugin-wit 1.6.0.post3\n",
            "Adding tensorboard-plugin-wit 1.6.0.post3 to easy-install.pth file\n",
            "\n",
            "Using /usr/local/lib/python3.6/dist-packages\n",
            "Searching for google-auth==1.7.2\n",
            "Best match: google-auth 1.7.2\n",
            "Adding google-auth 1.7.2 to easy-install.pth file\n",
            "\n",
            "Using /usr/local/lib/python3.6/dist-packages\n",
            "Searching for Markdown==3.2.1\n",
            "Best match: Markdown 3.2.1\n",
            "Adding Markdown 3.2.1 to easy-install.pth file\n",
            "Installing markdown_py script to /usr/local/bin\n",
            "\n",
            "Using /usr/local/lib/python3.6/dist-packages\n",
            "Searching for google-auth-oauthlib==0.4.1\n",
            "Best match: google-auth-oauthlib 0.4.1\n",
            "Adding google-auth-oauthlib 0.4.1 to easy-install.pth file\n",
            "Installing google-oauthlib-tool script to /usr/local/bin\n",
            "\n",
            "Using /usr/local/lib/python3.6/dist-packages\n",
            "Searching for idna==2.8\n",
            "Best match: idna 2.8\n",
            "Adding idna 2.8 to easy-install.pth file\n",
            "\n",
            "Using /usr/local/lib/python3.6/dist-packages\n",
            "Searching for chardet==3.0.4\n",
            "Best match: chardet 3.0.4\n",
            "Adding chardet 3.0.4 to easy-install.pth file\n",
            "Installing chardetect script to /usr/local/bin\n",
            "\n",
            "Using /usr/local/lib/python3.6/dist-packages\n",
            "Searching for text-unidecode==1.3\n",
            "Best match: text-unidecode 1.3\n",
            "Adding text-unidecode 1.3 to easy-install.pth file\n",
            "\n",
            "Using /usr/local/lib/python3.6/dist-packages\n",
            "Searching for pyasn1-modules==0.2.8\n",
            "Best match: pyasn1-modules 0.2.8\n",
            "Adding pyasn1-modules 0.2.8 to easy-install.pth file\n",
            "\n",
            "Using /usr/local/lib/python3.6/dist-packages\n",
            "Searching for rsa==4.0\n",
            "Best match: rsa 4.0\n",
            "Adding rsa 4.0 to easy-install.pth file\n",
            "Installing pyrsa-decrypt script to /usr/local/bin\n",
            "Installing pyrsa-encrypt script to /usr/local/bin\n",
            "Installing pyrsa-keygen script to /usr/local/bin\n",
            "Installing pyrsa-priv2pub script to /usr/local/bin\n",
            "Installing pyrsa-sign script to /usr/local/bin\n",
            "Installing pyrsa-verify script to /usr/local/bin\n",
            "\n",
            "Using /usr/local/lib/python3.6/dist-packages\n",
            "Searching for cachetools==3.1.1\n",
            "Best match: cachetools 3.1.1\n",
            "Adding cachetools 3.1.1 to easy-install.pth file\n",
            "\n",
            "Using /usr/local/lib/python3.6/dist-packages\n",
            "Searching for requests-oauthlib==1.3.0\n",
            "Best match: requests-oauthlib 1.3.0\n",
            "Adding requests-oauthlib 1.3.0 to easy-install.pth file\n",
            "\n",
            "Using /usr/local/lib/python3.6/dist-packages\n",
            "Searching for pyasn1==0.4.8\n",
            "Best match: pyasn1 0.4.8\n",
            "Adding pyasn1 0.4.8 to easy-install.pth file\n",
            "\n",
            "Using /usr/local/lib/python3.6/dist-packages\n",
            "Searching for oauthlib==3.1.0\n",
            "Best match: oauthlib 3.1.0\n",
            "Adding oauthlib 3.1.0 to easy-install.pth file\n",
            "\n",
            "Using /usr/local/lib/python3.6/dist-packages\n",
            "Finished processing dependencies for deblurrer==1.0.0\n"
          ],
          "name": "stdout"
        },
        {
          "output_type": "stream",
          "text": [
            "zip_safe flag not set; analyzing archive contents...\n",
            "deblurrer.scripts.datasets.__pycache__.compile_all.cpython-36: module references __file__\n",
            "deblurrer.scripts.datasets.__pycache__.download.cpython-36: module references __file__\n",
            "deblurrer.scripts.datasets.__pycache__.generate_csv.cpython-36: module references __file__\n",
            "deblurrer.scripts.datasets.__pycache__.generate_dataset.cpython-36: module references __file__\n",
            "deblurrer.scripts.datasets.__pycache__.generate_tfrecord.cpython-36: module references __file__\n",
            "deblurrer.scripts.datasets.__pycache__.kaggle_blur.cpython-36: module references __file__\n",
            "deblurrer.scripts.training.__pycache__.train.cpython-36: module references __file__\n"
          ],
          "name": "stderr"
        }
      ]
    },
    {
      "cell_type": "code",
      "metadata": {
        "id": "QiHgE11upeFI",
        "colab_type": "code",
        "colab": {}
      },
      "source": [
        "# Add deblurrer package to path\n",
        "\n",
        "import sys\n",
        "sys.path += ['/content/deep-deblurring/model']"
      ],
      "execution_count": 0,
      "outputs": []
    },
    {
      "cell_type": "markdown",
      "metadata": {
        "id": "Lyy74w8vXYPP",
        "colab_type": "text"
      },
      "source": [
        "# Data Download"
      ]
    },
    {
      "cell_type": "code",
      "metadata": {
        "id": "ncKqHg3fP_6j",
        "colab_type": "code",
        "colab": {}
      },
      "source": [
        "# Setup credentials from google drive and imports\n",
        "\n",
        "import colab_env\n",
        "import os\n",
        "import tensorflow as tf"
      ],
      "execution_count": 0,
      "outputs": []
    },
    {
      "cell_type": "code",
      "metadata": {
        "id": "eLhJqYavXXTX",
        "colab_type": "code",
        "outputId": "275e2aa4-2043-4c4b-e5c3-13ba65cd9f59",
        "colab": {
          "base_uri": "https://localhost:8080/",
          "height": 202
        }
      },
      "source": [
        "from deblurrer.scripts.datasets import  compile_all\n",
        "\n",
        "compile_all.run('/content/deep-deblurring/model/datasets')"
      ],
      "execution_count": 5,
      "outputs": [
        {
          "output_type": "stream",
          "text": [
            "Downloading kaggle_blur\n"
          ],
          "name": "stdout"
        },
        {
          "output_type": "stream",
          "text": [
            "\r  0%|          | 0.00/1.49G [00:00<?, ?B/s]"
          ],
          "name": "stderr"
        },
        {
          "output_type": "stream",
          "text": [
            "Downloading blur-dataset.zip to /content/deep-deblurring/model/datasets/kaggle_blur\n"
          ],
          "name": "stdout"
        },
        {
          "output_type": "stream",
          "text": [
            "100%|██████████| 1.49G/1.49G [00:35<00:00, 45.5MB/s]\n"
          ],
          "name": "stderr"
        },
        {
          "output_type": "stream",
          "text": [
            "\n",
            "Generating .csv files\n",
            ".csv files successfully generated\n",
            "Generating TFRecords\n",
            "Generating train.csv TFRecords\n",
            "Generating valid.csv TFRecords\n",
            "Generating test.csv TFRecords\n",
            "TFRecords succesfully generated\n"
          ],
          "name": "stdout"
        }
      ]
    },
    {
      "cell_type": "markdown",
      "metadata": {
        "id": "tadLG-QLxfuw",
        "colab_type": "text"
      },
      "source": [
        "# Hyper-Parameters"
      ]
    },
    {
      "cell_type": "code",
      "metadata": {
        "id": "XstJKbWNxkeD",
        "colab_type": "code",
        "colab": {}
      },
      "source": [
        "os.environ['EPOCHS'] = '1'\n",
        "os.environ['BATCH_SIZE'] = '4'\n",
        "os.environ['IMAGE_SIZE'] = '128'\n",
        "os.environ['IMAGE_SIZE_MULTIPLIER'] = '2'\n",
        "os.environ['FPN_CHANNELS'] = '128'\n",
        "os.environ['DISC_FILTERS'] = '6'\n",
        "os.environ['DISC_CONV_COUNT'] = '2'\n",
        "os.environ['GEN_LR'] = '0.00001'\n",
        "os.environ['DISC_LR'] = '0.00001'\n",
        "os.environ['USE_MIXED_PRECISION'] = '0'"
      ],
      "execution_count": 0,
      "outputs": []
    },
    {
      "cell_type": "markdown",
      "metadata": {
        "id": "R7zhQeHhxu6V",
        "colab_type": "text"
      },
      "source": [
        "# Training"
      ]
    },
    {
      "cell_type": "code",
      "metadata": {
        "id": "wekGwrJExuUC",
        "colab_type": "code",
        "colab": {
          "base_uri": "https://localhost:8080/",
          "height": 390
        },
        "outputId": "004c7726-ff7e-4628-b057-050fc229696e"
      },
      "source": [
        "# Starts training\n",
        "\n",
        "from deblurrer.scripts.training import train\n",
        "\n",
        "model, gen_opt, disc_opt, strategy = train.run(\n",
        "    '/content/deep-deblurring/model/datasets/tfrecords',\n",
        "    output_folder='/content/deep-deblurring/model/output',\n",
        "    warm_epochs=0,\n",
        ")"
      ],
      "execution_count": 7,
      "outputs": [
        {
          "output_type": "stream",
          "text": [
            "WARNING:tensorflow:`input_shape` is undefined or non-square, or `rows` is not in [96, 128, 160, 192, 224]. Weights for input shape (224, 224) will be loaded as the default.\n",
            "Downloading data from https://storage.googleapis.com/tensorflow/keras-applications/mobilenet_v2/mobilenet_v2_weights_tf_dim_ordering_tf_kernels_1.0_224_no_top.h5\n",
            "9412608/9406464 [==============================] - 0s 0us/step\n",
            "Downloading data from https://storage.googleapis.com/tensorflow/keras-applications/vgg19/vgg19_weights_tf_dim_ordering_tf_kernels_notop.h5\n",
            "80142336/80134624 [==============================] - 0s 0us/step\n",
            "Model: \"deblur_gan\"\n",
            "_________________________________________________________________\n",
            "Layer (type)                 Output Shape              Param #   \n",
            "=================================================================\n",
            "fpn_generator (FPNGenerator) multiple                  5236175   \n",
            "_________________________________________________________________\n",
            "double_scale_discriminator ( multiple                  6973590   \n",
            "_________________________________________________________________\n",
            "model_1 (Model)              (None, None, None, 256)   1735488   \n",
            "=================================================================\n",
            "Total params: 13,945,253\n",
            "Trainable params: 13,908,887\n",
            "Non-trainable params: 36,366\n",
            "_________________________________________________________________\n",
            "Starting model training...\n",
            "132/132 [==============================] - 32s 243ms/step - gen_loss: 0.1910 - disc_loss: 3.9318 - val_gen_loss: 0.1047 - val_disc_loss: 3.8850\n"
          ],
          "name": "stdout"
        }
      ]
    },
    {
      "cell_type": "code",
      "metadata": {
        "id": "-WXLuHHP1cPL",
        "colab_type": "code",
        "colab": {}
      },
      "source": [
        "model, gen_opt, disc_opt, strategy = train.run(\n",
        "    '/content/deep-deblurring/datasets/tfrecords',\n",
        "    model,\n",
        "    gen_opt,\n",
        "    disc_opt,\n",
        "    strategy,\n",
        "    output_folder='/content/deep-deblurring/output'\n",
        ")"
      ],
      "execution_count": 0,
      "outputs": []
    },
    {
      "cell_type": "markdown",
      "metadata": {
        "id": "TQfAjTW_MHgm",
        "colab_type": "text"
      },
      "source": [
        "# Model Saving and serving"
      ]
    },
    {
      "cell_type": "code",
      "metadata": {
        "id": "ZGjelB-DMT7t",
        "colab_type": "code",
        "colab": {
          "base_uri": "https://localhost:8080/",
          "height": 34
        },
        "outputId": "72ec8416-bbf4-4864-9ea4-0110b96a9b54"
      },
      "source": [
        "# This will clone the serving repo\n",
        "\n",
        "# Executes the cell in bash mode\n",
        "%%bash\n",
        "\n",
        "if [ ! -d \"/content/deep-deblurring-serving/\" ]; \n",
        "    then \n",
        "        git clone https://github.com/ElPapi42/deep-deblurring-serving;\n",
        "    else \n",
        "        git pull; \n",
        "fi;"
      ],
      "execution_count": 8,
      "outputs": [
        {
          "output_type": "stream",
          "text": [
            "Cloning into 'deep-deblurring-serving'...\n"
          ],
          "name": "stderr"
        }
      ]
    },
    {
      "cell_type": "code",
      "metadata": {
        "id": "MagMbDr8L6Ar",
        "colab_type": "code",
        "colab": {
          "base_uri": "https://localhost:8080/",
          "height": 138
        },
        "outputId": "5bacad49-9ebd-4597-c231-ff8eb754934e"
      },
      "source": [
        "# Execute this code for save the generator and serve it\n",
        "\n",
        "save_path = '/content/deep-deblurring-serving/models/deblurrer/'\n",
        "\n",
        "versions = os.listdir(save_path)\n",
        "versions = [int(ver) for ver in versions]\n",
        "new_version = max(versions) + 1\n",
        "\n",
        "tf.saved_model.save(\n",
        "    model.generator,\n",
        "    '{path}{name}'.format(\n",
        "        path=save_path,\n",
        "        name=new_version,\n",
        "    ),\n",
        ")"
      ],
      "execution_count": 14,
      "outputs": [
        {
          "output_type": "stream",
          "text": [
            "WARNING:tensorflow:Skipping full serialization of Keras layer <tensorflow.python.keras.layers.convolutional.UpSampling2D object at 0x7fd88ba3e9e8>, because it is not built.\n",
            "WARNING:tensorflow:Skipping full serialization of Keras layer <tensorflow.python.keras.layers.advanced_activations.ReLU object at 0x7fd88ba78cc0>, because it is not built.\n",
            "WARNING:tensorflow:From /usr/local/lib/python3.6/dist-packages/tensorflow/python/ops/resource_variable_ops.py:1817: calling BaseResourceVariable.__init__ (from tensorflow.python.ops.resource_variable_ops) with constraint is deprecated and will be removed in a future version.\n",
            "Instructions for updating:\n",
            "If using Keras pass *_constraint arguments to layers.\n",
            "INFO:tensorflow:Assets written to: /content/deep-deblurring-serving/models/deblurrer//127/assets\n"
          ],
          "name": "stdout"
        }
      ]
    }
  ]
}