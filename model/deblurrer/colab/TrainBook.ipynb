{
  "nbformat": 4,
  "nbformat_minor": 0,
  "metadata": {
    "colab": {
      "name": "TrainingPipeline.ipynb",
      "provenance": [],
      "toc_visible": true
    },
    "kernelspec": {
      "name": "python3",
      "display_name": "Python 3"
    },
    "accelerator": "GPU"
  },
  "cells": [
    {
      "cell_type": "markdown",
      "metadata": {
        "colab_type": "text",
        "id": "1dlnuW3PXug4"
      },
      "source": [
        "This Notebook will present the results of the Exploratory Data Analysis"
      ]
    },
    {
      "cell_type": "markdown",
      "metadata": {
        "id": "RrvHAc8OXfqj",
        "colab_type": "text"
      },
      "source": [
        "# Clone Repository"
      ]
    },
    {
      "cell_type": "code",
      "metadata": {
        "id": "Ftt1Y5NCXk3E",
        "colab_type": "code",
        "outputId": "6e22f09d-9891-45fc-cb22-5677befa55f4",
        "colab": {
          "base_uri": "https://localhost:8080/",
          "height": 67
        }
      },
      "source": [
        "# Executes the cell in bash mode\n",
        "%%bash\n",
        "\n",
        "if [ ! -d \"/content/deep-deblurring/\" ]; \n",
        "    then \n",
        "        git clone https://github.com/ElPapi42/deep-deblurring;\n",
        "        cd deep-deblurring/\n",
        "    else \n",
        "        cd deep-deblurring/; \n",
        "        git pull; \n",
        "fi;\n",
        "\n",
        "git checkout development\n",
        "cd .."
      ],
      "execution_count": 1,
      "outputs": [
        {
          "output_type": "stream",
          "text": [
            "Branch 'book_save' set up to track remote branch 'book_save' from 'origin'.\n"
          ],
          "name": "stdout"
        },
        {
          "output_type": "stream",
          "text": [
            "Cloning into 'deep-deblurring'...\n",
            "Switched to a new branch 'book_save'\n"
          ],
          "name": "stderr"
        }
      ]
    },
    {
      "cell_type": "markdown",
      "metadata": {
        "id": "xWHANHmdSYXg",
        "colab_type": "text"
      },
      "source": [
        "# Install Requirements"
      ]
    },
    {
      "cell_type": "code",
      "metadata": {
        "id": "80rBf-xcQTqb",
        "colab_type": "code",
        "colab": {}
      },
      "source": [
        "# Executes the cell in bash mode\n",
        "%%bash\n",
        "\n",
        "#pip uninstall -y tensorflow tensor2tensor tensorboard tensorboardcolab tensorflow-datasets tensorflow-estimator tensorflow-gan tensorflow-hub tensorflow-metadata tensorflow-privacy tensorflow-probability\n",
        "\n",
        "pip install colab-env\n",
        "pip install --upgrade grpcio\n",
        "\n",
        "#pip install -r \"/content/deep-deblurring/model/requirements.txt\"\n",
        "\n",
        "cd deep-deblurring/model/\n",
        "python setup.py install\n",
        "cd /content/"
      ],
      "execution_count": 0,
      "outputs": []
    },
    {
      "cell_type": "code",
      "metadata": {
        "id": "QiHgE11upeFI",
        "colab_type": "code",
        "colab": {}
      },
      "source": [
        "# Add deblurrer package to path\n",
        "\n",
        "import sys\n",
        "sys.path += ['/content/deep-deblurring/model']"
      ],
      "execution_count": 0,
      "outputs": []
    },
    {
      "cell_type": "markdown",
      "metadata": {
        "id": "Lyy74w8vXYPP",
        "colab_type": "text"
      },
      "source": [
        "# Data Download"
      ]
    },
    {
      "cell_type": "code",
      "metadata": {
        "id": "ncKqHg3fP_6j",
        "colab_type": "code",
        "outputId": "e10ad55a-37d5-44f8-dd14-86acb2427dad",
        "colab": {
          "base_uri": "https://localhost:8080/",
          "height": 121
        }
      },
      "source": [
        "# Setup credentials from google drive\n",
        "\n",
        "import colab_env"
      ],
      "execution_count": 5,
      "outputs": [
        {
          "output_type": "stream",
          "text": [
            "Go to this URL in a browser: https://accounts.google.com/o/oauth2/auth?client_id=947318989803-6bn6qk8qdgf4n4g3pfee6491hc0brc4i.apps.googleusercontent.com&redirect_uri=urn%3aietf%3awg%3aoauth%3a2.0%3aoob&response_type=code&scope=email%20https%3a%2f%2fwww.googleapis.com%2fauth%2fdocs.test%20https%3a%2f%2fwww.googleapis.com%2fauth%2fdrive%20https%3a%2f%2fwww.googleapis.com%2fauth%2fdrive.photos.readonly%20https%3a%2f%2fwww.googleapis.com%2fauth%2fpeopleapi.readonly\n",
            "\n",
            "Enter your authorization code:\n",
            "··········\n",
            "Mounted at /content/gdrive\n"
          ],
          "name": "stdout"
        }
      ]
    },
    {
      "cell_type": "code",
      "metadata": {
        "id": "eLhJqYavXXTX",
        "colab_type": "code",
        "outputId": "33379f31-9048-465b-87db-54a20d8c124b",
        "colab": {
          "base_uri": "https://localhost:8080/",
          "height": 202
        }
      },
      "source": [
        "from deblurrer.scripts.datasets import  compile_all\n",
        "\n",
        "compile_all.run('/content/deep-deblurring/model/datasets')"
      ],
      "execution_count": 6,
      "outputs": [
        {
          "output_type": "stream",
          "text": [
            "Downloading kaggle_blur\n"
          ],
          "name": "stdout"
        },
        {
          "output_type": "stream",
          "text": [
            "\r  0%|          | 0.00/1.49G [00:00<?, ?B/s]"
          ],
          "name": "stderr"
        },
        {
          "output_type": "stream",
          "text": [
            "Downloading blur-dataset.zip to /content/deep-deblurring/model/datasets/kaggle_blur\n"
          ],
          "name": "stdout"
        },
        {
          "output_type": "stream",
          "text": [
            "100%|██████████| 1.49G/1.49G [00:42<00:00, 38.1MB/s]\n"
          ],
          "name": "stderr"
        },
        {
          "output_type": "stream",
          "text": [
            "\n",
            "Generating .csv files\n",
            ".csv files successfully generated\n",
            "Generating TFRecords\n",
            "Generating train.csv TFRecords\n",
            "Generating valid.csv TFRecords\n",
            "Generating test.csv TFRecords\n",
            "TFRecords succesfully generated\n"
          ],
          "name": "stdout"
        }
      ]
    },
    {
      "cell_type": "markdown",
      "metadata": {
        "id": "tadLG-QLxfuw",
        "colab_type": "text"
      },
      "source": [
        "# Hyper-Parameters"
      ]
    },
    {
      "cell_type": "code",
      "metadata": {
        "id": "XstJKbWNxkeD",
        "colab_type": "code",
        "colab": {}
      },
      "source": [
        "import os\n",
        "\n",
        "os.environ['EPOCHS'] = '1'\n",
        "os.environ['BATCH_SIZE'] = '4'\n",
        "os.environ['IMAGE_SIZE'] = '128'\n",
        "os.environ['IMAGE_SIZE_MULTIPLIER'] = '2'\n",
        "os.environ['FPN_CHANNELS'] = '128'\n",
        "os.environ['DISC_FILTERS'] = '6'\n",
        "os.environ['DISC_CONV_COUNT'] = '2'\n",
        "os.environ['GEN_LR'] = '0.00001'\n",
        "os.environ['DISC_LR'] = '0.00001'\n",
        "os.environ['USE_MIXED_PRECISION'] = '0'"
      ],
      "execution_count": 0,
      "outputs": []
    },
    {
      "cell_type": "markdown",
      "metadata": {
        "id": "R7zhQeHhxu6V",
        "colab_type": "text"
      },
      "source": [
        "# Training"
      ]
    },
    {
      "cell_type": "code",
      "metadata": {
        "id": "wekGwrJExuUC",
        "colab_type": "code",
        "colab": {
          "base_uri": "https://localhost:8080/",
          "height": 390
        },
        "outputId": "21d89e42-ea25-4c86-c8c6-ec97ffedb7f4"
      },
      "source": [
        "# Starts training\n",
        "\n",
        "from deblurrer.scripts.training import train\n",
        "\n",
        "model, gen_opt, disc_opt, strategy = train.run(\n",
        "    '/content/deep-deblurring/model/datasets/tfrecords',\n",
        "    output_folder='/content/deep-deblurring/model/output',\n",
        "    warm_epochs=0,\n",
        ")"
      ],
      "execution_count": 10,
      "outputs": [
        {
          "output_type": "stream",
          "text": [
            "WARNING:tensorflow:`input_shape` is undefined or non-square, or `rows` is not in [96, 128, 160, 192, 224]. Weights for input shape (224, 224) will be loaded as the default.\n",
            "Downloading data from https://storage.googleapis.com/tensorflow/keras-applications/mobilenet_v2/mobilenet_v2_weights_tf_dim_ordering_tf_kernels_1.0_224_no_top.h5\n",
            "9412608/9406464 [==============================] - 0s 0us/step\n",
            "Downloading data from https://storage.googleapis.com/tensorflow/keras-applications/vgg19/vgg19_weights_tf_dim_ordering_tf_kernels_notop.h5\n",
            "80142336/80134624 [==============================] - 3s 0us/step\n",
            "Model: \"deblur_gan\"\n",
            "_________________________________________________________________\n",
            "Layer (type)                 Output Shape              Param #   \n",
            "=================================================================\n",
            "fpn_generator (FPNGenerator) multiple                  5236175   \n",
            "_________________________________________________________________\n",
            "double_scale_discriminator ( multiple                  6973590   \n",
            "_________________________________________________________________\n",
            "model_1 (Model)              (None, None, None, 256)   1735488   \n",
            "=================================================================\n",
            "Total params: 13,945,253\n",
            "Trainable params: 13,908,887\n",
            "Non-trainable params: 36,366\n",
            "_________________________________________________________________\n",
            "Starting model training...\n",
            "132/132 [==============================] - 35s 263ms/step - gen_loss: 0.2486 - disc_loss: 4.3435 - val_gen_loss: 0.1187 - val_disc_loss: 4.0852\n"
          ],
          "name": "stdout"
        }
      ]
    },
    {
      "cell_type": "code",
      "metadata": {
        "id": "-WXLuHHP1cPL",
        "colab_type": "code",
        "colab": {}
      },
      "source": [
        "model, gen_opt, disc_opt, strategy = train.run(\n",
        "    '/content/deep-deblurring/datasets/tfrecords',\n",
        "    model,\n",
        "    gen_opt,\n",
        "    disc_opt,\n",
        "    strategy,\n",
        "    output_folder='/content/deep-deblurring/output'\n",
        ")"
      ],
      "execution_count": 0,
      "outputs": []
    }
  ]
}